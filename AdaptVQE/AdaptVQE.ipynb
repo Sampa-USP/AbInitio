{
 "cells": [
  {
   "cell_type": "code",
   "execution_count": 31,
   "metadata": {},
   "outputs": [],
   "source": [
    "from qiskit_nature.units import *   #ANGSTROM\n",
    "from qiskit_nature.second_q.drivers import *    #PySCFDriver\n",
    "from qiskit_nature.second_q.mappers import * #JordanWignerMapper\n",
    "from qiskit_nature.second_q.algorithms import GroundStateEigensolver\n",
    "from qiskit_nature.second_q.problems import ElectronicStructureProblem\n",
    "from qiskit_nature.second_q.problems import EigenstateResult\n",
    "from qiskit_nature.second_q.circuit.library import *  #Ansatz, HF\n",
    "#from qiskit_ibm_runtime import QiskitRuntimeService, Session, Estimator, Options\n",
    "from qiskit_algorithms.optimizers import * \n",
    "from qiskit_algorithms import VQE\n",
    "from braket.tracking import Tracker\n",
    "from qiskit_braket_provider import *\n",
    "from qiskit_aer import StatevectorSimulator\n",
    "from qiskit.primitives import Estimator\n",
    "from qiskit_nature.second_q.transformers import ActiveSpaceTransformer\n",
    "from qiskit_algorithms import AdaptVQE\n",
    "\n",
    "import matplotlib.pyplot as plt\n",
    "import numpy as np"
   ]
  },
  {
   "cell_type": "code",
   "execution_count": 19,
   "metadata": {},
   "outputs": [],
   "source": [
    "\"\"\"\n",
    "        Estamos criando algumas funções de comparação de tempo de processamento para diversos métodos.\n",
    "        Criaremos para o h2 com (espaço ativo + tappering) e um h2 com (Espaço Ativo + Tapering + Adapt-VQE) \n",
    "\"\"\"\n",
    "\n",
    "\n",
    "def h2_active_space(d):\n",
    "\n",
    "    driver = PySCFDriver(atom=f\"H 0 0 0; H 0 0 {d}\", basis=\"sto-3g\")\n",
    "    estrutura_inicial = driver.run() #Criamos a estrutura do nosso sistema\n",
    "\n",
    "    espaco_target = ActiveSpaceTransformer(2,2) #Active Space para o H2\n",
    "    estrutura_otimizada = espaco_target.transform(estrutura_inicial) #mudando nossa hamiltoniana para o active space\n",
    "\n",
    "    #Fazemos a redução por mapeamento e simetria\n",
    "    mapper = estrutura_otimizada.get_tapered_mapper(BravyiKitaevMapper())\n",
    "\n",
    "    ansatz = UCCSD(\n",
    "        estrutura_otimizada.num_spatial_orbitals,\n",
    "        estrutura_otimizada.num_particles,\n",
    "        mapper,\n",
    "        initial_state=HartreeFock(\n",
    "            estrutura_otimizada.num_spatial_orbitals,\n",
    "            estrutura_otimizada.num_particles,\n",
    "            mapper))\n",
    "\n",
    "\n",
    "    vqe_solver = VQE(Estimator(), ansatz, SLSQP())\n",
    "    vqe_solver.initial_point = [0.0] * ansatz.num_parameters\n",
    "    calculo = GroundStateEigensolver(mapper, vqe_solver)\n",
    "    resultados = calculo.solve(estrutura_otimizada)\n",
    "\n",
    "    return [resultados.groundenergy + resultados.nuclear_repulsion_energy, resultados.groundenergy, resultados.nuclear_repulsion_energy]\n",
    "\n",
    "def h2_adapt(d):\n",
    "\n",
    "    driver = PySCFDriver(atom=f\"H 0 0 0; H 0 0 {d}\", basis=\"sto-3g\")\n",
    "    estrutura_inicial = driver.run() #Criamos a estrutura do nosso sistema\n",
    "\n",
    "    #Pegamos os espaço ativo\n",
    "    espaco_target = ActiveSpaceTransformer(2,2) #Active Space para o H2\n",
    "    estrutura_otimizada = espaco_target.transform(estrutura_inicial) #mudando nossa hamiltoniana para o active space\n",
    "\n",
    "    #Fazemos a redução por mapeamento e simetria\n",
    "    mapper = estrutura_otimizada.get_tapered_mapper(BravyiKitaevMapper())\n",
    "\n",
    "    #Criação do Ansatz\n",
    "    ansatz = UCCSD(\n",
    "        estrutura_otimizada.num_spatial_orbitals,\n",
    "        estrutura_otimizada.num_particles,\n",
    "        mapper,\n",
    "        initial_state=HartreeFock(\n",
    "            estrutura_otimizada.num_spatial_orbitals,\n",
    "            estrutura_otimizada.num_particles,\n",
    "            mapper))\n",
    "\n",
    "    #Configurando o VQE\n",
    "    vqe_solver = VQE(Estimator(), ansatz, SLSQP())\n",
    "    vqe_solver.initial_point = [0.0] * ansatz.num_parameters\n",
    "\n",
    "    #Fechando com o Adapt\n",
    "    adapt_vqe = AdaptVQE(vqe_solver)\n",
    "    adapt_vqe.supports_aux_operators = lambda: True\n",
    "\n",
    "    #Calculando o GS da molécula\n",
    "    calculo = GroundStateEigensolver(mapper, adapt_vqe)\n",
    "    resultados = calculo.solve(estrutura_otimizada)\n",
    "\n",
    "    return [resultados.groundenergy + resultados.nuclear_repulsion_energy, resultados.groundenergy, resultados.nuclear_repulsion_energy]"
   ]
  },
  {
   "cell_type": "code",
   "execution_count": 21,
   "metadata": {},
   "outputs": [
    {
     "data": {
      "text/plain": [
       "27"
      ]
     },
     "execution_count": 21,
     "metadata": {},
     "output_type": "execute_result"
    }
   ],
   "source": [
    "#Intervalo usado para a distância\n",
    "intervalo = np.arange(0.3,3,0.1)\n",
    "len(intervalo)\n",
    "\n",
    "\n",
    "#Gerando os nossos valores para plot\n",
    "h2_controle = [h2_active_space(d)[0] for d in intervalo]\n",
    "h2_otimizado = [h2_adapt(d)[0] for d in intervalo]"
   ]
  },
  {
   "cell_type": "code",
   "execution_count": 32,
   "metadata": {},
   "outputs": [
    {
     "data": {
      "text/plain": [
       "[<matplotlib.lines.Line2D at 0x7044c83ab8e0>]"
      ]
     },
     "execution_count": 32,
     "metadata": {},
     "output_type": "execute_result"
    },
    {
     "data": {
      "image/png": "[encoded data removed]",
      "text/plain": [
       "<Figure size 640x480 with 1 Axes>"
      ]
     },
     "metadata": {},
     "output_type": "display_data"
    }
   ],
   "source": [
    "plt.plot(intervalo, h2_controle)\n",
    "plt.plot(intervalo, h2_otimizado)"
   ]
  },
  {
   "cell_type": "markdown",
   "metadata": {},
   "source": [
    "No nosso caso mais otimizado possivel (Active Space + Tapering) o uso do Adapt-VQE produz um efeito negativo aumentando o tempo de processamento, muito possivelmente por termos que adicionar um passo a mais em um processo que já esta o mais simples possivel.\n"
   ]
  },
  {
   "cell_type": "markdown",
   "metadata": {},
   "source": [
    "Vamos observar como o Adapt-VQE performa em um caso um pouco mais complexo. Sem utilizar os métodos de performace.\n",
    "H2 Default e H2 + Adapt VQE\n"
   ]
  },
  {
   "cell_type": "code",
   "execution_count": 33,
   "metadata": {},
   "outputs": [],
   "source": [
    "def h2_padrao(d):\n",
    "\n",
    "    driver = PySCFDriver(atom=f\"H 0 0 0; H 0 0 {d}\", basis=\"sto-3g\")\n",
    "    estrutura_inicial = driver.run() #Criamos a estrutura do nosso sistema\n",
    "\n",
    "    mapper = BravyiKitaevMapper()\n",
    "    \n",
    "    #Criação do Ansatz\n",
    "    ansatz = UCCSD(\n",
    "        estrutura_inicial.num_spatial_orbitals,\n",
    "        estrutura_inicial.num_particles,\n",
    "        mapper,\n",
    "        initial_state=HartreeFock(\n",
    "            estrutura_inicial.num_spatial_orbitals,\n",
    "            estrutura_inicial.num_particles,\n",
    "            mapper))\n",
    "\n",
    "    #Configurando o VQE\n",
    "    vqe_solver = VQE(Estimator(), ansatz, SLSQP())\n",
    "    vqe_solver.initial_point = [0.0] * ansatz.num_parameters\n",
    "\n",
    "    #Calculando o GS da molécula\n",
    "    calculo = GroundStateEigensolver(mapper, vqe_solver)\n",
    "    resultados = calculo.solve(estrutura_inicial)\n",
    "\n",
    "    return resultados.groundenergy + resultados.nuclear_repulsion_energy"
   ]
  },
  {
   "cell_type": "code",
   "execution_count": 36,
   "metadata": {},
   "outputs": [],
   "source": [
    "def h2_adaptado(d):\n",
    "\n",
    "    driver = PySCFDriver(atom=f\"H 0 0 0; H 0 0 {d}\", basis=\"sto-3g\")\n",
    "    estrutura_inicial = driver.run() #Criamos a estrutura do nosso sistema\n",
    "\n",
    "    mapper = BravyiKitaevMapper()\n",
    "    \n",
    "    #Criação do Ansatz\n",
    "    ansatz = UCCSD(\n",
    "        estrutura_inicial.num_spatial_orbitals,\n",
    "        estrutura_inicial.num_particles,\n",
    "        mapper,\n",
    "        initial_state=HartreeFock(\n",
    "            estrutura_inicial.num_spatial_orbitals,\n",
    "            estrutura_inicial.num_particles,\n",
    "            mapper))\n",
    "\n",
    "    #Configurando o VQE\n",
    "    vqe_solver = VQE(Estimator(), ansatz, SLSQP())\n",
    "    vqe_solver.initial_point = [0.0] * ansatz.num_parameters\n",
    "\n",
    "    adapt_vqe = AdaptVQE(vqe_solver)\n",
    "    adapt_vqe.supports_aux_operators = lambda: True\n",
    "\n",
    "    #Calculando o GS da molécula\n",
    "    calculo = GroundStateEigensolver(mapper, adapt_vqe)\n",
    "    resultados = calculo.solve(estrutura_inicial)\n",
    "\n",
    "    return resultados.groundenergy + resultados.nuclear_repulsion_energy"
   ]
  },
  {
   "cell_type": "markdown",
   "metadata": {},
   "source": [
    "Marcação de tempo"
   ]
  },
  {
   "cell_type": "code",
   "execution_count": 39,
   "metadata": {},
   "outputs": [
    {
     "name": "stdout",
     "output_type": "stream",
     "text": [
      "19 s ± 591 ms per loop (mean ± std. dev. of 7 runs, 1 loop each)\n"
     ]
    }
   ],
   "source": [
    "%%timeit\n",
    "h2_vqe = [h2_adaptado(a) for a in intervalo]"
   ]
  },
  {
   "cell_type": "code",
   "execution_count": 40,
   "metadata": {},
   "outputs": [
    {
     "name": "stdout",
     "output_type": "stream",
     "text": [
      "27.5 s ± 1.1 s per loop (mean ± std. dev. of 7 runs, 1 loop each)\n"
     ]
    }
   ],
   "source": [
    "%%timeit\n",
    "h2_default = [h2_padrao(a) for a in intervalo]"
   ]
  },
  {
   "cell_type": "code",
   "execution_count": 1,
   "metadata": {},
   "outputs": [
    {
     "data": {
      "text/plain": [
       "0.3090909090909091"
      ]
     },
     "execution_count": 1,
     "metadata": {},
     "output_type": "execute_result"
    }
   ],
   "source": [
    "(27.5 - 19)/27.5"
   ]
  },
  {
   "cell_type": "markdown",
   "metadata": {},
   "source": [
    "O método onde usamos o Adapt VQE performou em um tempo 30% menor que o normal. sem perda na qualidade dos resultados."
   ]
  },
  {
   "cell_type": "code",
   "execution_count": 41,
   "metadata": {},
   "outputs": [
    {
     "data": {
      "text/plain": [
       "[<matplotlib.lines.Line2D at 0x70448ad2f790>]"
      ]
     },
     "execution_count": 41,
     "metadata": {},
     "output_type": "execute_result"
    },
    {
     "data": {
      "image/png": "[encoded data removed]",
      "text/plain": [
       "<Figure size 640x480 with 1 Axes>"
      ]
     },
     "metadata": {},
     "output_type": "display_data"
    }
   ],
   "source": [
    "plt.plot(intervalo, h2_default)\n",
    "plt.plot(intervalo, h2_vqe);"
   ]
  },
  {
   "cell_type": "code",
   "execution_count": null,
   "metadata": {},
   "outputs": [],
   "source": []
  }
 ],
 "metadata": {
  "kernelspec": {
   "display_name": "Python 3",
   "language": "python",
   "name": "python3"
  },
  "language_info": {
   "codemirror_mode": {
    "name": "ipython",
    "version": 3
   },
   "file_extension": ".py",
   "mimetype": "text/x-python",
   "name": "python",
   "nbconvert_exporter": "python",
   "pygments_lexer": "ipython3",
   "version": "3.10.12"
  }
 },
 "nbformat": 4,
 "nbformat_minor": 2
}
