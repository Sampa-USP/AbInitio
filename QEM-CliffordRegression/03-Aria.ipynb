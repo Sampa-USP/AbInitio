{
 "cells": [
  {
   "cell_type": "code",
   "execution_count": 53,
   "id": "ba504827-8380-46c1-ab45-2a2f9f9858b3",
   "metadata": {
    "tags": []
   },
   "outputs": [],
   "source": [
    "from braket.tracking import Tracker\n",
    "t = Tracker().start()"
   ]
  },
  {
   "cell_type": "code",
   "execution_count": 54,
   "id": "d13e2085-3633-44f3-92b1-59c920f978c3",
   "metadata": {
    "tags": []
   },
   "outputs": [],
   "source": [
    "# general imports\n",
    "import matplotlib.pyplot as plt\n",
    "import numpy as np\n",
    "# magic word for producing visualizations in notebook\n",
    "%matplotlib inline\n",
    "import string\n",
    "import time\n",
    "\n",
    "# AWS imports: Import Braket SDK modules\n",
    "from braket.aws import AwsDevice, AwsQuantumTask\n",
    "from braket.circuits import Circuit, Gate, observables\n",
    "from braket.device_schema import DeviceActionType\n",
    "from braket.devices import Devices, LocalSimulator\n",
    "from braket.parametric import FreeParameter"
   ]
  },
  {
   "cell_type": "code",
   "execution_count": null,
   "id": "28d51562-95e0-4d99-a7ce-41616234db2e",
   "metadata": {},
   "outputs": [],
   "source": [
    "aria = AwsDevice(Devices.IonQ.Harmony)\n",
    "supported_gates = harmony.properties.action[DeviceActionType.OPENQASM].supportedOperations\n",
    "# print the supported gate set\n",
    "print('Gate set supported by the IonQ device:\\n', supported_gates)\n",
    "print('\\n') "
   ]
  },
  {
   "cell_type": "code",
   "execution_count": 55,
   "id": "f628beac-93a8-4ab1-bb1a-4f385be21d90",
   "metadata": {
    "tags": []
   },
   "outputs": [
    {
     "data": {
      "text/plain": [
       "Circuit('instructions': [Instruction('operator': Ry('angle': 0.0, 'qubit_count': 1), 'target': QubitSet([Qubit(0)]), 'control': QubitSet([]), 'control_state': (), 'power': 1), Instruction('operator': Rz('angle': 0.36959914, 'qubit_count': 1), 'target': QubitSet([Qubit(0)]), 'control': QubitSet([]), 'control_state': (), 'power': 1), Instruction('operator': Ry('angle': 0.73919827, 'qubit_count': 1), 'target': QubitSet([Qubit(1)]), 'control': QubitSet([]), 'control_state': (), 'power': 1), Instruction('operator': Rz('angle': 1.10879741, 'qubit_count': 1), 'target': QubitSet([Qubit(1)]), 'control': QubitSet([]), 'control_state': (), 'power': 1), Instruction('operator': Ry('angle': 1.47839654, 'qubit_count': 1), 'target': QubitSet([Qubit(2)]), 'control': QubitSet([]), 'control_state': (), 'power': 1), Instruction('operator': Rz('angle': 1.84799568, 'qubit_count': 1), 'target': QubitSet([Qubit(2)]), 'control': QubitSet([]), 'control_state': (), 'power': 1), Instruction('operator': CNot('qubit_count': 2), 'target': QubitSet([Qubit(0), Qubit(1)]), 'control': QubitSet([]), 'control_state': (), 'power': 1), Instruction('operator': CNot('qubit_count': 2), 'target': QubitSet([Qubit(1), Qubit(2)]), 'control': QubitSet([]), 'control_state': (), 'power': 1), Instruction('operator': Ry('angle': 2.21759481, 'qubit_count': 1), 'target': QubitSet([Qubit(0)]), 'control': QubitSet([]), 'control_state': (), 'power': 1), Instruction('operator': Rz('angle': 2.58719395, 'qubit_count': 1), 'target': QubitSet([Qubit(0)]), 'control': QubitSet([]), 'control_state': (), 'power': 1), Instruction('operator': Ry('angle': 2.95679309, 'qubit_count': 1), 'target': QubitSet([Qubit(1)]), 'control': QubitSet([]), 'control_state': (), 'power': 1), Instruction('operator': Rz('angle': 3.32639222, 'qubit_count': 1), 'target': QubitSet([Qubit(1)]), 'control': QubitSet([]), 'control_state': (), 'power': 1), Instruction('operator': Ry('angle': 3.69599136, 'qubit_count': 1), 'target': QubitSet([Qubit(2)]), 'control': QubitSet([]), 'control_state': (), 'power': 1), Instruction('operator': Rz('angle': 4.06559049, 'qubit_count': 1), 'target': QubitSet([Qubit(2)]), 'control': QubitSet([]), 'control_state': (), 'power': 1), Instruction('operator': CNot('qubit_count': 2), 'target': QubitSet([Qubit(0), Qubit(1)]), 'control': QubitSet([]), 'control_state': (), 'power': 1), Instruction('operator': CNot('qubit_count': 2), 'target': QubitSet([Qubit(1), Qubit(2)]), 'control': QubitSet([]), 'control_state': (), 'power': 1), Instruction('operator': Ry('angle': 4.43518963, 'qubit_count': 1), 'target': QubitSet([Qubit(0)]), 'control': QubitSet([]), 'control_state': (), 'power': 1), Instruction('operator': Rz('angle': 4.80478876, 'qubit_count': 1), 'target': QubitSet([Qubit(0)]), 'control': QubitSet([]), 'control_state': (), 'power': 1), Instruction('operator': Ry('angle': 5.1743879, 'qubit_count': 1), 'target': QubitSet([Qubit(1)]), 'control': QubitSet([]), 'control_state': (), 'power': 1), Instruction('operator': Rz('angle': 5.54398704, 'qubit_count': 1), 'target': QubitSet([Qubit(1)]), 'control': QubitSet([]), 'control_state': (), 'power': 1), Instruction('operator': Ry('angle': 5.91358617, 'qubit_count': 1), 'target': QubitSet([Qubit(2)]), 'control': QubitSet([]), 'control_state': (), 'power': 1), Instruction('operator': Rz('angle': 6.28318531, 'qubit_count': 1), 'target': QubitSet([Qubit(2)]), 'control': QubitSet([]), 'control_state': (), 'power': 1), Instruction('operator': CNot('qubit_count': 2), 'target': QubitSet([Qubit(0), Qubit(1)]), 'control': QubitSet([]), 'control_state': (), 'power': 1), Instruction('operator': CNot('qubit_count': 2), 'target': QubitSet([Qubit(1), Qubit(2)]), 'control': QubitSet([]), 'control_state': (), 'power': 1)])"
      ]
     },
     "execution_count": 55,
     "metadata": {},
     "output_type": "execute_result"
    }
   ],
   "source": [
    "# Define a circuit\n",
    "\n",
    "nqubits=3\n",
    "nshots=2000\n",
    "\n",
    "circ = Circuit()\n",
    "\n",
    "circ.ry(0, 0)\n",
    "circ.rz(0, 0.36959914)\n",
    "circ.ry(1, 0.73919827)\n",
    "circ.rz(1, 1.10879741)\n",
    "circ.ry(2, 1.47839654)\n",
    "circ.rz(2, 1.84799568)\n",
    "circ.cnot(0, 1)\n",
    "circ.cnot(1, 2)\n",
    "circ.ry(0, 2.21759481)\n",
    "circ.rz(0, 2.58719395)\n",
    "circ.ry(1, 2.95679309)\n",
    "circ.rz(1, 3.32639222)\n",
    "circ.ry(2, 3.69599136)\n",
    "circ.rz(2, 4.06559049)\n",
    "circ.cnot(0, 1)\n",
    "circ.cnot(1, 2)\n",
    "circ.ry(0, 4.43518963)\n",
    "circ.rz(0, 4.80478876)\n",
    "circ.ry(1, 5.1743879)\n",
    "circ.rz(1, 5.54398704)\n",
    "circ.ry(2, 5.91358617)\n",
    "circ.rz(2, 6.28318531)\n",
    "circ.cnot(0, 1)\n",
    "circ.cnot(1, 2)"
   ]
  },
  {
   "cell_type": "code",
   "execution_count": 56,
   "id": "9a0f4582-7208-4281-80de-3a9876411720",
   "metadata": {
    "tags": []
   },
   "outputs": [
    {
     "name": "stdout",
     "output_type": "stream",
     "text": [
      "T  : │     0      │     1      │  2  │     3      │     4      │     5      │  6  │     7      │     8      │     9      │ 10  │ 11  │\n",
      "       ┌───────┐   ┌──────────┐       ┌──────────┐ ┌──────────┐                    ┌──────────┐ ┌──────────┐                          \n",
      "q0 : ──┤ Ry(0) ├───┤ Rz(0.37) ├───●───┤ Ry(2.22) ├─┤ Rz(2.59) ├────────────────●───┤ Ry(4.44) ├─┤ Rz(4.80) ├────────────────●─────────\n",
      "       └───────┘   └──────────┘   │   └──────────┘ └──────────┘                │   └──────────┘ └──────────┘                │         \n",
      "      ┌──────────┐ ┌──────────┐ ┌─┴─┐              ┌──────────┐ ┌──────────┐ ┌─┴─┐              ┌──────────┐ ┌──────────┐ ┌─┴─┐       \n",
      "q1 : ─┤ Ry(0.74) ├─┤ Rz(1.11) ├─┤ X ├──────●───────┤ Ry(2.96) ├─┤ Rz(3.33) ├─┤ X ├──────●───────┤ Ry(5.17) ├─┤ Rz(5.54) ├─┤ X ├───●───\n",
      "      └──────────┘ └──────────┘ └───┘      │       └──────────┘ └──────────┘ └───┘      │       └──────────┘ └──────────┘ └───┘   │   \n",
      "      ┌──────────┐ ┌──────────┐          ┌─┴─┐     ┌──────────┐ ┌──────────┐          ┌─┴─┐     ┌──────────┐ ┌──────────┐       ┌─┴─┐ \n",
      "q2 : ─┤ Ry(1.48) ├─┤ Rz(1.85) ├──────────┤ X ├─────┤ Ry(3.70) ├─┤ Rz(4.07) ├──────────┤ X ├─────┤ Ry(5.91) ├─┤ Rz(6.28) ├───────┤ X ├─\n",
      "      └──────────┘ └──────────┘          └───┘     └──────────┘ └──────────┘          └───┘     └──────────┘ └──────────┘       └───┘ \n",
      "T  : │     0      │     1      │  2  │     3      │     4      │     5      │  6  │     7      │     8      │     9      │ 10  │ 11  │\n"
     ]
    }
   ],
   "source": [
    "print(circ)"
   ]
  },
  {
   "cell_type": "code",
   "execution_count": 62,
   "id": "729e6d4c-8ac7-4aef-b9f2-80d9e03336fc",
   "metadata": {
    "tags": []
   },
   "outputs": [],
   "source": [
    "# run circuit (execute single TASK)\n",
    "aria1_task = aria1.run(circ, shots=1000)"
   ]
  },
  {
   "cell_type": "code",
   "execution_count": 64,
   "id": "e9ff29bc-2e41-492d-8efa-d1988b077eaa",
   "metadata": {
    "tags": []
   },
   "outputs": [
    {
     "name": "stdout",
     "output_type": "stream",
     "text": [
      "Status of quantum task: QUEUED\n"
     ]
    }
   ],
   "source": [
    "# get id and status of submitted quantum task\n",
    "aria1_task_id = aria1_task.id\n",
    "aria1_status = aria1_task.state()\n",
    "# print('ID of quantum task:', aria1_task_id)\n",
    "print('Status of quantum task:', aria1_status)"
   ]
  },
  {
   "cell_type": "code",
   "execution_count": 65,
   "id": "d755c5d3-4c49-4d3b-845e-b4a50530680b",
   "metadata": {
    "tags": []
   },
   "outputs": [
    {
     "name": "stdout",
     "output_type": "stream",
     "text": [
      "Status of (reconstructed) quantum task: COMPLETED\n",
      "\n",
      "\n",
      "1000 shots taken on machine arn:aws:braket:us-east-1::device/qpu/ionq/Aria-1.\n",
      "\n",
      "Measurement counts: Counter({'011': 261, '001': 257, '111': 178, '110': 118, '101': 69, '100': 44, '000': 38, '010': 35})\n"
     ]
    },
    {
     "data": {
      "image/png": "[encoded data removed]",
      "text/plain": [
       "<Figure size 640x480 with 1 Axes>"
      ]
     },
     "metadata": {},
     "output_type": "display_data"
    }
   ],
   "source": [
    "# recover quantum task\n",
    "task_load = AwsQuantumTask(arn=aria1_task_id)\n",
    "\n",
    "# print status\n",
    "status = task_load.state()\n",
    "print('Status of (reconstructed) quantum task:', status)\n",
    "print('\\n')\n",
    "# wait for job to complete\n",
    "# terminal_states = ['COMPLETED', 'FAILED', 'CANCELLED']\n",
    "if status == 'COMPLETED':\n",
    "    # get results\n",
    "    aria1_results = task_load.result()\n",
    "    # print(aria1_results)\n",
    "    \n",
    "    # get all metadata of submitted quantum task\n",
    "    metadata = task_load.metadata()\n",
    "    # example for metadata\n",
    "    shots = metadata['shots']\n",
    "    machine = metadata['deviceArn']\n",
    "    # print example metadata\n",
    "    print(\"{} shots taken on machine {}.\\n\".format(shots, machine))\n",
    "    \n",
    "    # get measurement counts\n",
    "    aria1_counts = aria1_results.measurement_counts\n",
    "    print('Measurement counts:', aria1_counts)\n",
    "\n",
    "    # plot results: see effects of noise\n",
    "    plt.bar(aria1_counts.keys(), aria1_counts.values())\n",
    "    plt.xlabel('bitstrings')\n",
    "    plt.ylabel('counts')\n",
    "    plt.tight_layout()\n",
    "    plt.savefig('aria1.png', dpi=700)\n",
    "    \n",
    "elif status in ['FAILED', 'CANCELLED']:\n",
    "    # print terminal message \n",
    "    print('Your quantum task is in terminal status, but has not completed.')\n",
    "\n",
    "else:\n",
    "    # print current status\n",
    "    print('Sorry, your quantum task is still being processed and has not been finalized yet.')"
   ]
  },
  {
   "cell_type": "code",
   "execution_count": 66,
   "id": "ba30f656-e65b-4a13-9f7c-d20416d9c30f",
   "metadata": {
    "tags": []
   },
   "outputs": [],
   "source": [
    "obs_matrix = np.array([[-3.-0.j,-0.-0.j,-0.-0.j,-0.-0.j,-0.-0.j,-0.-0.j,-0.-0.j,-0.-0.j],\n",
    "                               [-0.-0.j,-1.-0.j,-0.-0.j,-0.-0.j,-0.-0.j,-0.-0.j,-0.-0.j,-0.-0.j],\n",
    "                               [-0.-0.j,-0.-0.j,-1.-0.j,-0.-0.j,-0.-0.j,-0.-0.j,-0.-0.j,-0.-0.j],\n",
    "                               [-0.-0.j,-0.-0.j,-0.-0.j,1.-0.j,-0.-0.j,-0.-0.j,-0.-0.j,-0.-0.j],\n",
    "                               [-0.-0.j,-0.-0.j,-0.-0.j,-0.-0.j,-1.-0.j,-0.-0.j,-0.-0.j,-0.-0.j],\n",
    "                               [-0.-0.j,-0.-0.j,-0.-0.j,-0.-0.j,-0.-0.j,1.-0.j,-0.-0.j,-0.-0.j],\n",
    "                               [-0.-0.j,-0.-0.j,-0.-0.j,-0.-0.j,-0.-0.j,-0.-0.j,1.-0.j,-0.-0.j],\n",
    "                               [-0.-0.j,-0.-0.j,-0.-0.j,-0.-0.j,-0.-0.j,-0.-0.j,-0.-0.j,3.-0.j]])\n",
    "\n",
    "def expectation_from_samples(obs, freq, qubit_map=None):\n",
    "    if np.count_nonzero(obs - np.diag(np.diagonal(obs))) != 0:\n",
    "        raise_error(NotImplementedError, \"Observable is not diagonal.\")\n",
    "    keys = list(freq.keys())\n",
    "    if qubit_map is None:\n",
    "        qubit_map = list(range(int(np.log2(len(obs)))))\n",
    "    counts = np.array(list(freq.values())) / sum(freq.values())\n",
    "    expval = 0\n",
    "    size = len(qubit_map)\n",
    "    for j, k in enumerate(keys):\n",
    "        index = 0\n",
    "        for i in qubit_map:\n",
    "            index += int(k[qubit_map.index(i)]) * 2 ** (size - 1 - i)\n",
    "        expval += obs[index, index] * counts[j]\n",
    "    return np.real(expval)"
   ]
  },
  {
   "cell_type": "code",
   "execution_count": 67,
   "id": "3b339113-3e75-4341-9fd2-c9352e474354",
   "metadata": {
    "tags": []
   },
   "outputs": [
    {
     "data": {
      "text/plain": [
       "0.532"
      ]
     },
     "execution_count": 67,
     "metadata": {},
     "output_type": "execute_result"
    }
   ],
   "source": [
    "expectation_from_samples(obs_matrix, aria1_counts)"
   ]
  }
 ],
 "metadata": {
  "kernelspec": {
   "display_name": "conda_braket",
   "language": "python",
   "name": "conda_braket"
  },
  "language_info": {
   "codemirror_mode": {
    "name": "ipython",
    "version": 3
   },
   "file_extension": ".py",
   "mimetype": "text/x-python",
   "name": "python",
   "nbconvert_exporter": "python",
   "pygments_lexer": "ipython3",
   "version": "3.10.14"
  }
 },
 "nbformat": 4,
 "nbformat_minor": 5
}
