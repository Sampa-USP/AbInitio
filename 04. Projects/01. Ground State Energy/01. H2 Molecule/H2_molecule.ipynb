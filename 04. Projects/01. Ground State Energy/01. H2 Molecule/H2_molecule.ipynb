{
 "cells": [
  {
   "cell_type": "code",
   "execution_count": 10,
   "id": "a5f714ac-e7f8-45ca-b933-2a85a0cb8616",
   "metadata": {
    "tags": []
   },
   "outputs": [],
   "source": [
    "# Use Braket SDK Cost Tracking to estimate the cost to run this example\n",
    "from braket.tracking import Tracker\n",
    "t = Tracker().start()"
   ]
  },
  {
   "cell_type": "code",
   "execution_count": 11,
   "id": "9d906a99-280d-4b07-bde6-f2257dd05906",
   "metadata": {
    "tags": []
   },
   "outputs": [],
   "source": [
    "import pennylane as qml\n",
    "from pennylane import qchem\n",
    "from pennylane import numpy as np"
   ]
  },
  {
   "cell_type": "code",
   "execution_count": 12,
   "id": "8dc47222-50d7-4d4b-b09e-c64100c0b36c",
   "metadata": {
    "tags": []
   },
   "outputs": [],
   "source": [
    "symbols, coordinates = qchem.read_structure(\"h2.xyz\")\n",
    "h, qubits = qchem.molecular_hamiltonian(symbols, coordinates, name=\"h2\")"
   ]
  },
  {
   "cell_type": "code",
   "execution_count": 13,
   "id": "e7484a2b-2b17-451b-9348-4b9d8bb3c9f1",
   "metadata": {
    "tags": []
   },
   "outputs": [],
   "source": [
    "electrons = 2  # Molecular hydrogen has two electrons\n",
    "\n",
    "S2 = qchem.spin2(electrons, qubits)"
   ]
  },
  {
   "cell_type": "code",
   "execution_count": 14,
   "id": "a3498b48-8aa0-4e1d-a014-eef4b3c36e66",
   "metadata": {
    "tags": []
   },
   "outputs": [],
   "source": [
    "# Hartree-Fock state\n",
    "hf_state = qchem.hf_state(electrons, qubits)\n",
    "# generate single- and double-excitations\n",
    "singles, doubles = qchem.excitations(electrons, qubits)"
   ]
  },
  {
   "cell_type": "code",
   "execution_count": 15,
   "id": "8f88d381-96d6-46db-aa14-78bed112b91f",
   "metadata": {
    "tags": []
   },
   "outputs": [],
   "source": [
    "def circuit(params, wires):\n",
    "    qml.templates.AllSinglesDoubles(params, wires, hf_state, singles, doubles)"
   ]
  },
  {
   "cell_type": "code",
   "execution_count": 17,
   "id": "3aaf9244-6236-4556-b83f-5205cc8a4a0c",
   "metadata": {
    "tags": []
   },
   "outputs": [],
   "source": [
    "dev = qml.device(\"lightning.qubit\", wires=qubits)"
   ]
  },
  {
   "cell_type": "code",
   "execution_count": 18,
   "id": "0a66f046-c3aa-4f6a-a8f6-944affbf1132",
   "metadata": {
    "tags": []
   },
   "outputs": [
    {
     "name": "stdout",
     "output_type": "stream",
     "text": [
      "[0, 1, 2, 3]\n"
     ]
    }
   ],
   "source": [
    "wires = dev.wires.tolist()\n",
    "print(wires)\n",
    "\n",
    "\n",
    "@qml.qnode(dev)\n",
    "def energy_expval(params):\n",
    "    print(params)\n",
    "    print(wires)\n",
    "    print(hf_state)\n",
    "    print(singles)\n",
    "    print(doubles)\n",
    "    qml.templates.AllSinglesDoubles(params, wires, hf_state, singles, doubles)\n",
    "    \n",
    "    \n",
    "    return qml.expval(h)\n",
    "\n",
    "@qml.qnode(dev)\n",
    "def S2_expval(params):\n",
    "    circuit(params, wires)\n",
    "    return qml.expval(S2)"
   ]
  },
  {
   "cell_type": "code",
   "execution_count": 19,
   "id": "87d8a75f-4d8c-4298-8440-4f77f0347f0d",
   "metadata": {
    "tags": []
   },
   "outputs": [],
   "source": [
    "def spin(params):\n",
    "    return -0.5 + np.sqrt(1 / 4 + S2_expval(params))"
   ]
  },
  {
   "cell_type": "code",
   "execution_count": 20,
   "id": "0d2e69b1-29ff-4104-9dc8-c2f8ba9f8050",
   "metadata": {
    "tags": []
   },
   "outputs": [],
   "source": [
    "np.random.seed(1967)\n",
    "params = np.random.normal(0, np.pi, len(singles) + len(doubles))"
   ]
  },
  {
   "cell_type": "code",
   "execution_count": 21,
   "id": "f7d313bb-0c69-4e46-ba5c-64fd6bfd71e8",
   "metadata": {
    "tags": []
   },
   "outputs": [
    {
     "name": "stdout",
     "output_type": "stream",
     "text": [
      "[1.67852596 5.16774531 2.52056489]\n",
      "[0, 1, 2, 3]\n",
      "[1 1 0 0]\n",
      "[[0, 2], [1, 3]]\n",
      "[[0, 1, 2, 3]]\n",
      "Energy: -0.2730496738441154\n",
      "Spin:   0.11000908988780544\n"
     ]
    }
   ],
   "source": [
    "energy= energy_expval(params)\n",
    "print(\"Energy:\", float(energy))\n",
    "print(\"Spin:  \", float(spin(params)))"
   ]
  },
  {
   "cell_type": "code",
   "execution_count": 23,
   "id": "d7af48c1-c890-41d4-bce4-9e77fa1f4f98",
   "metadata": {
    "tags": []
   },
   "outputs": [],
   "source": [
    "# Lets choose RMSPropOptimizer.\n",
    "# Other alternatives: GradientDescentOptimizer, AdagradOptimizer, AdamOptimizer, ...\n",
    "opt = qml.RMSPropOptimizer(stepsize=0.2)"
   ]
  },
  {
   "cell_type": "code",
   "execution_count": 24,
   "id": "10f23ede-6b84-40c2-ba71-539871908331",
   "metadata": {
    "tags": []
   },
   "outputs": [],
   "source": [
    "iterations = 7"
   ]
  },
  {
   "cell_type": "code",
   "execution_count": 25,
   "id": "6469c9f9-c773-4096-aa52-5897eee7f8d2",
   "metadata": {
    "tags": []
   },
   "outputs": [],
   "source": [
    "import time\n",
    "from braket.jobs.metrics import log_metric\n",
    "\n",
    "\n",
    "def run_vqe(energy_expval, spin, opt, initial_params, iterations):\n",
    "    energies = []\n",
    "    spins = []\n",
    "    params = initial_params\n",
    "\n",
    "    print(initial_params)\n",
    "    start = time.time()\n",
    "    for i in range(iterations):\n",
    "        params = opt.step(energy_expval, params)\n",
    "\n",
    "        e = energy_expval(params)\n",
    "        s = spin(params)\n",
    "\n",
    "        energies.append(e)\n",
    "        spins.append(s)\n",
    "\n",
    "        log_metric(metric_name=\"energy\", value=e, iteration_number=i)\n",
    "\n",
    "        print(f\"Completed iteration {i + 1}\")\n",
    "        print(\"Energy:\", e)\n",
    "        print(\"Total spin:\", s)\n",
    "        print(\"----------------\")\n",
    "\n",
    "    print(f\"Optimized energy: {e} Ha\")\n",
    "    print(f\"Corresponding total spin: {s}\")\n",
    "    print(f\"Elapsed: {time.time()-start} s\")\n",
    "    return energies, spins"
   ]
  },
  {
   "cell_type": "code",
   "execution_count": 26,
   "id": "ca3e904d-c6d2-4397-88f9-a19505e2a8ec",
   "metadata": {
    "tags": []
   },
   "outputs": [
    {
     "name": "stdout",
     "output_type": "stream",
     "text": [
      "[1.67852596 5.16774531 2.52056489]\n",
      "Autograd ArrayBox with value [1.67852596 5.16774531 2.52056489]\n",
      "[0, 1, 2, 3]\n",
      "[1 1 0 0]\n",
      "[[0, 2], [1, 3]]\n",
      "[[0, 1, 2, 3]]\n",
      "[2.31098123 4.53529012 1.88811002]\n",
      "[0, 1, 2, 3]\n",
      "[1 1 0 0]\n",
      "[[0, 2], [1, 3]]\n",
      "[[0, 1, 2, 3]]\n",
      "Metrics - timestamp=1720026098.7304983; energy=-0.5602851198326604; iteration_number=0;\n",
      "Completed iteration 1\n",
      "Energy: -0.5602851198326604\n",
      "Total spin: 0.13287789321454424\n",
      "----------------\n",
      "Autograd ArrayBox with value [2.31098123 4.53529012 1.88811002]\n",
      "[0, 1, 2, 3]\n",
      "[1 1 0 0]\n",
      "[[0, 2], [1, 3]]\n",
      "[[0, 1, 2, 3]]\n",
      "[2.49988289 4.28666826 2.40053267]\n",
      "[0, 1, 2, 3]\n",
      "[1 1 0 0]\n",
      "[[0, 2], [1, 3]]\n",
      "[[0, 1, 2, 3]]\n",
      "Metrics - timestamp=1720026098.7515774; energy=-0.7773309017116152; iteration_number=1;\n",
      "Completed iteration 2\n",
      "Energy: -0.7773309017116152\n",
      "Total spin: 0.0948819812058348\n",
      "----------------\n",
      "Autograd ArrayBox with value [2.49988289 4.28666826 2.40053267]\n",
      "[0, 1, 2, 3]\n",
      "[1 1 0 0]\n",
      "[[0, 2], [1, 3]]\n",
      "[[0, 1, 2, 3]]\n",
      "[2.81649011 3.85582987 2.74418614]\n",
      "[0, 1, 2, 3]\n",
      "[1 1 0 0]\n",
      "[[0, 2], [1, 3]]\n",
      "[[0, 1, 2, 3]]\n",
      "Metrics - timestamp=1720026098.7729235; energy=-1.008367718750557; iteration_number=2;\n",
      "Completed iteration 3\n",
      "Energy: -1.008367718750557\n",
      "Total spin: 0.04940760029256386\n",
      "----------------\n",
      "Autograd ArrayBox with value [2.81649011 3.85582987 2.74418614]\n",
      "[0, 1, 2, 3]\n",
      "[1 1 0 0]\n",
      "[[0, 2], [1, 3]]\n",
      "[[0, 1, 2, 3]]\n",
      "[3.02362205 3.51307754 2.92677602]\n",
      "[0, 1, 2, 3]\n",
      "[1 1 0 0]\n",
      "[[0, 2], [1, 3]]\n",
      "[[0, 1, 2, 3]]\n",
      "Metrics - timestamp=1720026098.9341905; energy=-1.1060574430621746; iteration_number=3;\n",
      "Completed iteration 4\n",
      "Energy: -1.1060574430621746\n",
      "Total spin: 0.01902625475224251\n",
      "----------------\n",
      "Autograd ArrayBox with value [3.02362205 3.51307754 2.92677602]\n",
      "[0, 1, 2, 3]\n",
      "[1 1 0 0]\n",
      "[[0, 2], [1, 3]]\n",
      "[[0, 1, 2, 3]]\n",
      "[3.10746664 3.31233776 2.9235996 ]\n",
      "[0, 1, 2, 3]\n",
      "[1 1 0 0]\n",
      "[[0, 2], [1, 3]]\n",
      "[[0, 1, 2, 3]]\n",
      "Metrics - timestamp=1720026098.9550807; energy=-1.130111250928124; iteration_number=4;\n",
      "Completed iteration 5\n",
      "Energy: -1.130111250928124\n",
      "Total spin: 0.0056347819636390906\n",
      "----------------\n",
      "Autograd ArrayBox with value [3.10746664 3.31233776 2.9235996 ]\n",
      "[0, 1, 2, 3]\n",
      "[1 1 0 0]\n",
      "[[0, 2], [1, 3]]\n",
      "[[0, 1, 2, 3]]\n",
      "[3.13331513 3.21462858 2.93387253]\n",
      "[0, 1, 2, 3]\n",
      "[1 1 0 0]\n",
      "[[0, 2], [1, 3]]\n",
      "[[0, 1, 2, 3]]\n",
      "Metrics - timestamp=1720026098.9748857; energy=-1.1351064397742514; iteration_number=5;\n",
      "Completed iteration 6\n",
      "Energy: -1.1351064397742514\n",
      "Total spin: 0.0012625902560892133\n",
      "----------------\n",
      "Autograd ArrayBox with value [3.13331513 3.21462858 2.93387253]\n",
      "[0, 1, 2, 3]\n",
      "[1 1 0 0]\n",
      "[[0, 2], [1, 3]]\n",
      "[[0, 1, 2, 3]]\n",
      "[3.14007437 3.1704302  2.93020836]\n",
      "[0, 1, 2, 3]\n",
      "[1 1 0 0]\n",
      "[[0, 2], [1, 3]]\n",
      "[[0, 1, 2, 3]]\n",
      "Metrics - timestamp=1720026098.9948876; energy=-1.1360215793710577; iteration_number=6;\n",
      "Completed iteration 7\n",
      "Energy: -1.1360215793710577\n",
      "Total spin: 0.00022566866798245933\n",
      "----------------\n",
      "Optimized energy: -1.1360215793710577 Ha\n",
      "Corresponding total spin: 0.00022566866798245933\n",
      "Elapsed: 0.3082609176635742 s\n"
     ]
    }
   ],
   "source": [
    "energies, spins = run_vqe(energy_expval, spin, opt, params, iterations)"
   ]
  },
  {
   "cell_type": "code",
   "execution_count": 27,
   "id": "181c98f9-2baf-458c-becc-3489ec5a353a",
   "metadata": {
    "tags": []
   },
   "outputs": [
    {
     "data": {
      "image/png": "[encoded data removed]",
      "text/plain": [
       "<Figure size 640x480 with 1 Axes>"
      ]
     },
     "metadata": {},
     "output_type": "display_data"
    }
   ],
   "source": [
    "import matplotlib.pyplot as plt\n",
    "\n",
    "theory_energy = -1.136189454088\n",
    "theory_spin = 0\n",
    "\n",
    "plt.hlines(theory_energy, 0, iterations, colors=\"black\")\n",
    "plt.plot(energies, \"o-\")\n",
    "plt.xlabel(\"Steps\")\n",
    "plt.ylabel(\"Energy\")\n",
    "\n",
    "axs = plt.gca()"
   ]
  }
 ],
 "metadata": {
  "kernelspec": {
   "display_name": "conda_braket",
   "language": "python",
   "name": "conda_braket"
  },
  "language_info": {
   "codemirror_mode": {
    "name": "ipython",
    "version": 3
   },
   "file_extension": ".py",
   "mimetype": "text/x-python",
   "name": "python",
   "nbconvert_exporter": "python",
   "pygments_lexer": "ipython3",
   "version": "3.10.14"
  }
 },
 "nbformat": 4,
 "nbformat_minor": 5
}
