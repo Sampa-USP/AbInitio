{
 "cells": [
  {
   "cell_type": "markdown",
   "metadata": {},
   "source": [
    "<div class=\"alert alert-block alert-warning\">\n",
    "<b>Costs:</b> This QPU simulation costs ??? dollars.\n",
    "</div>"
   ]
  },
  {
   "cell_type": "markdown",
   "metadata": {},
   "source": [
    "<div class=\"alert alert-block alert-success\">\n",
    "<b>This simulation finds ground state energy for H2 molecule. </b>\n",
    "<div>Obs. 1: The data is saved in external files so that it can be worked on without incurring new costs.</div>\n",
    "<div>Obs. 2: For new simulation parameters, save in a file with a different name.</div>\n",
    "</div>"
   ]
  },
  {
   "cell_type": "markdown",
   "metadata": {},
   "source": [
    "# Instructions if you are running outside AWS cloud"
   ]
  },
  {
   "cell_type": "markdown",
   "metadata": {},
   "source": [
    "1. Install aws-cli:\n",
    "\n",
    "`sudo apt install aws-cli`\n",
    "\n",
    "2. Setup aws credentials:\n",
    "\n",
    "`aws configure --profile \"default\"`\n",
    "\n",
    "3. Create virtual environment \n",
    "\n",
    "`python -m venv /path/to/new/virtual/environment`\n",
    "\n",
    "4. Activate virtual environment\n",
    "\n",
    "`source /path/to/new/virtual/environment/bin/activate`"
   ]
  },
  {
   "cell_type": "code",
   "execution_count": 1,
   "metadata": {},
   "outputs": [],
   "source": [
    "from boto3 import Session\n",
    "from braket.aws import AwsSession\n",
    "\n",
    "# Start Boto3 Session with your credentials profile\n",
    "boto_session = Session(profile_name='default')\n",
    "\n",
    "# Initialize Braket session with Boto3 Session credentials\n",
    "aws_session = AwsSession(boto_session=boto_session)"
   ]
  },
  {
   "cell_type": "markdown",
   "metadata": {},
   "source": [
    "# Defining the function to save results to json file and read results from file"
   ]
  },
  {
   "cell_type": "code",
   "execution_count": 2,
   "metadata": {},
   "outputs": [],
   "source": [
    "import json\n",
    "\n",
    "def save_to_file(data, file_name):\n",
    "    with open(file_name+\".json\", \"w\") as file:\n",
    "        json.dump(data, file, indent=4)\n",
    "\n",
    "def read_from_file(file_name):\n",
    "    with open(file_name+\".json\", 'r') as file:\n",
    "        data = json.load(file)\n",
    "    return data"
   ]
  },
  {
   "cell_type": "markdown",
   "metadata": {},
   "source": [
    "# Importando Backends - Computadores Quânticos"
   ]
  },
  {
   "cell_type": "code",
   "execution_count": 3,
   "metadata": {},
   "outputs": [
    {
     "name": "stdout",
     "output_type": "stream",
     "text": [
      "Ankaa-3               |  Rigetti    |  arn:aws:braket:us-west-1::device/qpu/rigetti/Ankaa-3\n",
      "Aquila                |  QuEra      |  arn:aws:braket:us-east-1::device/qpu/quera/Aquila\n",
      "Aria 1                |  IonQ       |  arn:aws:braket:us-east-1::device/qpu/ionq/Aria-1\n",
      "Aria 2                |  IonQ       |  arn:aws:braket:us-east-1::device/qpu/ionq/Aria-2\n",
      "Emerald               |  IQM        |  arn:aws:braket:eu-north-1::device/qpu/iqm/Emerald\n",
      "Forte 1               |  IonQ       |  arn:aws:braket:us-east-1::device/qpu/ionq/Forte-1\n",
      "Forte Enterprise 1    |  IonQ       |  arn:aws:braket:us-east-1::device/qpu/ionq/Forte-Enterprise-1\n",
      "Garnet                |  IQM        |  arn:aws:braket:eu-north-1::device/qpu/iqm/Garnet\n",
      "SV1                   |  Amazon Braket |  arn:aws:braket:::device/quantum-simulator/amazon/sv1\n",
      "TN1                   |  Amazon Braket |  arn:aws:braket:::device/quantum-simulator/amazon/tn1\n",
      "dm1                   |  Amazon Braket |  arn:aws:braket:::device/quantum-simulator/amazon/dm1\n"
     ]
    }
   ],
   "source": [
    "from braket.aws import AwsDevice\n",
    "\n",
    "for d in AwsDevice.get_devices():\n",
    "    print(f\"{d.name:20}  |  {d.provider_name:10} |  {d.arn}\")"
   ]
  },
  {
   "cell_type": "markdown",
   "metadata": {},
   "source": [
    "# PES CO2\n",
    "### Definição"
   ]
  },
  {
   "cell_type": "code",
   "execution_count": null,
   "metadata": {},
   "outputs": [],
   "source": [
    "# PES CO2 (symmetric stretch O–C–O) with VQE (PennyLane + PySCF)\n",
    "import pennylane as qml\n",
    "from pennylane import qchem\n",
    "from pennylane import numpy as np\n",
    "import matplotlib.pyplot as plt\n",
    "\n",
    "# -----------------------------------------\n",
    "# Configurações principais\n",
    "# -----------------------------------------\n",
    "basis      = \"sto-3g\"\n",
    "charge     = 0\n",
    "multip     = 1\n",
    "\n",
    "# Active space:\n",
    "# nº de elétrons ativos (pares mais externos) e nº de ORBITAIS ESPACIAIS ativos\n",
    "active_e  = 8        # comece com 8; CO2 tem 16 valência (4 de C + 6+6 de O)\n",
    "active_orb = 8       # nº de orbitais espaciais ativos (spin-orbitais = 2*active_orb)\n",
    "\n",
    "# Varredura C–O (Å)\n",
    "R_range = np.linspace(1.5, 1.7, 8)  # pegue em torno de 1.16 Å\n",
    "\n",
    "# Otimizador\n",
    "steps = 120\n",
    "stepsize = 0.25\n",
    "\n",
    "energies = []\n",
    "params_cache = None  # warm start"
   ]
  },
  {
   "cell_type": "markdown",
   "metadata": {},
   "source": [
    "### Otimização"
   ]
  },
  {
   "cell_type": "code",
   "execution_count": null,
   "metadata": {},
   "outputs": [
    {
     "name": "stdout",
     "output_type": "stream",
     "text": [
      "R = 0.950 Å  |  E = -171.02915533 Ha  |  iters=11\n"
     ]
    }
   ],
   "source": [
    "for k, R in enumerate(R_range):\n",
    "    # Geometria linear: O(-R,0,0), C(0,0,0), O(+R,0,0)  (unidades em Å)\n",
    "    symbols = [\"O\", \"C\", \"O\"]\n",
    "    coords  = np.array([\n",
    "        [-R, 0.0, 0.0],\n",
    "        [ 0.0, 0.0, 0.0],\n",
    "        [ R, 0.0, 0.0],\n",
    "    ]).reshape(-1)\n",
    "\n",
    "    # Hamiltoniano de 2º-quantização + nº de qubits\n",
    "    H, n_qubits = qchem.molecular_hamiltonian(\n",
    "        symbols,\n",
    "        coords,\n",
    "        method=\"pyscf\",\n",
    "        basis=basis,\n",
    "        charge=charge,\n",
    "        mult=multip,\n",
    "        # Active space ↓ (em orbitais **espaciais** e elétrons)\n",
    "        active_electrons=active_e,\n",
    "        active_orbitals=active_orb,\n",
    "        mapping=\"jordan_wigner\",\n",
    "        outpath=None,\n",
    "    )\n",
    "\n",
    "    # HF state (em número de SPIN-orbitais = n_qubits)\n",
    "    hf = qchem.hf_state(electrons=active_e, orbitals=n_qubits)\n",
    "\n",
    "    # ---- gerar excitações (compatível com PL novo e antigo) ----\n",
    "    try:\n",
    "        # API nova: retorna duas listas\n",
    "        singles, doubles = qchem.excitations(active_e, n_qubits)\n",
    "    except TypeError:\n",
    "        # API antiga: retorna lista única; se cair aqui, faça o split por tamanho\n",
    "        exc = qchem.excitations(active_e, n_qubits)\n",
    "        singles = [e for e in exc if len(e) == 2]\n",
    "        doubles = [e for e in exc if len(e) == 4]\n",
    "\n",
    "    # sanity-check rápido para evitar o erro do template\n",
    "    if not singles and not doubles:\n",
    "        raise RuntimeError(\"Nenhuma excitação gerada: verifique nelec/norb do active space.\")\n",
    "\n",
    "    # Dispositivo e QNode\n",
    "    dev = qml.device(\"default.qubit\", wires=n_qubits)\n",
    "\n",
    "    @qml.qnode(dev, interface=\"autograd\")\n",
    "    def vqe_circuit(theta):\n",
    "        # UCCSD compacto; o template prepara HF automaticamente se passarmos hf_state\n",
    "        qml.AllSinglesDoubles(\n",
    "            theta,\n",
    "            wires=range(n_qubits),\n",
    "            hf_state=hf,\n",
    "            singles=singles,\n",
    "            doubles=doubles,\n",
    "        )\n",
    "        return qml.expval(H)\n",
    "\n",
    "    # nº de parâmetros = nº de excitações (S + D)\n",
    "    n_params = len(singles) + len(doubles)\n",
    "\n",
    "    # warm start dos parâmetros\n",
    "    theta = np.zeros(n_params, requires_grad=True) if params_cache is None else params_cache\n",
    "\n",
    "    opt = qml.GradientDescentOptimizer(stepsize=stepsize)\n",
    "    prev_E = 1e9\n",
    "    for s in range(steps):\n",
    "        theta, E = opt.step_and_cost(vqe_circuit, theta)\n",
    "        if abs(E - prev_E) < 1e-6:\n",
    "            break\n",
    "        prev_E = E\n",
    "\n",
    "    params_cache = theta  # guarda para o próximo ponto da curva\n",
    "    energies.append(float(E))\n",
    "    print(f\"R = {R:.3f} Å  |  E = {E:.8f} Ha  |  iters={s+1}\")\n"
   ]
  },
  {
   "cell_type": "markdown",
   "metadata": {},
   "source": [
    "### Plot"
   ]
  },
  {
   "cell_type": "code",
   "execution_count": null,
   "metadata": {},
   "outputs": [
    {
     "data": {
      "image/png": "[encoded data removed]",
      "text/plain": [
       "<Figure size 720x460 with 1 Axes>"
      ]
     },
     "metadata": {},
     "output_type": "display_data"
    },
    {
     "name": "stdout",
     "output_type": "stream",
     "text": [
      "Grid minimum:      R = 1.4000 Å,  E = -182.363912 Ha\n",
      "Fitted equilibrium: R_e ≈ 1.6474 Å,  E ≈ -183.701188 Ha\n",
      "ΔE(last point − min) ≈ 0.000000 Ha\n"
     ]
    }
   ],
   "source": [
    "import numpy as np\n",
    "import matplotlib.pyplot as plt\n",
    "\n",
    "# ----- dados da varredura -----\n",
    "R = np.asarray(R_range, dtype=float)       # Å\n",
    "E = np.asarray(energies, dtype=float)      # Hartree\n",
    "\n",
    "# mínimo na malha\n",
    "imin = int(np.argmin(E))\n",
    "R_grid_min = float(R[imin])\n",
    "E_grid_min = float(E[imin])\n",
    "\n",
    "# ajuste quadrático em torno do mínimo (usa ~5 pontos, ou o que couber nas bordas)\n",
    "i0 = max(0, imin - 2)\n",
    "i1 = min(len(R), imin + 3)\n",
    "coef = np.polyfit(R[i0:i1], E[i0:i1], 2)           # E(R) ≈ aR^2 + bR + c\n",
    "R_fit = np.linspace(R[i0], R[i1-1], 300)\n",
    "E_fit = np.polyval(coef, R_fit)\n",
    "R_min_fit = -coef[1] / (2*coef[0])                 # vértice da parábola\n",
    "E_min_fit = np.polyval(coef, R_min_fit)\n",
    "\n",
    "# (opcional) energia de dissociação relativa ao último ponto da curva\n",
    "De = E[-1] - E_grid_min\n",
    "\n",
    "# ----- plot -----\n",
    "fig, ax = plt.subplots(figsize=(7.2, 4.6))\n",
    "ax.plot(R, E, 'o-', lw=1.8, color='royalblue', label='VQE PES (CO$_2$ stretch)')\n",
    "ax.plot(R_fit, E_fit, '--', color='tab:orange', label='Quadratic fit near min')\n",
    "\n",
    "# marcações do mínimo\n",
    "ax.scatter([R_grid_min], [E_grid_min], color='k', zorder=3,\n",
    "           label=f'Grid min: R={R_grid_min:.3f} Å, E={E_grid_min:.3f} Ha')\n",
    "ax.axvline(R_min_fit, ls='--', color='crimson', alpha=.7,\n",
    "           label=f'Fitted $R_e$ ≈ {R_min_fit:.3f} Å')\n",
    "ax.axhline(E_min_fit, ls=':', color='gray', alpha=.7)\n",
    "\n",
    "ax.set_xlabel('C–O bond length R (Å)')\n",
    "ax.set_ylabel('Total energy (Hartree)')\n",
    "ax.set_title('CO$_2$ symmetric stretch – VQE PES (STO-3G, active space)')\n",
    "ax.grid(alpha=0.3)\n",
    "ax.legend(loc='best', fontsize=9)\n",
    "plt.tight_layout()\n",
    "plt.show()\n",
    "\n",
    "print(f\"Grid minimum:      R = {R_grid_min:.4f} Å,  E = {E_grid_min:.6f} Ha\")\n",
    "print(f\"Fitted equilibrium: R_e ≈ {R_min_fit:.4f} Å,  E ≈ {E_min_fit:.6f} Ha\")\n",
    "print(f\"ΔE(last point − min) ≈ {De:.6f} Ha\")"
   ]
  }
 ],
 "metadata": {
  "kernelspec": {
   "display_name": ".venv",
   "language": "python",
   "name": "python3"
  },
  "language_info": {
   "codemirror_mode": {
    "name": "ipython",
    "version": 3
   },
   "file_extension": ".py",
   "mimetype": "text/x-python",
   "name": "python",
   "nbconvert_exporter": "python",
   "pygments_lexer": "ipython3",
   "version": "3.12.6"
  }
 },
 "nbformat": 4,
 "nbformat_minor": 4
}
