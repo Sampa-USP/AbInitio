{
 "cells": [
  {
   "cell_type": "code",
   "execution_count": 18,
   "metadata": {},
   "outputs": [],
   "source": [
    "from qiskit_nature.units import *   #ANGSTROM\n",
    "from qiskit_nature.second_q.drivers import *    #PySCFDriver\n",
    "from qiskit_nature.second_q.mappers import * #JordanWignerMapper\n",
    "from qiskit_nature.second_q.algorithms import GroundStateEigensolver\n",
    "from qiskit_nature.second_q.problems import ElectronicStructureProblem\n",
    "from qiskit_nature.second_q.problems import EigenstateResult\n",
    "from qiskit_nature.second_q.circuit.library import *  #Ansatz, HF\n",
    "#from qiskit_ibm_runtime import QiskitRuntimeService, Session, Estimator, Options\n",
    "from qiskit_algorithms.optimizers import * \n",
    "from qiskit_algorithms import VQE\n",
    "from braket.tracking import Tracker\n",
    "from qiskit_braket_provider import *\n",
    "from qiskit_aer import StatevectorSimulator\n",
    "from qiskit.primitives import Estimator\n",
    "from qiskit_nature.second_q.transformers import ActiveSpaceTransformer\n",
    "from qiskit_algorithms import AdaptVQE"
   ]
  },
  {
   "cell_type": "code",
   "execution_count": 12,
   "metadata": {},
   "outputs": [],
   "source": [
    "driver = PySCFDriver(atom=\"O 0 0 -1.16; C 0 0 0; O 0 0 1.16\", basis=\"sto-6g\")\n",
    "estrutura_inicial = driver.run() #Criamos a estrutura do nosso sistema\n",
    "\n",
    "espaco_target_mid = ActiveSpaceTransformer(8,8) #Active Space para o H2\n",
    "espaco_target_minimal = ActiveSpaceTransformer(4,4) #Active Space para o H2\n",
    "\n",
    "estrutura_mid = espaco_target_mid.transform(estrutura_inicial) #mudando nossa hamiltoniana para o active space\n",
    "estrutura_minimal = espaco_target_minimal.transform(estrutura_inicial)\n"
   ]
  },
  {
   "cell_type": "code",
   "execution_count": 13,
   "metadata": {},
   "outputs": [
    {
     "name": "stdout",
     "output_type": "stream",
     "text": [
      "Número de operadores Fermionicos (Estrutura Inicial):  44898\n",
      "Número de operadores Fermionicos (Estrutura Ativa Média):  3620\n",
      "Número de operadores Fermionicos (Estrutura Ativa Minima):  456\n"
     ]
    }
   ],
   "source": [
    "op_i = estrutura_inicial.hamiltonian.second_q_op()\n",
    "\n",
    "op_mid = estrutura_mid.hamiltonian.second_q_op()\n",
    "op_minimal = estrutura_minimal.hamiltonian.second_q_op()\n",
    "\n",
    "print('Número de operadores Fermionicos (Estrutura Inicial): ', len(op_i))\n",
    "\n",
    "print('Número de operadores Fermionicos (Estrutura Ativa Média): ', len(op_mid))\n",
    "print('Número de operadores Fermionicos (Estrutura Ativa Minima): ', len(op_minimal))"
   ]
  },
  {
   "cell_type": "code",
   "execution_count": 14,
   "metadata": {},
   "outputs": [],
   "source": [
    "#Optendo as simetrias que possuem no sistema do CO2, para criar o mapa:\n",
    "mapa_default = estrutura_inicial.get_tapered_mapper(BravyiKitaevMapper())\n",
    "mapa_mid = estrutura_mid.get_tapered_mapper(BravyiKitaevMapper())\n",
    "mapa_minimal = estrutura_minimal.get_tapered_mapper(BravyiKitaevMapper())\n",
    "\n",
    "obs_tapered_default = mapa_default.map(op_i)\n",
    "obs_tapered_mid = mapa_mid.map(op_mid)\n",
    "obs_tapered_minimal = mapa_minimal.map(op_minimal)"
   ]
  },
  {
   "cell_type": "code",
   "execution_count": 15,
   "metadata": {},
   "outputs": [
    {
     "name": "stdout",
     "output_type": "stream",
     "text": [
      "Profundidade de circuito  16170\n",
      "\n",
      "Profundidade de circuito  1289\n",
      "\n",
      "Profundidade de circuito  116\n"
     ]
    }
   ],
   "source": [
    "print('Profundidade de circuito ', len(obs_tapered_default))\n",
    "print()\n",
    "print('Profundidade de circuito ', len(obs_tapered_mid))\n",
    "print()\n",
    "print('Profundidade de circuito ', len(obs_tapered_minimal))\n",
    "\n",
    "#note que são 12 qubits, ou seja diminuimos o requisito computacional."
   ]
  },
  {
   "cell_type": "code",
   "execution_count": 31,
   "metadata": {},
   "outputs": [],
   "source": [
    "ansatz = UCCSD(\n",
    "    estrutura_mid.num_spatial_orbitals,\n",
    "    estrutura_mid.num_particles,\n",
    "    mapa_mid,\n",
    "    initial_state=HartreeFock(\n",
    "        estrutura_mid.num_spatial_orbitals,\n",
    "        estrutura_mid.num_particles,\n",
    "        mapa_mid))\n",
    "\n",
    "\n",
    "vqe_solver = VQE(Estimator(), ansatz, SLSQP())\n",
    "vqe_solver.initial_point = [0.0] * ansatz.num_parameters\n",
    "\n",
    "\n",
    "calculo = GroundStateEigensolver(mapa_mid, vqe_solver)\n",
    "resultados = calculo.solve(estrutura_mid)"
   ]
  },
  {
   "cell_type": "code",
   "execution_count": 32,
   "metadata": {},
   "outputs": [
    {
     "name": "stdout",
     "output_type": "stream",
     "text": [
      "=== GROUND STATE ENERGY ===\n",
      " \n",
      "* Electronic ground state energy (Hartree): -245.354229032125\n",
      "  - computed part:      -17.142188839985\n",
      "  - ActiveSpaceTransformer extracted energy part: -228.21204019214\n",
      "~ Nuclear repulsion energy (Hartree): 58.391968101517\n",
      "> Total ground state energy (Hartree): -186.962260930608\n",
      " \n",
      "=== MEASURED OBSERVABLES ===\n",
      " \n",
      "  0:  # Particles: 8.000 S: 0.000 S^2: 0.000 M: 0.000\n",
      " \n",
      "=== DIPOLE MOMENTS ===\n",
      " \n",
      "~ Nuclear dipole moment (a.u.): [0.0  0.0  0.0]\n",
      " \n",
      "  0: \n",
      "  * Electronic dipole moment (a.u.): [None  None  None]\n",
      "    - computed part:      [None  None  None]\n",
      "    - ActiveSpaceTransformer extracted energy part: [0.0  0.0  0.000000000002]\n",
      "  > Dipole moment (a.u.): [None  None  None]  Total: None\n",
      "                 (debye): [None  None  None]  Total: None\n",
      " \n"
     ]
    }
   ],
   "source": [
    "print(resultados)"
   ]
  },
  {
   "cell_type": "code",
   "execution_count": 29,
   "metadata": {},
   "outputs": [],
   "source": [
    "ansatz = UCCSD(\n",
    "    estrutura_minimal.num_spatial_orbitals,\n",
    "    estrutura_minimal.num_particles,\n",
    "    mapa_minimal,\n",
    "    initial_state=HartreeFock(\n",
    "        estrutura_minimal.num_spatial_orbitals,\n",
    "        estrutura_minimal.num_particles,\n",
    "        mapa_minimal))\n",
    "\n",
    "\n",
    "\n",
    "adapt_vqe = AdaptVQE(VQE(Estimator(), ansatz, SLSQP()))\n",
    "adapt_vqe.supports_aux_operators = lambda: True\n",
    "\n",
    "#Calculando o GS da molécula\n",
    "calculo = GroundStateEigensolver(mapa_minimal, adapt_vqe)\n",
    "resultados = calculo.solve(estrutura_minimal)\n",
    "\n",
    "energia = resultados.groundenergy + resultados.nuclear_repulsion_energy"
   ]
  },
  {
   "cell_type": "code",
   "execution_count": 30,
   "metadata": {},
   "outputs": [
    {
     "name": "stdout",
     "output_type": "stream",
     "text": [
      "=== GROUND STATE ENERGY ===\n",
      " \n",
      "* Electronic ground state energy (Hartree): -245.316024470318\n",
      "  - computed part:      -4.759068543976\n",
      "  - ActiveSpaceTransformer extracted energy part: -240.556955926342\n",
      "~ Nuclear repulsion energy (Hartree): 58.391968101517\n",
      "> Total ground state energy (Hartree): -186.9240563688\n",
      " \n",
      "=== MEASURED OBSERVABLES ===\n",
      " \n",
      "  0:  # Particles: 4.000 S: 0.000 S^2: 0.000 M: 0.000\n",
      " \n",
      "=== DIPOLE MOMENTS ===\n",
      " \n",
      "~ Nuclear dipole moment (a.u.): [0.0  0.0  0.0]\n",
      " \n",
      "  0: \n",
      "  * Electronic dipole moment (a.u.): [0.0  0.0  None]\n",
      "    - computed part:      [0.0  0.0  None]\n",
      "    - ActiveSpaceTransformer extracted energy part: [0.0  0.0  0.000000000001]\n",
      "  > Dipole moment (a.u.): [0.0  0.0  None]  Total: None\n",
      "                 (debye): [0.0  0.0  None]  Total: None\n",
      " \n"
     ]
    }
   ],
   "source": [
    "print(resultados)"
   ]
  },
  {
   "cell_type": "code",
   "execution_count": 33,
   "metadata": {},
   "outputs": [],
   "source": [
    "ansatz = UCCSD(\n",
    "    estrutura_minimal.num_spatial_orbitals,\n",
    "    estrutura_minimal.num_particles,\n",
    "    mapa_minimal,\n",
    "    initial_state=HartreeFock(\n",
    "        estrutura_minimal.num_spatial_orbitals,\n",
    "        estrutura_minimal.num_particles,\n",
    "        mapa_minimal))\n",
    "\n",
    "\n",
    "vqe_solver = VQE(Estimator(), ansatz, SLSQP())\n",
    "vqe_solver.initial_point = [0.0] * ansatz.num_parameters\n",
    "\n",
    "\n",
    "calculo = GroundStateEigensolver(mapa_minimal, vqe_solver)\n",
    "resultados = calculo.solve(estrutura_minimal)"
   ]
  },
  {
   "cell_type": "code",
   "execution_count": 34,
   "metadata": {},
   "outputs": [
    {
     "name": "stdout",
     "output_type": "stream",
     "text": [
      "=== GROUND STATE ENERGY ===\n",
      " \n",
      "* Electronic ground state energy (Hartree): -245.316072288105\n",
      "  - computed part:      -4.759116361763\n",
      "  - ActiveSpaceTransformer extracted energy part: -240.556955926342\n",
      "~ Nuclear repulsion energy (Hartree): 58.391968101517\n",
      "> Total ground state energy (Hartree): -186.924104186588\n",
      " \n",
      "=== MEASURED OBSERVABLES ===\n",
      " \n",
      "  0:  # Particles: 4.000 S: 0.000 S^2: 0.000 M: 0.000\n",
      " \n",
      "=== DIPOLE MOMENTS ===\n",
      " \n",
      "~ Nuclear dipole moment (a.u.): [0.0  0.0  0.0]\n",
      " \n",
      "  0: \n",
      "  * Electronic dipole moment (a.u.): [0.0  0.0  None]\n",
      "    - computed part:      [0.0  0.0  None]\n",
      "    - ActiveSpaceTransformer extracted energy part: [0.0  0.0  0.000000000001]\n",
      "  > Dipole moment (a.u.): [0.0  0.0  None]  Total: None\n",
      "                 (debye): [0.0  0.0  None]  Total: None\n",
      " \n"
     ]
    }
   ],
   "source": [
    "print(resultados)"
   ]
  },
  {
   "cell_type": "code",
   "execution_count": null,
   "metadata": {},
   "outputs": [],
   "source": []
  }
 ],
 "metadata": {
  "kernelspec": {
   "display_name": "Python 3",
   "language": "python",
   "name": "python3"
  },
  "language_info": {
   "codemirror_mode": {
    "name": "ipython",
    "version": 3
   },
   "file_extension": ".py",
   "mimetype": "text/x-python",
   "name": "python",
   "nbconvert_exporter": "python",
   "pygments_lexer": "ipython3",
   "version": "3.10.12"
  }
 },
 "nbformat": 4,
 "nbformat_minor": 2
}
