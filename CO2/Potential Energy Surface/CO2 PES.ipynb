{
 "cells": [
  {
   "cell_type": "code",
   "execution_count": 17,
   "metadata": {},
   "outputs": [],
   "source": [
    "from qiskit_nature.units import *   #ANGSTROM\n",
    "from qiskit_nature.second_q.drivers import *    #PySCFDriver\n",
    "from qiskit_nature.second_q.mappers import * #JordanWignerMapper\n",
    "from qiskit_nature.second_q.algorithms import GroundStateEigensolver\n",
    "from qiskit_nature.second_q.problems import ElectronicStructureProblem\n",
    "from qiskit_nature.second_q.problems import EigenstateResult\n",
    "from qiskit_nature.second_q.circuit.library import *  #Ansatz, HF\n",
    "#from qiskit_ibm_runtime import QiskitRuntimeService, Session, Estimator, Options\n",
    "from qiskit_algorithms.optimizers import * \n",
    "from qiskit_algorithms import VQE\n",
    "from braket.tracking import Tracker\n",
    "from qiskit_braket_provider import *\n",
    "from qiskit_aer import StatevectorSimulator\n",
    "from qiskit.primitives import Estimator\n",
    "from qiskit_nature.second_q.transformers import ActiveSpaceTransformer\n",
    "from qiskit_algorithms import AdaptVQE\n",
    "import numpy as np\n",
    "import pandas as pd"
   ]
  },
  {
   "cell_type": "code",
   "execution_count": 18,
   "metadata": {},
   "outputs": [],
   "source": [
    "def co2_sim(z,y):\n",
    "    driver = PySCFDriver(atom=f\"O 0 {y} -{z}; C 0 0 0; O 0 {y} {z}\", basis=\"sto-6g\")\n",
    "    estrutura_inicial = driver.run() #Criamos a estrutura do nosso sistema\n",
    "\n",
    "    espaco_target_minimal = ActiveSpaceTransformer(4,4) #Active Space para o H2\n",
    "    estrutura_minimal = espaco_target_minimal.transform(estrutura_inicial)\n",
    "    mapa_minimal = estrutura_minimal.get_tapered_mapper(BravyiKitaevMapper())\n",
    "\n",
    "    ansatz = UCCSD(\n",
    "    estrutura_minimal.num_spatial_orbitals,\n",
    "    estrutura_minimal.num_particles,\n",
    "    mapa_minimal,\n",
    "    initial_state=HartreeFock(\n",
    "        estrutura_minimal.num_spatial_orbitals,\n",
    "        estrutura_minimal.num_particles,\n",
    "        mapa_minimal))\n",
    "\n",
    "\n",
    "    vqe_solver = VQE(Estimator(), ansatz, SLSQP())\n",
    "    vqe_solver.initial_point = [0.0] * ansatz.num_parameters\n",
    "\n",
    "\n",
    "    calculo = GroundStateEigensolver(mapa_minimal, vqe_solver)\n",
    "    resultado = calculo.solve(estrutura_minimal)\n",
    "    return resultado"
   ]
  },
  {
   "cell_type": "code",
   "execution_count": 14,
   "metadata": {},
   "outputs": [],
   "source": [
    "raio = np.arange(1,1.3,0.01)\n",
    "theta = np.arange(np.pi/4,np.pi/2 + np.pi/40, np.pi/40)\n",
    "par = [[r,o] for r in raio for o in theta]"
   ]
  },
  {
   "cell_type": "code",
   "execution_count": 19,
   "metadata": {},
   "outputs": [
    {
     "ename": "MissingOptionalLibraryError",
     "evalue": "\"The 'pyscf' library is required to use 'PySCFDriver'.  See https://pyscf.org/install.html.\"",
     "output_type": "error",
     "traceback": [
      "\u001b[1;31m---------------------------------------------------------------------------\u001b[0m",
      "\u001b[1;31mMissingOptionalLibraryError\u001b[0m               Traceback (most recent call last)",
      "Cell \u001b[1;32mIn[19], line 1\u001b[0m\n\u001b[1;32m----> 1\u001b[0m dados \u001b[38;5;241m=\u001b[39m [[a[\u001b[38;5;241m0\u001b[39m]\u001b[38;5;241m*\u001b[39mnp\u001b[38;5;241m.\u001b[39msin(a[\u001b[38;5;241m1\u001b[39m]), a[\u001b[38;5;241m0\u001b[39m]\u001b[38;5;241m*\u001b[39mnp\u001b[38;5;241m.\u001b[39mcos(a[\u001b[38;5;241m1\u001b[39m]), \u001b[43mco2_sim\u001b[49m\u001b[43m(\u001b[49m\u001b[43ma\u001b[49m\u001b[43m[\u001b[49m\u001b[38;5;241;43m0\u001b[39;49m\u001b[43m]\u001b[49m\u001b[38;5;241;43m*\u001b[39;49m\u001b[43mnp\u001b[49m\u001b[38;5;241;43m.\u001b[39;49m\u001b[43msin\u001b[49m\u001b[43m(\u001b[49m\u001b[43ma\u001b[49m\u001b[43m[\u001b[49m\u001b[38;5;241;43m1\u001b[39;49m\u001b[43m]\u001b[49m\u001b[43m)\u001b[49m\u001b[43m,\u001b[49m\u001b[43ma\u001b[49m\u001b[43m[\u001b[49m\u001b[38;5;241;43m0\u001b[39;49m\u001b[43m]\u001b[49m\u001b[38;5;241;43m*\u001b[39;49m\u001b[43mnp\u001b[49m\u001b[38;5;241;43m.\u001b[39;49m\u001b[43mcos\u001b[49m\u001b[43m(\u001b[49m\u001b[43ma\u001b[49m\u001b[43m[\u001b[49m\u001b[38;5;241;43m1\u001b[39;49m\u001b[43m]\u001b[49m\u001b[43m)\u001b[49m\u001b[43m)\u001b[49m] \u001b[38;5;28;01mfor\u001b[39;00m a \u001b[38;5;129;01min\u001b[39;00m par]\n",
      "Cell \u001b[1;32mIn[18], line 2\u001b[0m, in \u001b[0;36mco2_sim\u001b[1;34m(z, y)\u001b[0m\n\u001b[0;32m      1\u001b[0m \u001b[38;5;28;01mdef\u001b[39;00m \u001b[38;5;21mco2_sim\u001b[39m(z,y):\n\u001b[1;32m----> 2\u001b[0m     driver \u001b[38;5;241m=\u001b[39m \u001b[43mPySCFDriver\u001b[49m\u001b[43m(\u001b[49m\u001b[43matom\u001b[49m\u001b[38;5;241;43m=\u001b[39;49m\u001b[38;5;124;43mf\u001b[39;49m\u001b[38;5;124;43m\"\u001b[39;49m\u001b[38;5;124;43mO 0 \u001b[39;49m\u001b[38;5;132;43;01m{\u001b[39;49;00m\u001b[43my\u001b[49m\u001b[38;5;132;43;01m}\u001b[39;49;00m\u001b[38;5;124;43m -\u001b[39;49m\u001b[38;5;132;43;01m{\u001b[39;49;00m\u001b[43mz\u001b[49m\u001b[38;5;132;43;01m}\u001b[39;49;00m\u001b[38;5;124;43m; C 0 0 0; O 0 \u001b[39;49m\u001b[38;5;132;43;01m{\u001b[39;49;00m\u001b[43my\u001b[49m\u001b[38;5;132;43;01m}\u001b[39;49;00m\u001b[38;5;124;43m \u001b[39;49m\u001b[38;5;132;43;01m{\u001b[39;49;00m\u001b[43mz\u001b[49m\u001b[38;5;132;43;01m}\u001b[39;49;00m\u001b[38;5;124;43m\"\u001b[39;49m\u001b[43m,\u001b[49m\u001b[43m \u001b[49m\u001b[43mbasis\u001b[49m\u001b[38;5;241;43m=\u001b[39;49m\u001b[38;5;124;43m\"\u001b[39;49m\u001b[38;5;124;43msto-6g\u001b[39;49m\u001b[38;5;124;43m\"\u001b[39;49m\u001b[43m)\u001b[49m\n\u001b[0;32m      3\u001b[0m     estrutura_inicial \u001b[38;5;241m=\u001b[39m driver\u001b[38;5;241m.\u001b[39mrun() \u001b[38;5;66;03m#Criamos a estrutura do nosso sistema\u001b[39;00m\n\u001b[0;32m      5\u001b[0m     espaco_target_minimal \u001b[38;5;241m=\u001b[39m ActiveSpaceTransformer(\u001b[38;5;241m4\u001b[39m,\u001b[38;5;241m4\u001b[39m) \u001b[38;5;66;03m#Active Space para o H2\u001b[39;00m\n",
      "File \u001b[1;32mc:\\Users\\HackerSpace Aluno\\AppData\\Local\\Programs\\Python\\Python312\\Lib\\site-packages\\qiskit\\utils\\classtools.py:111\u001b[0m, in \u001b[0;36m_WrappedMethod.__get__.<locals>.out\u001b[1;34m(*args, **kwargs)\u001b[0m\n\u001b[0;32m    108\u001b[0m \u001b[38;5;129m@functools\u001b[39m\u001b[38;5;241m.\u001b[39mwraps(method)\n\u001b[0;32m    109\u001b[0m \u001b[38;5;28;01mdef\u001b[39;00m \u001b[38;5;21mout\u001b[39m(\u001b[38;5;241m*\u001b[39margs, \u001b[38;5;241m*\u001b[39m\u001b[38;5;241m*\u001b[39mkwargs):\n\u001b[0;32m    110\u001b[0m     \u001b[38;5;28;01mfor\u001b[39;00m callback \u001b[38;5;129;01min\u001b[39;00m \u001b[38;5;28mself\u001b[39m\u001b[38;5;241m.\u001b[39m_before:\n\u001b[1;32m--> 111\u001b[0m         \u001b[43mcallback\u001b[49m\u001b[38;5;241;43m.\u001b[39;49m\u001b[38;5;21;43m__get__\u001b[39;49m\u001b[43m(\u001b[49m\u001b[43mobj\u001b[49m\u001b[43m,\u001b[49m\u001b[43m \u001b[49m\u001b[43mobjtype\u001b[49m\u001b[43m)\u001b[49m\u001b[43m(\u001b[49m\u001b[38;5;241;43m*\u001b[39;49m\u001b[43margs\u001b[49m\u001b[43m,\u001b[49m\u001b[43m \u001b[49m\u001b[38;5;241;43m*\u001b[39;49m\u001b[38;5;241;43m*\u001b[39;49m\u001b[43mkwargs\u001b[49m\u001b[43m)\u001b[49m\n\u001b[0;32m    112\u001b[0m     retval \u001b[38;5;241m=\u001b[39m method(\u001b[38;5;241m*\u001b[39margs, \u001b[38;5;241m*\u001b[39m\u001b[38;5;241m*\u001b[39mkwargs)\n\u001b[0;32m    113\u001b[0m     \u001b[38;5;28;01mfor\u001b[39;00m callback \u001b[38;5;129;01min\u001b[39;00m \u001b[38;5;28mself\u001b[39m\u001b[38;5;241m.\u001b[39m_after:\n",
      "File \u001b[1;32mc:\\Users\\HackerSpace Aluno\\AppData\\Local\\Programs\\Python\\Python312\\Lib\\site-packages\\qiskit\\utils\\lazy_tester.py:41\u001b[0m, in \u001b[0;36m_RequireNow.__call__\u001b[1;34m(self, *_args, **_kwargs)\u001b[0m\n\u001b[0;32m     40\u001b[0m \u001b[38;5;28;01mdef\u001b[39;00m \u001b[38;5;21m__call__\u001b[39m(\u001b[38;5;28mself\u001b[39m, \u001b[38;5;241m*\u001b[39m_args, \u001b[38;5;241m*\u001b[39m\u001b[38;5;241m*\u001b[39m_kwargs):\n\u001b[1;32m---> 41\u001b[0m     \u001b[38;5;28;43mself\u001b[39;49m\u001b[38;5;241;43m.\u001b[39;49m\u001b[43m_tester\u001b[49m\u001b[38;5;241;43m.\u001b[39;49m\u001b[43mrequire_now\u001b[49m\u001b[43m(\u001b[49m\u001b[38;5;28;43mself\u001b[39;49m\u001b[38;5;241;43m.\u001b[39;49m\u001b[43m_feature\u001b[49m\u001b[43m)\u001b[49m\n",
      "File \u001b[1;32mc:\\Users\\HackerSpace Aluno\\AppData\\Local\\Programs\\Python\\Python312\\Lib\\site-packages\\qiskit\\utils\\lazy_tester.py:221\u001b[0m, in \u001b[0;36mLazyDependencyManager.require_now\u001b[1;34m(self, feature)\u001b[0m\n\u001b[0;32m    219\u001b[0m \u001b[38;5;28;01mif\u001b[39;00m \u001b[38;5;28mself\u001b[39m:\n\u001b[0;32m    220\u001b[0m     \u001b[38;5;28;01mreturn\u001b[39;00m\n\u001b[1;32m--> 221\u001b[0m \u001b[38;5;28;01mraise\u001b[39;00m MissingOptionalLibraryError(\n\u001b[0;32m    222\u001b[0m     libname\u001b[38;5;241m=\u001b[39m\u001b[38;5;28mself\u001b[39m\u001b[38;5;241m.\u001b[39m_name, name\u001b[38;5;241m=\u001b[39mfeature, pip_install\u001b[38;5;241m=\u001b[39m\u001b[38;5;28mself\u001b[39m\u001b[38;5;241m.\u001b[39m_install, msg\u001b[38;5;241m=\u001b[39m\u001b[38;5;28mself\u001b[39m\u001b[38;5;241m.\u001b[39m_msg\n\u001b[0;32m    223\u001b[0m )\n",
      "\u001b[1;31mMissingOptionalLibraryError\u001b[0m: \"The 'pyscf' library is required to use 'PySCFDriver'.  See https://pyscf.org/install.html.\""
     ]
    }
   ],
   "source": [
    "dados = [[a[0]*np.sin(a[1]), a[0]*np.cos(a[1]), co2_sim(a[0]*np.sin(a[1]),a[0]*np.cos(a[1]))] for a in par]"
   ]
  },
  {
   "cell_type": "code",
   "execution_count": null,
   "metadata": {},
   "outputs": [],
   "source": []
  }
 ],
 "metadata": {
  "kernelspec": {
   "display_name": "Python 3",
   "language": "python",
   "name": "python3"
  },
  "language_info": {
   "codemirror_mode": {
    "name": "ipython",
    "version": 3
   },
   "file_extension": ".py",
   "mimetype": "text/x-python",
   "name": "python",
   "nbconvert_exporter": "python",
   "pygments_lexer": "ipython3",
   "version": "3.12.5"
  }
 },
 "nbformat": 4,
 "nbformat_minor": 2
}
