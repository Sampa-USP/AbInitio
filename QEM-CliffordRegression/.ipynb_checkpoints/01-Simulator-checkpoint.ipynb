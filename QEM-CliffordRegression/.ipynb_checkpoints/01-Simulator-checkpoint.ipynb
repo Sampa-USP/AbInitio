{
 "cells": [
  {
   "cell_type": "code",
   "execution_count": 8,
   "id": "7328ad33-59ca-4b01-807d-fe0c7889120a",
   "metadata": {
    "tags": []
   },
   "outputs": [],
   "source": [
    "from braket.tracking import Tracker\n",
    "t = Tracker().start()"
   ]
  },
  {
   "cell_type": "code",
   "execution_count": 100,
   "id": "d13e2085-3633-44f3-92b1-59c920f978c3",
   "metadata": {
    "tags": []
   },
   "outputs": [],
   "source": [
    "# general imports\n",
    "import matplotlib.pyplot as plt\n",
    "# magic word for producing visualizations in notebook\n",
    "%matplotlib inline\n",
    "import string\n",
    "import time\n",
    "\n",
    "# AWS imports: Import Braket SDK modules\n",
    "from braket.aws import AwsDevice, AwsQuantumTask\n",
    "from braket.circuits import Circuit, Gate, observables\n",
    "from braket.device_schema import DeviceActionType\n",
    "from braket.devices import Devices, LocalSimulator\n",
    "from braket.parametric import FreeParameter"
   ]
  },
  {
   "cell_type": "code",
   "execution_count": 101,
   "id": "f628beac-93a8-4ab1-bb1a-4f385be21d90",
   "metadata": {
    "tags": []
   },
   "outputs": [
    {
     "data": {
      "text/plain": [
       "Circuit('instructions': [Instruction('operator': Ry('angle': 0.0, 'qubit_count': 1), 'target': QubitSet([Qubit(0)]), 'control': QubitSet([]), 'control_state': (), 'power': 1), Instruction('operator': Rz('angle': 0.36959914, 'qubit_count': 1), 'target': QubitSet([Qubit(0)]), 'control': QubitSet([]), 'control_state': (), 'power': 1), Instruction('operator': Ry('angle': 0.73919827, 'qubit_count': 1), 'target': QubitSet([Qubit(1)]), 'control': QubitSet([]), 'control_state': (), 'power': 1), Instruction('operator': Rz('angle': 1.10879741, 'qubit_count': 1), 'target': QubitSet([Qubit(1)]), 'control': QubitSet([]), 'control_state': (), 'power': 1), Instruction('operator': Ry('angle': 1.47839654, 'qubit_count': 1), 'target': QubitSet([Qubit(2)]), 'control': QubitSet([]), 'control_state': (), 'power': 1), Instruction('operator': Rz('angle': 1.84799568, 'qubit_count': 1), 'target': QubitSet([Qubit(2)]), 'control': QubitSet([]), 'control_state': (), 'power': 1), Instruction('operator': CNot('qubit_count': 2), 'target': QubitSet([Qubit(0), Qubit(1)]), 'control': QubitSet([]), 'control_state': (), 'power': 1), Instruction('operator': CNot('qubit_count': 2), 'target': QubitSet([Qubit(1), Qubit(2)]), 'control': QubitSet([]), 'control_state': (), 'power': 1), Instruction('operator': Ry('angle': 2.21759481, 'qubit_count': 1), 'target': QubitSet([Qubit(0)]), 'control': QubitSet([]), 'control_state': (), 'power': 1), Instruction('operator': Rz('angle': 2.58719395, 'qubit_count': 1), 'target': QubitSet([Qubit(0)]), 'control': QubitSet([]), 'control_state': (), 'power': 1), Instruction('operator': Ry('angle': 2.95679309, 'qubit_count': 1), 'target': QubitSet([Qubit(1)]), 'control': QubitSet([]), 'control_state': (), 'power': 1), Instruction('operator': Rz('angle': 3.32639222, 'qubit_count': 1), 'target': QubitSet([Qubit(1)]), 'control': QubitSet([]), 'control_state': (), 'power': 1), Instruction('operator': Ry('angle': 3.69599136, 'qubit_count': 1), 'target': QubitSet([Qubit(2)]), 'control': QubitSet([]), 'control_state': (), 'power': 1), Instruction('operator': Rz('angle': 4.06559049, 'qubit_count': 1), 'target': QubitSet([Qubit(2)]), 'control': QubitSet([]), 'control_state': (), 'power': 1), Instruction('operator': CNot('qubit_count': 2), 'target': QubitSet([Qubit(0), Qubit(1)]), 'control': QubitSet([]), 'control_state': (), 'power': 1), Instruction('operator': CNot('qubit_count': 2), 'target': QubitSet([Qubit(1), Qubit(2)]), 'control': QubitSet([]), 'control_state': (), 'power': 1), Instruction('operator': Ry('angle': 4.43518963, 'qubit_count': 1), 'target': QubitSet([Qubit(0)]), 'control': QubitSet([]), 'control_state': (), 'power': 1), Instruction('operator': Rz('angle': 4.80478876, 'qubit_count': 1), 'target': QubitSet([Qubit(0)]), 'control': QubitSet([]), 'control_state': (), 'power': 1), Instruction('operator': Ry('angle': 5.1743879, 'qubit_count': 1), 'target': QubitSet([Qubit(1)]), 'control': QubitSet([]), 'control_state': (), 'power': 1), Instruction('operator': Rz('angle': 5.54398704, 'qubit_count': 1), 'target': QubitSet([Qubit(1)]), 'control': QubitSet([]), 'control_state': (), 'power': 1), Instruction('operator': Ry('angle': 5.91358617, 'qubit_count': 1), 'target': QubitSet([Qubit(2)]), 'control': QubitSet([]), 'control_state': (), 'power': 1), Instruction('operator': Rz('angle': 6.28318531, 'qubit_count': 1), 'target': QubitSet([Qubit(2)]), 'control': QubitSet([]), 'control_state': (), 'power': 1), Instruction('operator': CNot('qubit_count': 2), 'target': QubitSet([Qubit(0), Qubit(1)]), 'control': QubitSet([]), 'control_state': (), 'power': 1), Instruction('operator': CNot('qubit_count': 2), 'target': QubitSet([Qubit(1), Qubit(2)]), 'control': QubitSet([]), 'control_state': (), 'power': 1)])"
      ]
     },
     "execution_count": 101,
     "metadata": {},
     "output_type": "execute_result"
    }
   ],
   "source": [
    "# Define a circuit\n",
    "\n",
    "nqubits=3\n",
    "nlayers=3\n",
    "nshots=2000\n",
    "\n",
    "circ = Circuit()\n",
    "\n",
    "circ.ry(0, 0)\n",
    "circ.rz(0, 0.36959914)\n",
    "circ.ry(1, 0.73919827)\n",
    "circ.rz(1, 1.10879741)\n",
    "circ.ry(2, 1.47839654)\n",
    "circ.rz(2, 1.84799568)\n",
    "circ.cnot(0, 1)\n",
    "circ.cnot(1, 2)\n",
    "circ.ry(0, 2.21759481)\n",
    "circ.rz(0, 2.58719395)\n",
    "circ.ry(1, 2.95679309)\n",
    "circ.rz(1, 3.32639222)\n",
    "circ.ry(2, 3.69599136)\n",
    "circ.rz(2, 4.06559049)\n",
    "circ.cnot(0, 1)\n",
    "circ.cnot(1, 2)\n",
    "circ.ry(0, 4.43518963)\n",
    "circ.rz(0, 4.80478876)\n",
    "circ.ry(1, 5.1743879)\n",
    "circ.rz(1, 5.54398704)\n",
    "circ.ry(2, 5.91358617)\n",
    "circ.rz(2, 6.28318531)\n",
    "circ.cnot(0, 1)\n",
    "circ.cnot(1, 2)\n"
   ]
  },
  {
   "cell_type": "code",
   "execution_count": 102,
   "id": "9a0f4582-7208-4281-80de-3a9876411720",
   "metadata": {
    "tags": []
   },
   "outputs": [
    {
     "name": "stdout",
     "output_type": "stream",
     "text": [
      "T  : │     0      │     1      │  2  │     3      │     4      │     5      │  6  │     7      │     8      │     9      │ 10  │ 11  │\n",
      "       ┌───────┐   ┌──────────┐       ┌──────────┐ ┌──────────┐                    ┌──────────┐ ┌──────────┐                          \n",
      "q0 : ──┤ Ry(0) ├───┤ Rz(0.37) ├───●───┤ Ry(2.22) ├─┤ Rz(2.59) ├────────────────●───┤ Ry(4.44) ├─┤ Rz(4.80) ├────────────────●─────────\n",
      "       └───────┘   └──────────┘   │   └──────────┘ └──────────┘                │   └──────────┘ └──────────┘                │         \n",
      "      ┌──────────┐ ┌──────────┐ ┌─┴─┐              ┌──────────┐ ┌──────────┐ ┌─┴─┐              ┌──────────┐ ┌──────────┐ ┌─┴─┐       \n",
      "q1 : ─┤ Ry(0.74) ├─┤ Rz(1.11) ├─┤ X ├──────●───────┤ Ry(2.96) ├─┤ Rz(3.33) ├─┤ X ├──────●───────┤ Ry(5.17) ├─┤ Rz(5.54) ├─┤ X ├───●───\n",
      "      └──────────┘ └──────────┘ └───┘      │       └──────────┘ └──────────┘ └───┘      │       └──────────┘ └──────────┘ └───┘   │   \n",
      "      ┌──────────┐ ┌──────────┐          ┌─┴─┐     ┌──────────┐ ┌──────────┐          ┌─┴─┐     ┌──────────┐ ┌──────────┐       ┌─┴─┐ \n",
      "q2 : ─┤ Ry(1.48) ├─┤ Rz(1.85) ├──────────┤ X ├─────┤ Ry(3.70) ├─┤ Rz(4.07) ├──────────┤ X ├─────┤ Ry(5.91) ├─┤ Rz(6.28) ├───────┤ X ├─\n",
      "      └──────────┘ └──────────┘          └───┘     └──────────┘ └──────────┘          └───┘     └──────────┘ └──────────┘       └───┘ \n",
      "T  : │     0      │     1      │  2  │     3      │     4      │     5      │  6  │     7      │     8      │     9      │ 10  │ 11  │\n"
     ]
    }
   ],
   "source": [
    "print(circ)"
   ]
  },
  {
   "cell_type": "code",
   "execution_count": 103,
   "id": "a6ffcf95-20b7-4083-9e89-363fd3ce18a4",
   "metadata": {
    "tags": []
   },
   "outputs": [],
   "source": [
    "# set up device: Local Simulator\n",
    "device = LocalSimulator()"
   ]
  },
  {
   "cell_type": "code",
   "execution_count": 104,
   "id": "84095ef3-dff0-4d6c-ad42-a07511bd2fa4",
   "metadata": {
    "tags": []
   },
   "outputs": [
    {
     "name": "stdout",
     "output_type": "stream",
     "text": [
      "Counter({'011': 679, '001': 518, '111': 392, '110': 137, '101': 121, '000': 90, '010': 38, '100': 25})\n",
      "0.027\n"
     ]
    }
   ],
   "source": [
    "# run circuit (execute single TASK)\n",
    "result = device.run(circ, shots=nshots).result()\n",
    "# get measurement shots\n",
    "counts = result.measurement_counts\n",
    "result.\n",
    "# print counts\n",
    "print(counts)\n",
    "print(expectation_value_from_counts(counts))"
   ]
  },
  {
   "cell_type": "code",
   "execution_count": 105,
   "id": "397156b4-b7bc-4e33-918b-2ffef441aa43",
   "metadata": {
    "tags": []
   },
   "outputs": [
    {
     "name": "stdout",
     "output_type": "stream",
     "text": [
      "Counter({'011': 679, '001': 518, '111': 392, '110': 137, '101': 121, '000': 90, '010': 38, '100': 25})\n",
      "{'000': 90, '001': 518, '010': 38, '011': 679, '100': 25, '101': 121, '110': 137, '111': 392}\n"
     ]
    },
    {
     "data": {
      "text/plain": [
       "Text(0, 0.5, 'counts')"
      ]
     },
     "execution_count": 105,
     "metadata": {},
     "output_type": "execute_result"
    },
    {
     "data": {
      "image/png": "[encoded data removed]",
      "text/plain": [
       "<Figure size 640x480 with 1 Axes>"
      ]
     },
     "metadata": {},
     "output_type": "display_data"
    }
   ],
   "source": [
    "# plot using Counter\n",
    "\n",
    "print(counts)\n",
    "count = dict(sorted(counts.items(),key=lambda x:x[0]))\n",
    "\n",
    "print(c)\n",
    "plt.bar(count.keys(), count.values())\n",
    "plt.xlabel('bitstrings')\n",
    "plt.ylabel('counts')"
   ]
  },
  {
   "cell_type": "code",
   "execution_count": 106,
   "id": "d92b59b9-0529-4715-9e21-05c6fc6c710f",
   "metadata": {
    "tags": []
   },
   "outputs": [
    {
     "data": {
      "text/plain": [
       "0.027"
      ]
     },
     "execution_count": 106,
     "metadata": {},
     "output_type": "execute_result"
    }
   ],
   "source": [
    "def getParity(n):\n",
    "    parity = 0\n",
    "    while n:\n",
    "        parity = ~parity\n",
    "        n = n & (n - 1)\n",
    "    return parity\n",
    "\n",
    "import itertools\n",
    "def expectation_value_from_counts(counts):\n",
    "    exp_val = 0\n",
    "    for x in map(''.join, itertools.product('01', repeat=nqubits)):\n",
    "        if x in counts:   # making sure that x is in the output as the counts dictionary contains no values with 0 occurrence\n",
    "            if getParity(int(x,2)) == -1:\n",
    "                exp_val = exp_val - counts[x]\n",
    "            if getParity(int(x,2)) == 0:\n",
    "                exp_val = exp_val + counts[x]\n",
    "    return exp_val/nshots\n",
    "\n",
    "expectation_value_from_counts(counts)"
   ]
  },
  {
   "cell_type": "code",
   "execution_count": 110,
   "id": "e9f405ad-3c14-4577-8133-d9abf703ffa8",
   "metadata": {
    "tags": []
   },
   "outputs": [
    {
     "ename": "NameError",
     "evalue": "name 'statevector' is not defined",
     "output_type": "error",
     "traceback": [
      "\u001b[0;31m---------------------------------------------------------------------------\u001b[0m",
      "\u001b[0;31mNameError\u001b[0m                                 Traceback (most recent call last)",
      "Cell \u001b[0;32mIn[110], line 9\u001b[0m\n\u001b[1;32m      6\u001b[0m state_vector[idx] \u001b[38;5;241m=\u001b[39m \u001b[38;5;241m1\u001b[39m\n\u001b[1;32m      8\u001b[0m \u001b[38;5;66;03m# Calculate expectation value for this outcome\u001b[39;00m\n\u001b[0;32m----> 9\u001b[0m outcome_exp_value \u001b[38;5;241m=\u001b[39m \u001b[43mstatevector\u001b[49m\u001b[38;5;241m.\u001b[39mT\u001b[38;5;241m.\u001b[39mconj() \u001b[38;5;241m@\u001b[39m matrix_m_hat \u001b[38;5;241m@\u001b[39m statevector\n\u001b[1;32m     10\u001b[0m expectation_value \u001b[38;5;241m+\u001b[39m\u001b[38;5;241m=\u001b[39m outcome_exp_value \u001b[38;5;241m*\u001b[39m value\n",
      "\u001b[0;31mNameError\u001b[0m: name 'statevector' is not defined"
     ]
    }
   ],
   "source": [
    "from qiskit.quantum_info import Statevector\n",
    "for key, value in counts.items():\n",
    "    # Convert bit string to state vector\n",
    "    idx = int(key, 2)  # Convert binary string to integer\n",
    "    state_vector = np.zeros(2**nqubits)\n",
    "    state_vector[idx] = 1\n",
    "\n",
    "    # Calculate expectation value for this outcome\n",
    "    outcome_exp_value = statevector.T.conj() @ matrix_m_hat @ statevector\n",
    "    expectation_value += outcome_exp_value * value"
   ]
  },
  {
   "cell_type": "code",
   "execution_count": 151,
   "id": "bca365ff-82f6-46b9-b13a-d67b6da229de",
   "metadata": {
    "tags": []
   },
   "outputs": [
    {
     "name": "stdout",
     "output_type": "stream",
     "text": [
      "[[-3.+0.j -0.+0.j -0.+0.j -0.+0.j -0.+0.j -0.+0.j -0.+0.j -0.+0.j]\n",
      " [-0.+0.j -1.+0.j -0.+0.j -0.+0.j -0.+0.j -0.+0.j -0.+0.j -0.+0.j]\n",
      " [-0.+0.j -0.+0.j -1.+0.j -0.+0.j -0.+0.j -0.+0.j -0.+0.j -0.+0.j]\n",
      " [-0.+0.j -0.+0.j -0.+0.j  1.+0.j -0.+0.j -0.+0.j -0.+0.j -0.+0.j]\n",
      " [-0.+0.j -0.+0.j -0.+0.j -0.+0.j -1.+0.j -0.+0.j -0.+0.j -0.+0.j]\n",
      " [-0.+0.j -0.+0.j -0.+0.j -0.+0.j -0.+0.j  1.+0.j -0.+0.j -0.+0.j]\n",
      " [-0.+0.j -0.+0.j -0.+0.j -0.+0.j -0.+0.j -0.+0.j  1.+0.j -0.+0.j]\n",
      " [-0.+0.j -0.+0.j -0.+0.j -0.+0.j -0.+0.j -0.+0.j -0.+0.j  3.+0.j]]\n"
     ]
    }
   ],
   "source": [
    "\n",
    "obs_matrix = np.array([[-3.-0.j,-0.-0.j,-0.-0.j,-0.-0.j,-0.-0.j,-0.-0.j,-0.-0.j,-0.-0.j],\n",
    "                               [-0.-0.j,-1.-0.j,-0.-0.j,-0.-0.j,-0.-0.j,-0.-0.j,-0.-0.j,-0.-0.j],\n",
    "                               [-0.-0.j,-0.-0.j,-1.-0.j,-0.-0.j,-0.-0.j,-0.-0.j,-0.-0.j,-0.-0.j],\n",
    "                               [-0.-0.j,-0.-0.j,-0.-0.j,1.-0.j,-0.-0.j,-0.-0.j,-0.-0.j,-0.-0.j],\n",
    "                               [-0.-0.j,-0.-0.j,-0.-0.j,-0.-0.j,-1.-0.j,-0.-0.j,-0.-0.j,-0.-0.j],\n",
    "                               [-0.-0.j,-0.-0.j,-0.-0.j,-0.-0.j,-0.-0.j,1.-0.j,-0.-0.j,-0.-0.j],\n",
    "                               [-0.-0.j,-0.-0.j,-0.-0.j,-0.-0.j,-0.-0.j,-0.-0.j,1.-0.j,-0.-0.j],\n",
    "                               [-0.-0.j,-0.-0.j,-0.-0.j,-0.-0.j,-0.-0.j,-0.-0.j,-0.-0.j,3.-0.j]])\n",
    "\n",
    "    \n",
    "print(obs_matrix)\n"
   ]
  },
  {
   "cell_type": "code",
   "execution_count": 153,
   "id": "25d45a4c-fd22-4967-9c27-8983ec2036fc",
   "metadata": {
    "tags": []
   },
   "outputs": [],
   "source": [
    "obs_matrix = np.array([[-3.-0.j,-0.-0.j,-0.-0.j,-0.-0.j,-0.-0.j,-0.-0.j,-0.-0.j,-0.-0.j],\n",
    "                               [-0.-0.j,-1.-0.j,-0.-0.j,-0.-0.j,-0.-0.j,-0.-0.j,-0.-0.j,-0.-0.j],\n",
    "                               [-0.-0.j,-0.-0.j,-1.-0.j,-0.-0.j,-0.-0.j,-0.-0.j,-0.-0.j,-0.-0.j],\n",
    "                               [-0.-0.j,-0.-0.j,-0.-0.j,1.-0.j,-0.-0.j,-0.-0.j,-0.-0.j,-0.-0.j],\n",
    "                               [-0.-0.j,-0.-0.j,-0.-0.j,-0.-0.j,-1.-0.j,-0.-0.j,-0.-0.j,-0.-0.j],\n",
    "                               [-0.-0.j,-0.-0.j,-0.-0.j,-0.-0.j,-0.-0.j,1.-0.j,-0.-0.j,-0.-0.j],\n",
    "                               [-0.-0.j,-0.-0.j,-0.-0.j,-0.-0.j,-0.-0.j,-0.-0.j,1.-0.j,-0.-0.j],\n",
    "                               [-0.-0.j,-0.-0.j,-0.-0.j,-0.-0.j,-0.-0.j,-0.-0.j,-0.-0.j,3.-0.j]])\n",
    "\n",
    "def expectation_from_samples(obs, freq, qubit_map=None):\n",
    "    if np.count_nonzero(obs - np.diag(np.diagonal(obs))) != 0:\n",
    "        raise_error(NotImplementedError, \"Observable is not diagonal.\")\n",
    "    keys = list(freq.keys())\n",
    "    if qubit_map is None:\n",
    "        qubit_map = list(range(int(np.log2(len(obs)))))\n",
    "    counts = np.array(list(freq.values())) / sum(freq.values())\n",
    "    expval = 0\n",
    "    size = len(qubit_map)\n",
    "    for j, k in enumerate(keys):\n",
    "        index = 0\n",
    "        for i in qubit_map:\n",
    "            index += int(k[qubit_map.index(i)]) * 2 ** (size - 1 - i)\n",
    "        expval += obs[index, index] * counts[j]\n",
    "    return np.real(expval)"
   ]
  },
  {
   "cell_type": "code",
   "execution_count": 154,
   "id": "1648b87e-2366-42e4-b722-ca18ef8db636",
   "metadata": {
    "tags": []
   },
   "outputs": [
    {
     "data": {
      "text/plain": [
       "0.6310000000000001"
      ]
     },
     "execution_count": 154,
     "metadata": {},
     "output_type": "execute_result"
    }
   ],
   "source": [
    "expectation_from_samples(obs_matrix, count)"
   ]
  }
 ],
 "metadata": {
  "kernelspec": {
   "display_name": "conda_braket",
   "language": "python",
   "name": "conda_braket"
  },
  "language_info": {
   "codemirror_mode": {
    "name": "ipython",
    "version": 3
   },
   "file_extension": ".py",
   "mimetype": "text/x-python",
   "name": "python",
   "nbconvert_exporter": "python",
   "pygments_lexer": "ipython3",
   "version": "3.10.14"
  }
 },
 "nbformat": 4,
 "nbformat_minor": 5
}
