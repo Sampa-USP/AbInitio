{
 "cells": [
  {
   "cell_type": "code",
   "execution_count": 2,
   "id": "a5f714ac-e7f8-45ca-b933-2a85a0cb8616",
   "metadata": {},
   "outputs": [
    {
     "ename": "ModuleNotFoundError",
     "evalue": "No module named 'pennylane'",
     "output_type": "error",
     "traceback": [
      "\u001b[0;31m---------------------------------------------------------------------------\u001b[0m",
      "\u001b[0;31mModuleNotFoundError\u001b[0m                       Traceback (most recent call last)",
      "Cell \u001b[0;32mIn[2], line 1\u001b[0m\n\u001b[0;32m----> 1\u001b[0m \u001b[38;5;28;01mimport\u001b[39;00m \u001b[38;5;21;01mpennylane\u001b[39;00m \u001b[38;5;28;01mas\u001b[39;00m \u001b[38;5;21;01mqml\u001b[39;00m\n\u001b[1;32m      2\u001b[0m \u001b[38;5;28;01mfrom\u001b[39;00m \u001b[38;5;21;01mpennylane\u001b[39;00m \u001b[38;5;28;01mimport\u001b[39;00m qchem\n\u001b[1;32m      3\u001b[0m \u001b[38;5;28;01mfrom\u001b[39;00m \u001b[38;5;21;01mpennylane\u001b[39;00m \u001b[38;5;28;01mimport\u001b[39;00m numpy \u001b[38;5;28;01mas\u001b[39;00m np\n",
      "\u001b[0;31mModuleNotFoundError\u001b[0m: No module named 'pennylane'"
     ]
    }
   ],
   "source": [
    "# Use Braket SDK Cost Tracking to estimate the cost to run this example\n",
    "from braket.tracking import Tracker\n",
    "t = Tracker().start()"
   ]
  },
  {
   "cell_type": "code",
   "execution_count": null,
   "id": "9d906a99-280d-4b07-bde6-f2257dd05906",
   "metadata": {},
   "outputs": [],
   "source": [
    "import pennylane as qml\n",
    "from pennylane import qchem\n",
    "from pennylane import numpy as np"
   ]
  },
  {
   "cell_type": "code",
   "execution_count": null,
   "id": "8dc47222-50d7-4d4b-b09e-c64100c0b36c",
   "metadata": {},
   "outputs": [],
   "source": [
    "symbols, coordinates = qchem.read_structure(\"h2.xyz\")\n",
    "h, qubits = qchem.molecular_hamiltonian(symbols, coordinates, name=\"h2\")"
   ]
  },
  {
   "cell_type": "code",
   "execution_count": null,
   "id": "e7484a2b-2b17-451b-9348-4b9d8bb3c9f1",
   "metadata": {},
   "outputs": [],
   "source": [
    "electrons = 2  # Molecular hydrogen has two electrons\n",
    "\n",
    "S2 = qchem.spin2(electrons, qubits)"
   ]
  },
  {
   "cell_type": "code",
   "execution_count": null,
   "id": "a3498b48-8aa0-4e1d-a014-eef4b3c36e66",
   "metadata": {},
   "outputs": [],
   "source": [
    "# Hartree-Fock state\n",
    "hf_state = qchem.hf_state(electrons, qubits)\n",
    "# generate single- and double-excitations\n",
    "singles, doubles = qchem.excitations(electrons, qubits)"
   ]
  },
  {
   "cell_type": "code",
   "execution_count": null,
   "id": "8f88d381-96d6-46db-aa14-78bed112b91f",
   "metadata": {},
   "outputs": [],
   "source": [
    "def circuit(params, wires):\n",
    "    qml.templates.AllSinglesDoubles(params, wires, hf_state, singles, doubles)"
   ]
  },
  {
   "cell_type": "code",
   "execution_count": null,
   "id": "0a66f046-c3aa-4f6a-a8f6-944affbf1132",
   "metadata": {},
   "outputs": [],
   "source": [
    "wires = dev.wires.tolist()\n",
    "print(wires)\n",
    "\n",
    "\n",
    "@qml.qnode(dev)\n",
    "def energy_expval(params):\n",
    "    print(params)\n",
    "    print(wires)\n",
    "    print(hf_state)\n",
    "    print(singles)\n",
    "    print(doubles)\n",
    "    qml.templates.AllSinglesDoubles(params, wires, hf_state, singles, doubles)\n",
    "    \n",
    "    \n",
    "    return qml.expval(h)\n",
    "\n",
    "@qml.qnode(dev)\n",
    "def S2_expval(params):\n",
    "    circuit(params, wires)\n",
    "    return qml.expval(S2)"
   ]
  },
  {
   "cell_type": "code",
   "execution_count": null,
   "id": "87d8a75f-4d8c-4298-8440-4f77f0347f0d",
   "metadata": {},
   "outputs": [],
   "source": [
    "def spin(params):\n",
    "    return -0.5 + np.sqrt(1 / 4 + S2_expval(params))"
   ]
  },
  {
   "cell_type": "code",
   "execution_count": null,
   "id": "0d2e69b1-29ff-4104-9dc8-c2f8ba9f8050",
   "metadata": {},
   "outputs": [],
   "source": [
    "np.random.seed(1967)\n",
    "params = np.random.normal(0, np.pi, len(singles) + len(doubles))"
   ]
  },
  {
   "cell_type": "code",
   "execution_count": null,
   "id": "f7d313bb-0c69-4e46-ba5c-64fd6bfd71e8",
   "metadata": {},
   "outputs": [],
   "source": [
    "energy= energy_expval(params)\n",
    "print(\"Energy:\", float(energy))\n",
    "print(\"Spin:  \", float(spin(params)))"
   ]
  },
  {
   "cell_type": "code",
   "execution_count": null,
   "id": "d7af48c1-c890-41d4-bce4-9e77fa1f4f98",
   "metadata": {},
   "outputs": [],
   "source": [
    "# Lets choose RMSPropOptimizer.\n",
    "# Other alternatives: GradientDescentOptimizer, AdagradOptimizer, AdamOptimizer, ...\n",
    "opt = qml.RMSPropOptimizer(stepsize=0.2)"
   ]
  },
  {
   "cell_type": "code",
   "execution_count": null,
   "id": "10f23ede-6b84-40c2-ba71-539871908331",
   "metadata": {},
   "outputs": [],
   "source": [
    "iterations = 7"
   ]
  },
  {
   "cell_type": "code",
   "execution_count": null,
   "id": "6469c9f9-c773-4096-aa52-5897eee7f8d2",
   "metadata": {},
   "outputs": [],
   "source": [
    "import time\n",
    "from braket.jobs.metrics import log_metric\n",
    "\n",
    "\n",
    "def run_vqe(energy_expval, spin, opt, initial_params, iterations):\n",
    "    energies = []\n",
    "    spins = []\n",
    "    params = initial_params\n",
    "\n",
    "    print(initial_params)\n",
    "    start = time.time()\n",
    "    for i in range(iterations):\n",
    "        params = opt.step(energy_expval, params)\n",
    "\n",
    "        e = energy_expval(params)\n",
    "        s = spin(params)\n",
    "\n",
    "        energies.append(e)\n",
    "        spins.append(s)\n",
    "\n",
    "        log_metric(metric_name=\"energy\", value=e, iteration_number=i)\n",
    "\n",
    "        print(f\"Completed iteration {i + 1}\")\n",
    "        print(\"Energy:\", e)\n",
    "        print(\"Total spin:\", s)\n",
    "        print(\"----------------\")\n",
    "\n",
    "    print(f\"Optimized energy: {e} Ha\")\n",
    "    print(f\"Corresponding total spin: {s}\")\n",
    "    print(f\"Elapsed: {time.time()-start} s\")\n",
    "    return energies, spins"
   ]
  },
  {
   "cell_type": "code",
   "execution_count": null,
   "id": "ca3e904d-c6d2-4397-88f9-a19505e2a8ec",
   "metadata": {},
   "outputs": [],
   "source": [
    "energies, spins = run_vqe(energy_expval, spin, opt, params, iterations)"
   ]
  },
  {
   "cell_type": "code",
   "execution_count": null,
   "id": "181c98f9-2baf-458c-becc-3489ec5a353a",
   "metadata": {},
   "outputs": [],
   "source": [
    "import matplotlib.pyplot as plt\n",
    "\n",
    "theory_energy = -1.136189454088\n",
    "theory_spin = 0\n",
    "\n",
    "plt.hlines(theory_energy, 0, iterations, colors=\"black\")\n",
    "plt.plot(energies, \"o-\")\n",
    "plt.xlabel(\"Steps\")\n",
    "plt.ylabel(\"Energy\")\n",
    "\n",
    "axs = plt.gca()"
   ]
  }
 ],
 "metadata": {
  "kernelspec": {
   "display_name": "Python 3 (ipykernel)",
   "language": "python",
   "name": "python3"
  },
  "language_info": {
   "codemirror_mode": {
    "name": "ipython",
    "version": 3
   },
   "file_extension": ".py",
   "mimetype": "text/x-python",
   "name": "python",
   "nbconvert_exporter": "python",
   "pygments_lexer": "ipython3",
   "version": "3.12.4"
  }
 },
 "nbformat": 4,
 "nbformat_minor": 5
}
