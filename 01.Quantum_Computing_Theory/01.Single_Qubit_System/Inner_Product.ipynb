{
 "cells": [
  {
   "cell_type": "code",
   "execution_count": 3,
   "id": "a6ed4497-4188-4a2f-8ef1-46ffe7820cdd",
   "metadata": {
    "tags": []
   },
   "outputs": [],
   "source": [
    "import numpy as np"
   ]
  },
  {
   "cell_type": "code",
   "execution_count": 10,
   "id": "c379f7b3-bcab-4fae-ae07-5b320daa2d6d",
   "metadata": {
    "tags": []
   },
   "outputs": [],
   "source": [
    "def inner_product(state_1, state_2):\n",
    "    \"\"\"Compute the inner product between two states.\n",
    "\n",
    "    Args:\n",
    "        state_1 (np.array[complex]): A normalized quantum state vector\n",
    "        state_2 (np.array[complex]): A second normalized quantum state vector\n",
    "\n",
    "    Returns:\n",
    "        complex: The value of the inner product <state_1 | state_2>.\n",
    "    \"\"\"\n",
    "\n",
    "    ##################\n",
    "    # YOUR CODE HERE #\n",
    "    ##################\n",
    "\n",
    "    # COMPUTE AND RETURN THE INNER PRODUCT\n",
    "    inner_product = np.inner(np.transpose(np.conjugate(state_1)),state_2)\n",
    "\n",
    "    return inner_product"
   ]
  },
  {
   "cell_type": "code",
   "execution_count": 11,
   "id": "21a84fc3-cbd4-4c32-9007-2f5ad68a0e46",
   "metadata": {
    "tags": []
   },
   "outputs": [
    {
     "name": "stdout",
     "output_type": "stream",
     "text": [
      "<0|0> = 1\n",
      "<0|1> = 0\n",
      "<1|0> = 0\n",
      "<1|1> = 1\n"
     ]
    }
   ],
   "source": [
    "# Test your results with this code\n",
    "ket_0 = np.array([1, 0])\n",
    "ket_1 = np.array([0, 1])\n",
    "\n",
    "print(f\"<0|0> = {inner_product(ket_0, ket_0)}\")\n",
    "print(f\"<0|1> = {inner_product(ket_0, ket_1)}\")\n",
    "print(f\"<1|0> = {inner_product(ket_1, ket_0)}\")\n",
    "print(f\"<1|1> = {inner_product(ket_1, ket_1)}\")"
   ]
  }
 ],
 "metadata": {
  "kernelspec": {
   "display_name": "conda_braket",
   "language": "python",
   "name": "conda_braket"
  },
  "language_info": {
   "codemirror_mode": {
    "name": "ipython",
    "version": 3
   },
   "file_extension": ".py",
   "mimetype": "text/x-python",
   "name": "python",
   "nbconvert_exporter": "python",
   "pygments_lexer": "ipython3",
   "version": "3.10.14"
  }
 },
 "nbformat": 4,
 "nbformat_minor": 5
}
