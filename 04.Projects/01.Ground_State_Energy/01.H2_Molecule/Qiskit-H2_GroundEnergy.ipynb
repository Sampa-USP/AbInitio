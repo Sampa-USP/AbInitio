{
 "cells": [
  {
   "cell_type": "markdown",
   "metadata": {},
   "source": [
    "<div class=\"alert alert-block alert-warning\">\n",
    "<b>Costs:</b> This QPU simulation costs ??? dollars.\n",
    "</div>"
   ]
  },
  {
   "cell_type": "markdown",
   "metadata": {},
   "source": [
    "<div class=\"alert alert-block alert-success\">\n",
    "<b>This simulation finds ground state energy for H2 molecule. </b>\n",
    "<div>Obs. 1: The data is saved in external files so that it can be worked on without incurring new costs.</div>\n",
    "<div>Obs. 2: For new simulation parameters, save in a file with a different name.</div>\n",
    "</div>"
   ]
  },
  {
   "cell_type": "markdown",
   "metadata": {},
   "source": [
    "# Instructions if you are running outside AWS cloud"
   ]
  },
  {
   "cell_type": "markdown",
   "metadata": {},
   "source": [
    "1. Install aws-cli:\n",
    "\n",
    "`sudo apt install aws-cli`\n",
    "\n",
    "2. Setup aws credentials:\n",
    "\n",
    "`aws configure --profile \"default\"`\n",
    "\n",
    "3. Create virtual environment \n",
    "\n",
    "`python -m venv /path/to/new/virtual/environment`\n",
    "\n",
    "4. Activate virtual environment\n",
    "\n",
    "`source /path/to/new/virtual/environment/bin/activate`"
   ]
  },
  {
   "cell_type": "code",
   "execution_count": null,
   "metadata": {},
   "outputs": [],
   "source": [
    "# Install this modules on your virtual environment\n",
    "!pip install amazon-braket-sdk\n",
    "!pip install boto3\n",
    "\n",
    "# Another required packages\n",
    "!pip install qiskit-nature\n",
    "!pip install qiskit-aer\n",
    "!pip install qiskit-ibm-runtime\n",
    "!pip install qiskit_braket_provider\n",
    "!pip install pyscf"
   ]
  },
  {
   "cell_type": "code",
   "execution_count": 47,
   "metadata": {},
   "outputs": [
    {
     "name": "stdout",
     "output_type": "stream",
     "text": [
      "Requirement already satisfied: pyscf in /Users/chanahyo/Repository/Quantum Computing/lib/python3.12/site-packages (2.6.2)\n",
      "Requirement already satisfied: numpy!=1.16,!=1.17,>=1.13 in /Users/chanahyo/Repository/Quantum Computing/lib/python3.12/site-packages (from pyscf) (2.0.0)\n",
      "Requirement already satisfied: scipy!=1.5.0,!=1.5.1 in /Users/chanahyo/Repository/Quantum Computing/lib/python3.12/site-packages (from pyscf) (1.14.0)\n",
      "Requirement already satisfied: h5py>=2.7 in /Users/chanahyo/Repository/Quantum Computing/lib/python3.12/site-packages (from pyscf) (3.11.0)\n",
      "Requirement already satisfied: setuptools in /Users/chanahyo/Repository/Quantum Computing/lib/python3.12/site-packages (from pyscf) (70.3.0)\n"
     ]
    }
   ],
   "source": [
    "!pip install pyscf"
   ]
  },
  {
   "cell_type": "code",
   "execution_count": 2,
   "metadata": {},
   "outputs": [],
   "source": [
    "from boto3 import Session\n",
    "from braket.aws import AwsSession\n",
    "\n",
    "# Start Boto3 Session with your credentials profile\n",
    "boto_session = Session(profile_name='default')\n",
    "\n",
    "# Initialize Braket session with Boto3 Session credentials\n",
    "aws_session = AwsSession(boto_session=boto_session)"
   ]
  },
  {
   "cell_type": "markdown",
   "metadata": {},
   "source": [
    "# Defining the function to save results to json file and read results from file"
   ]
  },
  {
   "cell_type": "code",
   "execution_count": 3,
   "metadata": {},
   "outputs": [],
   "source": [
    "import json\n",
    "\n",
    "def save_to_file(data, file_name):\n",
    "    with open(file_name+\".json\", \"w\") as file:\n",
    "        json.dump(data, file, indent=4)\n",
    "\n",
    "def read_from_file(file_name):\n",
    "    with open(file_name+\".json\", 'r') as file:\n",
    "        data = json.load(file)\n",
    "    return data"
   ]
  },
  {
   "cell_type": "markdown",
   "metadata": {},
   "source": [
    "# Bibliotecas"
   ]
  },
  {
   "cell_type": "code",
   "execution_count": 36,
   "metadata": {},
   "outputs": [],
   "source": [
    "#Python Default \n",
    "\n",
    "import warnings\n",
    "\n",
    "warnings.filterwarnings('ignore', category=DeprecationWarning)\n",
    "\n",
    "import pickle\n",
    "import time\n",
    "import random\n",
    "\n",
    "#Essentials\n",
    "\n",
    "import numpy as np\n",
    "from bs4 import BeautifulSoup\n",
    "import requests\n",
    "#import func_timeout\n",
    "import pandas as pd\n",
    "#from itables import show\n",
    "from scipy.optimize import curve_fit\n",
    "\n",
    "#from objproxies import *\n",
    "\n",
    "import matplotlib.pyplot as plt\n",
    "\n",
    "from scipy.optimize import curve_fit\n",
    "\n",
    "#Qiskit\n",
    "\n",
    "from qiskit.circuit import Gate\n",
    "from qiskit.circuit.library import *\n",
    "from qiskit import transpile\n",
    "from qiskit.providers.models import *\n",
    "from qiskit.providers.fake_provider import *\n",
    "from qiskit.quantum_info import Statevector\n",
    "from qiskit import QuantumCircuit\n",
    "from qiskit_aer import StatevectorSimulator\n",
    "import qiskit_aer\n",
    "\n",
    "## Qiskit Nature\n",
    "    \n",
    "from qiskit_nature.units import *   #ANGSTROM\n",
    "\n",
    "from qiskit_nature.second_q.drivers import *    #PySCFDriver\n",
    "\n",
    "from qiskit_nature.second_q.mappers import * #JordanWignerMapper\n",
    "\n",
    "from qiskit_nature.second_q.algorithms import GroundStateEigensolver\n",
    "\n",
    "from qiskit_nature.second_q.problems import ElectronicStructureProblem\n",
    "from qiskit_nature.second_q.problems import EigenstateResult\n",
    "\n",
    "from qiskit_nature.second_q.circuit.library import *  #Ansatz, HF\n",
    "\n",
    "\n",
    "## Qiskit Algorithms\n",
    "    \n",
    "from qiskit_algorithms.minimum_eigensolvers import VQE \n",
    " \n",
    "from qiskit_algorithms.optimizers import *    #SLSQP\n",
    "\n",
    "from qiskit_algorithms.optimizers import L_BFGS_B\n",
    "\n",
    "from qiskit.circuit.library import EfficientSU2   #EfficientSU2\n",
    "\n",
    "## Qiskit Estimators\n",
    "\n",
    "from qiskit.primitives import Estimator as Estimator_Nature\n",
    "\n",
    "from qiskit_aer.primitives.estimator import Estimator as Estimator_Aer\n",
    "\n",
    "#from qiskit_ibm_runtime import Estimator \n",
    "\n",
    "from qiskit_ibm_runtime import EstimatorV2 as Estimator\n",
    "\n",
    "## Qiskit Noise Models\n",
    "\n",
    "from qiskit_aer.noise import NoiseModel\n",
    "\n",
    "from qiskit.providers.fake_provider import *\n",
    "\n",
    "##Qiskit Runtime IBM\n",
    "\n",
    "from qiskit_ibm_runtime import QiskitRuntimeService, Session, Options\n",
    "\n",
    "## Braket\n",
    "\n",
    "from braket.tracking import Tracker\n",
    "from qiskit_braket_provider import *\n",
    "from braket.aws import AwsDevice\n",
    "from braket.devices import Devices\n",
    "from braket.aws import AwsDevice, AwsQuantumTask\n",
    "\n",
    "\n",
    "# %matplotlib widget\n",
    "#%matplotlib inline"
   ]
  },
  {
   "cell_type": "code",
   "execution_count": 4,
   "metadata": {},
   "outputs": [],
   "source": [
    "#IBMQ.save_account('YOUR API KEY', overwrite=True)"
   ]
  },
  {
   "cell_type": "markdown",
   "metadata": {},
   "source": [
    "# Importando Backends - Computadores Quânticos"
   ]
  },
  {
   "cell_type": "markdown",
   "metadata": {},
   "source": [
    "Backends são informações de Computadores Quânticos reais que nos ajudam na modelagem do noise"
   ]
  },
  {
   "cell_type": "code",
   "execution_count": 5,
   "metadata": {},
   "outputs": [
    {
     "name": "stdout",
     "output_type": "stream",
     "text": [
      "BraketBackend[Aria 1]\n",
      "BraketBackend[Aria 2]\n",
      "BraketBackend[Aspen-M-3]\n",
      "BraketBackend[Forte 1]\n",
      "BraketBackend[Garnet]\n",
      "BraketBackend[Harmony]\n"
     ]
    }
   ],
   "source": [
    "#Consulta os backends disponiveis para sua conta da AWSbraket\n",
    "provider = BraketProvider()\n",
    "available_cloud_backends = provider.backends() \n",
    "for i in available_cloud_backends: print(i)"
   ]
  },
  {
   "cell_type": "code",
   "execution_count": 40,
   "metadata": {},
   "outputs": [],
   "source": [
    "local_simulator = BraketLocalBackend()\n",
    "statevector_simulator = StatevectorSimulator()\n",
    "harmony = provider.get_backend(\"Harmony\", aws_session=aws_session)\n",
    "aria2 = provider.get_backend(\"Aria 2\", aws_session=aws_session)\n",
    "# harmony = AwsDevice(Devices.IonQ.Harmony, aws_session=aws_session)\n",
    "# aria2 = AwsDevice(Devices.IonQ.Aria2, aws_session=aws_session)\n"
   ]
  },
  {
   "cell_type": "code",
   "execution_count": 8,
   "metadata": {},
   "outputs": [
    {
     "name": "stdout",
     "output_type": "stream",
     "text": [
      "BraketBackend[default]\n"
     ]
    }
   ],
   "source": [
    "print(local_simulator)"
   ]
  },
  {
   "cell_type": "markdown",
   "metadata": {},
   "source": [
    "# Criando nosso problema de cálculo energético para molécula de hidrogênio - VQE"
   ]
  },
  {
   "cell_type": "code",
   "execution_count": 9,
   "metadata": {},
   "outputs": [],
   "source": [
    "from qiskit_algorithms import NumPyMinimumEigensolver\n",
    "\n",
    "#Definindo estimator - backend da braket e Mapper Jordan Wigner\n",
    "#from qiskit.primitives import Estimator\n",
    "\n",
    "estimator = Estimator_Nature()\n",
    "mapper = JordanWignerMapper()\n",
    "optimizer = L_BFGS_B()\n",
    "\n",
    "numpy_solver = NumPyMinimumEigensolver()\n",
    "\n",
    "driver = PySCFDriver(\n",
    "    atom= f\"H 0 0 0; H 0 0 0.7\",\n",
    "    basis=\"sto3g\",\n",
    "    charge=0,\n",
    "    spin=0,\n",
    "    unit=DistanceUnit.ANGSTROM,\n",
    ")\n",
    "\n",
    "h2_problem = driver.run()\n",
    "#print(h2_problem)\n"
   ]
  },
  {
   "cell_type": "code",
   "execution_count": 11,
   "metadata": {},
   "outputs": [],
   "source": [
    "ansatz = UCCSD(\n",
    "    h2_problem.num_spatial_orbitals,\n",
    "    h2_problem.num_particles,\n",
    "    mapper,\n",
    "    initial_state=HartreeFock(\n",
    "        h2_problem.num_spatial_orbitals,\n",
    "        h2_problem.num_particles,\n",
    "        mapper,\n",
    "    ),\n",
    ")\n",
    "\n",
    "vqe_solver = VQE(estimator, ansatz, optimizer)\n",
    "\n",
    "vqe_solver.initial_point = [0] * ansatz.num_parameters"
   ]
  },
  {
   "cell_type": "code",
   "execution_count": 12,
   "metadata": {},
   "outputs": [
    {
     "name": "stdout",
     "output_type": "stream",
     "text": [
      "=== GROUND STATE ENERGY ===\n",
      " \n",
      "* Electronic ground state energy (Hartree): -1.892156898237\n",
      "  - computed part:      -1.892156898237\n",
      "~ Nuclear repulsion energy (Hartree): 0.755967444171\n",
      "> Total ground state energy (Hartree): -1.136189454066\n",
      " \n",
      "=== MEASURED OBSERVABLES ===\n",
      " \n",
      "  0:  # Particles: 2.000 S: 0.000 S^2: 0.000 M: 0.000\n",
      " \n",
      "=== DIPOLE MOMENTS ===\n",
      " \n",
      "~ Nuclear dipole moment (a.u.): [0.0  0.0  1.32280829]\n",
      " \n",
      "  0: \n",
      "  * Electronic dipole moment (a.u.): [0.0  0.0  1.322808313612]\n",
      "    - computed part:      [0.0  0.0  1.322808313612]\n",
      "  > Dipole moment (a.u.): [0.0  0.0  -0.000000023612]  Total: 0.000000023612\n",
      "                 (debye): [0.0  0.0  -0.000000060015]  Total: 0.000000060015\n",
      " \n"
     ]
    }
   ],
   "source": [
    "solver = GroundStateEigensolver(mapper, vqe_solver)\n",
    "\n",
    "electronic_structure_result = solver.solve(h2_problem)\n",
    "\n",
    "print(electronic_structure_result)"
   ]
  },
  {
   "cell_type": "code",
   "execution_count": 16,
   "metadata": {},
   "outputs": [],
   "source": [
    "\n",
    "minimum_eigenvalue = vqe_solver.compute_minimum_eigenvalue(solver.get_qubit_operators(h2_problem)[0])\n"
   ]
  },
  {
   "cell_type": "markdown",
   "metadata": {},
   "source": [
    "Estou encontrando erro ao utilizar o EstimatorV2, então vou usar o Estimator_Nature por enquanto"
   ]
  },
  {
   "cell_type": "markdown",
   "metadata": {},
   "source": [
    "# Criando Circuito baseado no Aria 1 - Amazon "
   ]
  },
  {
   "cell_type": "code",
   "execution_count": 45,
   "metadata": {},
   "outputs": [],
   "source": [
    "circuito = transpile(minimum_eigenvalue.optimal_circuit.decompose().assign_parameters(minimum_eigenvalue.optimal_parameters), aria2)"
   ]
  },
  {
   "cell_type": "code",
   "execution_count": 42,
   "metadata": {
    "scrolled": true
   },
   "outputs": [
    {
     "name": "stderr",
     "output_type": "stream",
     "text": [
      "/Users/chanahyo/Repository/Quantum Computing/lib/python3.12/site-packages/qiskit_braket_provider/providers/adapter.py:489: UserWarning: Device does not support global phase; global phase of 5.497787143782138 will not be included in Braket circuit\n",
      "  warnings.warn(\n"
     ]
    }
   ],
   "source": [
    "#task = aria2.run(circuito, shots=10)"
   ]
  },
  {
   "cell_type": "code",
   "execution_count": null,
   "metadata": {},
   "outputs": [],
   "source": []
  },
  {
   "cell_type": "code",
   "execution_count": 46,
   "metadata": {},
   "outputs": [],
   "source": [
    "task_id = task.job_id()"
   ]
  },
  {
   "cell_type": "code",
   "execution_count": 47,
   "metadata": {},
   "outputs": [
    {
     "name": "stdout",
     "output_type": "stream",
     "text": [
      "Status of (reconstructed) quantum task: QUEUED\n",
      "Sorry, your quantum task is still being processed and has not been finalized yet.\n"
     ]
    },
    {
     "data": {
      "text/plain": [
       "0"
      ]
     },
     "execution_count": 47,
     "metadata": {},
     "output_type": "execute_result"
    }
   ],
   "source": [
    "getData(task_id)"
   ]
  },
  {
   "cell_type": "markdown",
   "metadata": {},
   "source": [
    "/Users/chanahyo/Repository/Quantum Computing/lib/python3.12/site-packages/qiskit_braket_provider/providers/adapter.py:489: UserWarning: Device does not support global phase; global phase of 5.497787143782138 will not be included in Braket circuit\n",
    "  warnings.warn("
   ]
  },
  {
   "cell_type": "code",
   "execution_count": 34,
   "metadata": {},
   "outputs": [],
   "source": [
    "def getData(aria1_task_id):\n",
    "    # recover quantum task\n",
    "    task_load = AwsQuantumTask(arn=aria1_task_id)\n",
    "\n",
    "    # print status\n",
    "    status = task_load.state()\n",
    "    print('Status of (reconstructed) quantum task:', status)\n",
    "    \n",
    "    # wait for job to complete\n",
    "    # terminal_states = ['COMPLETED', 'FAILED', 'CANCELLED']\n",
    "    if status == 'COMPLETED':\n",
    "        # get results\n",
    "        aria1_results = task_load.result()\n",
    "\n",
    "        # get all metadata of submitted quantum task\n",
    "        metadata = task_load.metadata()\n",
    "        \n",
    "        # example for metadata\n",
    "        shots = metadata['shots']\n",
    "        machine = metadata['deviceArn']\n",
    "        \n",
    "        # print example metadata\n",
    "        # print(\"{} shots taken on machine {}.\\n\".format(shots, machine))\n",
    "\n",
    "        # get measurement counts\n",
    "        aria1_counts = dict(sorted(aria1_results.measurement_counts.items()))\n",
    "        print('Measurement counts:', aria1_counts)\n",
    "        print('Expected value:', aria1_results.values[0])\n",
    "        \n",
    "        return aria1_results.values[0]\n",
    "\n",
    "    elif status in ['FAILED', 'CANCELLED']:\n",
    "        # print terminal message \n",
    "        print('Your quantum task is in terminal status, but has not completed.')\n",
    "        return 0\n",
    "    else:\n",
    "        # print current status\n",
    "        print('Sorry, your quantum task is still being processed and has not been finalized yet.')\n",
    "        return 0"
   ]
  },
  {
   "cell_type": "markdown",
   "metadata": {},
   "source": [
    "# Criando Circuito Baseado no Brisbane - IBM"
   ]
  },
  {
   "cell_type": "code",
   "execution_count": 11,
   "metadata": {},
   "outputs": [],
   "source": [
    "# from qiskit import IBMQ (deprecated, need qiskit version 0.45)"
   ]
  },
  {
   "cell_type": "code",
   "execution_count": null,
   "metadata": {},
   "outputs": [],
   "source": [
    "service = QiskitRuntimeService()\n",
    "backend = service.backend(\"ibm_brisbane\")\n",
    "noise_model = NoiseModel.from_backend(backend)\n",
    "\n",
    "circuito_ibm = transpile(minimum_eigenvalue.optimal_circuit.decompose().assign_parameters(minimum_eigenvalue.optimal_parameters), backend)\n",
    "\n",
    "hamiltoniano = hproblem.second_q_ops()[0]\n",
    "\n",
    "num_qubits_hamiltonian = JordanWignerMapper().map(hamiltoniano).num_qubits\n",
    "\n",
    "new_circuit = QuantumCircuit(num_qubits_hamiltonian)\n",
    "\n",
    "for gate in circuito_ibm.data:\n",
    "\n",
    "    if all(circuito_ibm.qubits.index(qubit) < num_qubits_hamiltonian for qubit in gate[1]):\n",
    "        new_circuit.append(gate[0], [circuito_ibm.qubits.index(qubit) for qubit in gate[1]])\n",
    "\n",
    "circuito_ibm = new_circuit"
   ]
  },
  {
   "cell_type": "markdown",
   "metadata": {},
   "source": [
    "# Definindo Funções - Modelos para criação de circuitos distintos na regressão de Clifford"
   ]
  },
  {
   "cell_type": "markdown",
   "metadata": {},
   "source": [
    "Para escrever tais modelos vamos definir algumas funções para estes modelos"
   ]
  },
  {
   "cell_type": "code",
   "execution_count": 10,
   "metadata": {},
   "outputs": [],
   "source": [
    "# O Clifford Gate produz uma rotação no eixo Z no estado quântico do qubit em um ângulo que seja múltiplo de pi/2\n",
    "\n",
    "def clifford_gate():\n",
    "\n",
    "   random_value = random.randint(0, 3)\n",
    "   \n",
    "   return RZGate(random_value*np.pi/2)\n",
    "\n",
    "def cnot_gate(qr):\n",
    "   \n",
    "   control_qubit = random.randint(0, len(qr) - 1)\n",
    "   \n",
    "   target_qubit = random.choice([i for i in range(len(qr)) if i != control_qubit])\n",
    "   \n",
    "   return CXGate(), (control_qubit, target_qubit)\n",
    "\n",
    " \n",
    "def crz_gate():\n",
    "   \n",
    "   random_value = random.randint(0, 3)\n",
    "\n",
    "   crz_gate = CRZGate(random_value * np.pi / 2)\n",
    "\n",
    "   return crz_gate"
   ]
  },
  {
   "cell_type": "markdown",
   "metadata": {},
   "source": [
    "Além disso, podemos definir funções úteis para utilzação dos Simuladores"
   ]
  },
  {
   "cell_type": "code",
   "execution_count": 11,
   "metadata": {},
   "outputs": [],
   "source": [
    "#Aqui estamos rodando nosso VQE classicamente\n",
    "\n",
    "def run_statevector(circuit, driver, mapper = JordanWignerMapper()):\n",
    "   \n",
    "   hamiltoniano = driver.second_q_ops()[0]\n",
    "   \n",
    "   estado = Statevector.from_instruction(circuit)\n",
    "   \n",
    "   expectation_value = estado.expectation_value(mapper.map(hamiltoniano))\n",
    "   \n",
    "   return expectation_value.real\n",
    "\n",
    "#Aqui estamos rodando o estimator que pode ou não ser um estimador quântico - Unitilizando Estimator V2\n",
    "\n",
    "def run_estimator(circuit, driver, backend = None, shots = 2000, noise_model = None, coupling_map = None, mapper = JordanWignerMapper()):\n",
    "   \n",
    "   hamiltoniano = driver.second_q_ops()[0]\n",
    "   \n",
    "   num_qubits_hamiltonian = mapper.map(hamiltoniano).num_qubits\n",
    "   num_qubits_circuit = circuit.num_qubits\n",
    "   \n",
    "   new_circuit = circuit.copy()\n",
    "   \n",
    "   if num_qubits_hamiltonian != num_qubits_circuit:\n",
    "\n",
    "      new_circuit = QuantumCircuit(num_qubits_hamiltonian)\n",
    "\n",
    "      for gate in circuit.data:\n",
    "\n",
    "         if all(circuit.qubits.index(qubit) < num_qubits_hamiltonian for qubit in gate[1]):\n",
    "            new_circuit.append(gate[0], [circuit.qubits.index(qubit) for qubit in gate[1]])\n",
    "   \n",
    "   circuit = new_circuit\n",
    "   \n",
    "   if noise_model is not None:\n",
    "      \n",
    "      estimator = Estimator(backend = backend, options = {\"shots\" : shots, \"noise_model\" : noise_model, \"coupling_map\" : coupling_map})\n",
    "   \n",
    "   else :\n",
    "      \n",
    "      estimator = Estimator(backend = backend, options = {\"shots\" : shots})\n",
    "   \n",
    "   job = estimator.run(circuit, mapper.map(hamiltoniano))\n",
    "   \n",
    "   return job.result().values[0]\n",
    "\n",
    "\n",
    "#Aqui estamos rodando o estimator - Utilizando Estimator Aer\n",
    "\n",
    "def run_estimator_aer(circuit, driver, shots = None, seed = None, mapper = JordanWignerMapper(), skip_transpilation = True):\n",
    "   \n",
    "   hamiltoniano = driver.second_q_ops()[0]\n",
    "   \n",
    "   num_qubits_hamiltonian = mapper.map(hamiltoniano).num_qubits\n",
    "   num_qubits_circuit = circuit.num_qubits\n",
    "   \n",
    "   new_circuit = circuit.copy()\n",
    "   \n",
    "   if num_qubits_hamiltonian != num_qubits_circuit:\n",
    "\n",
    "      new_circuit = QuantumCircuit(num_qubits_hamiltonian)\n",
    "\n",
    "      for gate in circuit.data:\n",
    "\n",
    "         if all(circuit.qubits.index(qubit) < num_qubits_hamiltonian for qubit in gate[1]):\n",
    "            new_circuit.append(gate[0], [circuit.qubits.index(qubit) for qubit in gate[1]])\n",
    "   \n",
    "   circuit = new_circuit\n",
    "\n",
    "   if shots != None:\n",
    "   \n",
    "      if seed is not None:\n",
    "         \n",
    "         estimator = Estimator_Aer(run_options = {\"shots\" : shots, \"seed\" : seed}, skip_transpilation = skip_transpilation)   \n",
    "      \n",
    "      else :\n",
    "         \n",
    "         estimator = Estimator_Aer(run_options = {\"shots\" : shots}, skip_transpilation = skip_transpilation)\n",
    "   \n",
    "   else :\n",
    "\n",
    "      if seed is not None:\n",
    "         \n",
    "         estimator = Estimator_Aer(run_options = {\"shots\" : shots, \"seed\" : seed}, approximation = True, skip_transpilation = skip_transpilation)\n",
    "      \n",
    "      else :\n",
    "         \n",
    "         estimator = Estimator_Aer(run_options = {\"shots\" : shots}, approximation = True, skip_transpilation = skip_transpilation)\n",
    "      \n",
    "   \n",
    "   job = estimator.run(circuit, mapper.map(hamiltoniano))\n",
    "   \n",
    "   return job.result().values[0]\n",
    "\n",
    "\n",
    "#Aqui estamos rodando o estimator com simulação de ruído de uma maquina quântica - Utilizando Estimator Aer Noise\n",
    "\n",
    "\n",
    "def run_estimator_aer_noise(circuit, driver, shots = None, seed = None, mapper = JordanWignerMapper(), skip_transpilation = True, noise_model = None, coupling_map = None):\n",
    "   \n",
    "   hamiltoniano = driver.second_q_ops()[0]\n",
    "   \n",
    "   num_qubits_hamiltonian = mapper.map(hamiltoniano).num_qubits\n",
    "   num_qubits_circuit = circuit.num_qubits\n",
    "   \n",
    "   new_circuit = circuit.copy()\n",
    "   \n",
    "   if num_qubits_hamiltonian != num_qubits_circuit:\n",
    "\n",
    "      new_circuit = QuantumCircuit(num_qubits_hamiltonian)\n",
    "\n",
    "      for gate in circuit.data:\n",
    "\n",
    "         if all(circuit.qubits.index(qubit) < num_qubits_hamiltonian for qubit in gate[1]):\n",
    "            new_circuit.append(gate[0], [circuit.qubits.index(qubit) for qubit in gate[1]])\n",
    "   \n",
    "   circuit = new_circuit\n",
    "   \n",
    "   estimator = Estimator_Aer(backend_options={'noise_model': noise_model}, run_options = {\"shots\" : shots, \"seed\" : seed}, skip_transpilation = skip_transpilation)         \n",
    "   \n",
    "   job = estimator.run(circuit, mapper.map(hamiltoniano))\n",
    "   \n",
    "   return job.result().values[0]\n",
    "\n",
    "ESTIMATORS = {\n",
    "    'statevector': run_statevector,\n",
    "    'estimator': run_estimator,\n",
    "    'estimator_aer': run_estimator_aer,\n",
    "    'estimator_aer_noise': run_estimator_aer_noise,\n",
    "}\n",
    "\n",
    "def check(original_value, target, driver, difference_percentage, estimator_name='statevector', **kwargs):\n",
    "    estimator_function = ESTIMATORS[estimator_name]\n",
    "    target_value = estimator_function(target, driver, **kwargs)\n",
    "    return abs(original_value - target_value) < difference_percentage * abs(original_value), target_value"
   ]
  },
  {
   "cell_type": "markdown",
   "metadata": {},
   "source": [
    "## Modelo 2"
   ]
  },
  {
   "cell_type": "markdown",
   "metadata": {},
   "source": [
    "Tal modelo troca rotações Rz por rotações Rz de Clifford"
   ]
  },
  {
   "cell_type": "code",
   "execution_count": 12,
   "metadata": {},
   "outputs": [],
   "source": [
    "def subs_cg_rz(quantum_circuit, n):\n",
    "    \n",
    "   quantum_circuit = quantum_circuit.copy()\n",
    "\n",
    "   n = int(n * quantum_circuit.size())\n",
    "\n",
    "   if n > quantum_circuit.size() + 1:\n",
    "       \n",
    "       raise ValueError(\"n muito grande.\")\n",
    "\n",
    "   permitted_gates = [\"rz\"]\n",
    "\n",
    "   gates_to_change = random.sample(range(0, quantum_circuit.size()+1), n)\n",
    "\n",
    "   for i, (gate, *qubits) in enumerate(quantum_circuit.data):\n",
    "      \n",
    "      if i in gates_to_change:\n",
    "      \n",
    "         if gate.name in permitted_gates:\n",
    "            \n",
    "            quantum_circuit.data[i] = (clifford_gate(), *qubits)\n",
    "\n",
    "         else:\n",
    "            \n",
    "            new_gate = random.randint(i, len(quantum_circuit.data)-1)\n",
    "            \n",
    "            while quantum_circuit.data[new_gate][0].name not in permitted_gates:\n",
    "                \n",
    "                new_gate = random.randint(i, len(quantum_circuit.data)-1)\n",
    "\n",
    "            quantum_circuit.data[new_gate] = (clifford_gate(), *quantum_circuit.data[new_gate][1:])\n",
    "\n",
    "   return quantum_circuit\n",
    "\n",
    "def modelo_2(original_circuit, number_of_circuits, driver, percentage_of_changed_gates=0.3, difference_percentage=0.5, do_check=True, estimator_name='statevector', **kwargs):\n",
    "    \n",
    "    original_circuit_exp_value = run_statevector(original_circuit, driver)\n",
    "    \n",
    "    while number_of_circuits > 0:\n",
    "        new_circuit = subs_cg_rz(original_circuit, percentage_of_changed_gates)\n",
    "        \n",
    "        if do_check:\n",
    "            check_result, target_value = check(original_circuit_exp_value, new_circuit, driver, difference_percentage, estimator_name=estimator_name, **kwargs)\n",
    "            if check_result:\n",
    "                number_of_circuits -= 1\n",
    "                yield new_circuit, target_value\n",
    "        else:\n",
    "            number_of_circuits -= 1\n",
    "            yield new_circuit\n",
    "        \n"
   ]
  },
  {
   "cell_type": "markdown",
   "metadata": {},
   "source": [
    "# Rodando Modelo 2"
   ]
  },
  {
   "cell_type": "code",
   "execution_count": null,
   "metadata": {},
   "outputs": [],
   "source": [
    "modelo = modelo_2(circuito_ibm, 100, es_problem, percentage_of_changed_gates = 0.3, difference_percentage = 0.3, do_check=True, estimator_name = \"estimator_aer\", shots = None, seed = 1)\n",
    "\n",
    "circuitos_similares_ibm = []\n",
    "\n",
    "time_total, start_time = time.time(), time.time()\n",
    "\n",
    "for index, i in enumerate(modelo):\n",
    "\n",
    "    end_time = time.time() - start_time\n",
    "\n",
    "    circuitos_similares_ibm.append(i)\n",
    "    print(f\"Iteração {index}: {end_time}s\")\n",
    "\n",
    "    start_time = time.time()\n",
    "    \n",
    "print(f\"Tempo total: {time.time() - time_total}\")"
   ]
  }
 ],
 "metadata": {
  "kernelspec": {
   "display_name": "Python 3 (ipykernel)",
   "language": "python",
   "name": "python3"
  },
  "language_info": {
   "codemirror_mode": {
    "name": "ipython",
    "version": 3
   },
   "file_extension": ".py",
   "mimetype": "text/x-python",
   "name": "python",
   "nbconvert_exporter": "python",
   "pygments_lexer": "ipython3",
   "version": "3.12.4"
  }
 },
 "nbformat": 4,
 "nbformat_minor": 4
}
