{
 "cells": [
  {
   "cell_type": "code",
   "execution_count": 12,
   "id": "ccc46294-8263-4d14-b692-0c535a2f0827",
   "metadata": {
    "tags": []
   },
   "outputs": [],
   "source": [
    "import numpy as np\n",
    "from math import sqrt"
   ]
  },
  {
   "cell_type": "code",
   "execution_count": 13,
   "id": "c5ffe7f9-44e9-498a-8e91-d571534fc0a9",
   "metadata": {
    "tags": []
   },
   "outputs": [],
   "source": [
    "ket_0 = np.array([1, 0])\n",
    "ket_1 = np.array([0, 1])"
   ]
  },
  {
   "cell_type": "code",
   "execution_count": 39,
   "id": "2ad8b56c-6408-4aea-83fc-5bb13ae5257e",
   "metadata": {
    "tags": []
   },
   "outputs": [],
   "source": [
    "def normalize_state(alpha, beta):\n",
    "    \"\"\"Compute a normalized quantum state given arbitrary amplitudes.\n",
    "\n",
    "    Args:\n",
    "        alpha (complex): The amplitude associated with the |0> state.\n",
    "        beta (complex): The amplitude associated with the |1> state.\n",
    "\n",
    "    Returns:\n",
    "        np.array[complex]: A vector (numpy array) with 2 elements that represents\n",
    "        a normalized quantum state.\n",
    "    \"\"\"\n",
    "\n",
    "    # CREATE A VECTOR [a', b'] BASED ON alpha AND beta SUCH THAT |a'|^2 + |b'|^2 = 1\n",
    "    state_vector = np.array([alpha,beta])\n",
    "    normalizer = 1/np.linalg.norm(state_vector)\n",
    "    alpha_n = alpha*normalizer\n",
    "    beta_n = beta*normalizer\n",
    "    normalized_vector = np.array([alpha_n, beta_n]) \n",
    "\n",
    "    # RETURN A VECTOR\n",
    "    return normalized_vector"
   ]
  },
  {
   "cell_type": "code",
   "execution_count": 46,
   "id": "ad03f5ef-fd1b-4c80-a854-ee31713ec11e",
   "metadata": {
    "tags": []
   },
   "outputs": [
    {
     "name": "stdout",
     "output_type": "stream",
     "text": [
      "(0.038274261340512185-0.005049242602009644j)\n",
      "0.9999999999999997\n",
      "[0.97200426-0.01140828j 0.23974405+0.04625307j]\n"
     ]
    }
   ],
   "source": [
    "array = normalize_state(25+3j,6+2j)\n",
    "\n",
    "total_probability = array[0]*array[0] + array[1]*array[1]\n",
    "print(np.real(total_probability))\n",
    "print(array)"
   ]
  }
 ],
 "metadata": {
  "kernelspec": {
   "display_name": "conda_braket",
   "language": "python",
   "name": "conda_braket"
  },
  "language_info": {
   "codemirror_mode": {
    "name": "ipython",
    "version": 3
   },
   "file_extension": ".py",
   "mimetype": "text/x-python",
   "name": "python",
   "nbconvert_exporter": "python",
   "pygments_lexer": "ipython3",
   "version": "3.10.14"
  }
 },
 "nbformat": 4,
 "nbformat_minor": 5
}
