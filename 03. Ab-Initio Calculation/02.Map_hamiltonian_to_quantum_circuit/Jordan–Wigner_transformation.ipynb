{
 "cells": [
  {
   "cell_type": "markdown",
   "id": "bcf15afa-1f09-40b0-b264-2e70638a8105",
   "metadata": {},
   "source": [
    "<H1>Mappings</H1>\n",
    "\n",
    "<h3>Maps the FermionicOperator to a qubit operator</h3>\n",
    "\n",
    "<h2>Jordan Wigner</h2>\n",
    "\n",
    "The Jordan-Wigner transformation, maps spin operators onto fermionic creation and annihilation operators. It was proposed by Ernst Pascual Jordan and Eugene Paul Wigner for one-dimensional lattice models, but now two-dimensional analogues of the transformation have also been created. The Jordan–Wigner transformation is often used to exactly solve 1D spin-chains by transforming the spin operators to fermionic operators and then diagonalizing in the fermionic basis."
   ]
  },
  {
   "cell_type": "code",
   "execution_count": null,
   "id": "4e61d399-f9ac-4373-b657-19ba062345f1",
   "metadata": {},
   "outputs": [],
   "source": []
  }
 ],
 "metadata": {
  "kernelspec": {
   "display_name": "Python 3 (ipykernel)",
   "language": "python",
   "name": "python3"
  },
  "language_info": {
   "codemirror_mode": {
    "name": "ipython",
    "version": 3
   },
   "file_extension": ".py",
   "mimetype": "text/x-python",
   "name": "python",
   "nbconvert_exporter": "python",
   "pygments_lexer": "ipython3",
   "version": "3.11.6"
  }
 },
 "nbformat": 4,
 "nbformat_minor": 5
}
