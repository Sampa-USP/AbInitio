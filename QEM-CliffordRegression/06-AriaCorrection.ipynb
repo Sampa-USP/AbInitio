{
 "cells": [
  {
   "cell_type": "code",
   "execution_count": null,
   "id": "01a035e3-51d4-4e94-9b6d-ecc1e79ad654",
   "metadata": {},
   "outputs": [],
   "source": []
  }
 ],
 "metadata": {
  "kernelspec": {
   "display_name": "conda_braket",
   "language": "python",
   "name": "conda_braket"
  },
  "language_info": {
   "codemirror_mode": {
    "name": "ipython",
    "version": 3
   },
   "file_extension": ".py",
   "mimetype": "text/x-python",
   "name": "python",
   "nbconvert_exporter": "python",
   "pygments_lexer": "ipython3",
   "version": "3.10.14"
  }
 },
 "nbformat": 4,
 "nbformat_minor": 5
}
