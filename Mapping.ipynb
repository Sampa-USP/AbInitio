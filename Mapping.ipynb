{
 "cells": [
  {
   "cell_type": "markdown",
   "metadata": {},
   "source": [
    "## Importes de bibliotecas"
   ]
  },
  {
   "cell_type": "code",
   "execution_count": 23,
   "metadata": {},
   "outputs": [],
   "source": [
    "from qiskit_nature.units import *   #ANGSTROM\n",
    "from qiskit_nature.second_q.drivers import *    #PySCFDriver\n",
    "from qiskit_nature.second_q.mappers import * #JordanWignerMapper\n",
    "from qiskit_nature.second_q.algorithms import GroundStateEigensolver\n",
    "from qiskit_nature.second_q.problems import ElectronicStructureProblem\n",
    "from qiskit_nature.second_q.problems import EigenstateResult\n",
    "from qiskit_nature.second_q.circuit.library import *  #Ansatz, HF\n",
    "#from qiskit_ibm_runtime import QiskitRuntimeService, Session, Estimator, Options\n",
    "from qiskit_algorithms.optimizers import * \n",
    "from qiskit_algorithms import VQE\n",
    "from braket.tracking import Tracker\n",
    "from qiskit_braket_provider import *\n",
    "from qiskit_aer import StatevectorSimulator\n",
    "from qiskit.primitives import Estimator\n",
    "from qiskit_nature.second_q.transformers import ActiveSpaceTransformer\n",
    "\n",
    "import numpy as np\n",
    "import pandas as pd\n",
    "import datetime\n",
    "import matplotlib.pyplot as plt"
   ]
  },
  {
   "cell_type": "markdown",
   "metadata": {},
   "source": [
    "## Mapeamentos de operaadores para o $H_2$"
   ]
  },
  {
   "cell_type": "code",
   "execution_count": 2,
   "metadata": {},
   "outputs": [],
   "source": [
    "driver = PySCFDriver(atom=f\"H 0 0 0; H 0 0 0.7\", basis=\"sto-3g\")\n",
    "estrutura = driver.run() #Criamos a estrutura do nosso sistema\n",
    "\n",
    "#obtemos os operadores fermionicos que são usados na segunda quantização do nosso problema.\n",
    "operadores = estrutura.hamiltonian.second_q_op()"
   ]
  },
  {
   "cell_type": "code",
   "execution_count": 3,
   "metadata": {},
   "outputs": [],
   "source": [
    "#mapeadores que estamos utilizando\n",
    "mapas = [JordanWignerMapper(), BravyiKitaevMapper()]\n",
    "\n",
    "#mapeadores depois de reduzidos por simetria\n",
    "mapas_temperados = [estrutura.get_tapered_mapper(aux) for aux in mapas]"
   ]
  },
  {
   "cell_type": "code",
   "execution_count": 4,
   "metadata": {},
   "outputs": [
    {
     "name": "stdout",
     "output_type": "stream",
     "text": [
      "Fermionic Operator\n",
      "number spin orbitals=4, number terms=36\n",
      "  0.34119476657602105 * ( +_0 +_0 -_0 -_0 )\n",
      "+ 0.3353663891543795 * ( +_0 +_1 -_1 -_0 )\n",
      "+ 0.34119476657602105 * ( +_0 +_2 -_2 -_0 )\n",
      "+ 0.3353663891543795 * ( +_0 +_3 -_3 -_0 )\n",
      "+ 0.08950028803070331 * ( +_0 +_0 -_1 -_1 )\n",
      "+ 0.08950028803070331 * ( +_0 +_1 -_0 -_1 )\n",
      "+ 0.08950028803070331 * ( +_0 +_2 -_3 -_1 )\n",
      "+ 0.08950028803070331 * ( +_0 +_3 -_2 -_1 )\n",
      "+ 0.08950028803070331 * ( +_1 +_0 -_1 -_0 )\n",
      "+ 0.08950028803070331 * ( +_1 +_1 -_0 -_0 )\n",
      "+ 0.08950028803070331 * ( +_1 +_2 -_3 -_0 )\n",
      "+ 0.08950028803070331 * ( +_1 +_3 -_2 -_0 )\n",
      "+ 0.3353663891543795 * ( +_1 +_0 -_0 -_1 )\n",
      "+ 0.35255281608639233 * ( +_1 +_1 -_1 -_1 )\n",
      "+ 0.3353663891543795 * ( +_1 +_2 -_2 -_1 )\n",
      "+ 0.35255281608639233 * ( +_1 +_3 -_3 -_1 )\n",
      "+ 0.34119476657602105 * ( +_2 +_0 -_0 -_2 )\n",
      "+ 0.3353663891543795 * ( +_2 +_1 -_1 -_2 )\n",
      "+ 0.34119476657602105 * ( +_2 +_2 -_2 -_2 )\n",
      "+ 0.3353663891543795 * ( +_2 +_3 -_3 -_2 )\n",
      "+ 0.08950028803070331 * ( +_2 +_0 -_1 -_3 )\n",
      "+ 0.08950028803070331 * ( +_2 +_1 -_0 -_3 )\n",
      "+ 0.08950028803070331 * ( +_2 +_2 -_3 -_3 )\n",
      "+ 0.08950028803070331 * ( +_2 +_3 -_2 -_3 )\n",
      "+ 0.08950028803070331 * ( +_3 +_0 -_1 -_2 )\n",
      "+ 0.08950028803070331 * ( +_3 +_1 -_0 -_2 )\n",
      "+ 0.08950028803070331 * ( +_3 +_2 -_3 -_2 )\n",
      "+ 0.08950028803070331 * ( +_3 +_3 -_2 -_2 )\n",
      "+ 0.3353663891543795 * ( +_3 +_0 -_0 -_3 )\n",
      "+ 0.35255281608639233 * ( +_3 +_1 -_1 -_3 )\n",
      "+ 0.3353663891543795 * ( +_3 +_2 -_2 -_3 )\n",
      "+ 0.35255281608639233 * ( +_3 +_3 -_3 -_3 )\n",
      "+ -1.2778530061568751 * ( +_0 -_0 )\n",
      "+ -0.44829969610163767 * ( +_1 -_1 )\n",
      "+ -1.2778530061568751 * ( +_2 -_2 )\n",
      "+ -0.44829969610163767 * ( +_3 -_3 )\n",
      "36\n"
     ]
    }
   ],
   "source": [
    "#Temos aqui a configuração dos nossos operadores fermionicos\n",
    "print(operadores)\n",
    "\n",
    "#quantos termos de operadores temos:\n",
    "print(len(operadores))"
   ]
  },
  {
   "cell_type": "markdown",
   "metadata": {},
   "source": [
    "## Visualização dos operadores que são usados em PauliStrings"
   ]
  },
  {
   "cell_type": "code",
   "execution_count": 5,
   "metadata": {},
   "outputs": [
    {
     "name": "stdout",
     "output_type": "stream",
     "text": [
      "IIII + IIIZ + IIZZ + IIZI + IZII + IZIZ + ZZZI + ZZZZ + ZXIX + IXZX + ZXZX + IXIX + IZZZ + ZZIZ + ZIZI\n",
      "IIII + IIIZ + IIZI + IIZZ + IZII + IZIZ + ZIII + ZIIZ + YYYY + XXYY + YYXX + XXXX + IZZI + ZIZI + ZZII\n",
      "\n",
      "SparsePauliOp(['I', 'Z', 'X'],\n",
      "              coeffs=[-1.03240512+0.j, -0.84091136+0.j,  0.17900058+0.j])\n",
      "SparsePauliOp(['I', 'Z', 'X'],\n",
      "              coeffs=[-1.03240512+0.j,  0.84091136+0.j,  0.17900058+0.j])\n"
     ]
    }
   ],
   "source": [
    "#Estamos mapeando os nossos operadores fermionicos para o QubitSpace:\n",
    "circuitos = [aux.map(operadores) for aux in mapas]\n",
    "\n",
    "observaveis = []\n",
    "observaveis.append([circuitos[0].to_list()[i][0] for i in range(len(circuitos[0]))])\n",
    "observaveis.append([circuitos[1].to_list()[i][0] for i in range(len(circuitos[0]))])\n",
    "\n",
    "obs_jw = ' + '.join(observaveis[0])\n",
    "obs_bk = ' + '.join(observaveis[1])\n",
    "\n",
    "print(obs_bk)\n",
    "print(obs_jw)\n",
    "\n",
    "#mapeamento utilizando os mapas tapered\n",
    "circuitos_temperados = [aux.map(operadores) for aux in mapas_temperados]\n",
    "\n",
    "print()\n",
    "print(circuitos_temperados[0])\n",
    "print(circuitos_temperados[1])\n"
   ]
  },
  {
   "cell_type": "markdown",
   "metadata": {},
   "source": [
    "## Funções para H2 Padrão e Tapered"
   ]
  },
  {
   "cell_type": "code",
   "execution_count": 14,
   "metadata": {},
   "outputs": [],
   "source": [
    "def h2_default(d, mapa, otimizador = SLSQP()):\n",
    "    driver = PySCFDriver(atom=f\"H 0 0 0; H 0 0 {d}\", basis=\"sto-3g\")\n",
    "    estrutura = driver.run() #Criamos a estrutura do nosso sistema\n",
    "\n",
    "    ansatz = UCCSD(\n",
    "        estrutura.num_spatial_orbitals,\n",
    "        estrutura.num_particles,\n",
    "        mapa,\n",
    "        initial_state=HartreeFock(\n",
    "            estrutura.num_spatial_orbitals,\n",
    "            estrutura.num_particles,\n",
    "            mapa))\n",
    "\n",
    "    vqe_solver = VQE(Estimator(), ansatz, otimizador)\n",
    "    vqe_solver.initial_point = [0.0] * ansatz.num_parameters\n",
    "    calculo = GroundStateEigensolver(mapa, vqe_solver)\n",
    "    resultados = calculo.solve(estrutura)\n",
    "    return resultados.groundenergy + resultados.nuclear_repulsion_energy\n"
   ]
  },
  {
   "cell_type": "code",
   "execution_count": 18,
   "metadata": {},
   "outputs": [],
   "source": [
    "def h2_tapered(d, mapa, otimizador = SLSQP()):\n",
    "    driver = PySCFDriver(atom=f\"H 0 0 0; H 0 0 {d}\", basis=\"sto-3g\")\n",
    "    estrutura = driver.run() #Criamos a estrutura do nosso sistema\n",
    "\n",
    "    op = estrutura.get_tapered_mapper(mapa)\n",
    "\n",
    "    ansatz = UCCSD(estrutura.num_spatial_orbitals,\n",
    "            estrutura.num_particles,\n",
    "            op,\n",
    "            initial_state=HartreeFock(\n",
    "                estrutura.num_spatial_orbitals,\n",
    "                estrutura.num_particles,\n",
    "                op))\n",
    "\n",
    "    vqe_solver = VQE(Estimator(), ansatz, otimizador)\n",
    "    vqe_solver.initial_point = [0.0] * ansatz.num_parameters\n",
    "    calculo = GroundStateEigensolver(op, vqe_solver)\n",
    "    resultados = calculo.solve(estrutura)\n",
    "    return resultados.groundenergy + resultados.nuclear_repulsion_energy\n"
   ]
  },
  {
   "cell_type": "markdown",
   "metadata": {},
   "source": [
    "## Compração dos Resultados"
   ]
  },
  {
   "cell_type": "code",
   "execution_count": 11,
   "metadata": {},
   "outputs": [],
   "source": [
    "intervalo = np.concatenate((np.linspace(0.2,2,15), np.linspace(2.2,6,5)))"
   ]
  },
  {
   "cell_type": "code",
   "execution_count": 36,
   "metadata": {},
   "outputs": [
    {
     "name": "stdout",
     "output_type": "stream",
     "text": [
      "27.4 s ± 257 ms per loop (mean ± std. dev. of 7 runs, 1 loop each)\n"
     ]
    }
   ],
   "source": [
    "%%timeit\n",
    "h2_def_jw = [h2_default(d, JordanWignerMapper()) for d in intervalo]"
   ]
  },
  {
   "cell_type": "code",
   "execution_count": 37,
   "metadata": {},
   "outputs": [
    {
     "name": "stdout",
     "output_type": "stream",
     "text": [
      "23.1 s ± 130 ms per loop (mean ± std. dev. of 7 runs, 1 loop each)\n"
     ]
    }
   ],
   "source": [
    "%%timeit\n",
    "h2_def_bk = [h2_default(d, BravyiKitaevMapper()) for d in intervalo]"
   ]
  },
  {
   "cell_type": "code",
   "execution_count": 38,
   "metadata": {},
   "outputs": [
    {
     "name": "stdout",
     "output_type": "stream",
     "text": [
      "8.15 s ± 154 ms per loop (mean ± std. dev. of 7 runs, 1 loop each)\n"
     ]
    }
   ],
   "source": [
    "%%timeit\n",
    "h2_tap = [h2_tapered(d, BravyiKitaevMapper()) for d in intervalo]"
   ]
  },
  {
   "cell_type": "code",
   "execution_count": 35,
   "metadata": {},
   "outputs": [
    {
     "data": {
      "text/plain": [
       "6.185774115152753e-13"
      ]
     },
     "execution_count": 35,
     "metadata": {},
     "output_type": "execute_result"
    }
   ],
   "source": [
    "a = [h2_tap[i] - (h2_def_bk[i] + h2_def_jw[i])/2 for i in range(len(h2_tap))] \n",
    "np.mean(a)"
   ]
  }
 ],
 "metadata": {
  "kernelspec": {
   "display_name": "Python 3",
   "language": "python",
   "name": "python3"
  },
  "language_info": {
   "codemirror_mode": {
    "name": "ipython",
    "version": 3
   },
   "file_extension": ".py",
   "mimetype": "text/x-python",
   "name": "python",
   "nbconvert_exporter": "python",
   "pygments_lexer": "ipython3",
   "version": "3.10.12"
  }
 },
 "nbformat": 4,
 "nbformat_minor": 2
}
