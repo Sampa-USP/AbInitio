{
 "cells": [
  {
   "cell_type": "markdown",
   "id": "2d6d969e-1d2f-4dbe-9c6e-fc60ae9d5455",
   "metadata": {},
   "source": [
    "# Instructions if you are running outside AWS cloud"
   ]
  },
  {
   "cell_type": "markdown",
   "id": "6bbfc4a5-d990-4555-836d-8e656eb6f41c",
   "metadata": {},
   "source": [
    "1. Install aws-cli:\n",
    "\n",
    "`sudo apt install aws-cli`\n",
    "\n",
    "2. Setup aws credentials:\n",
    "\n",
    "`aws configure --profile \"default\"`\n",
    "\n",
    "3. Create virtual environment \n",
    "\n",
    "`python -m venv /path/to/new/virtual/environment`\n",
    "\n",
    "4. Activate virtual environment\n",
    "\n",
    "`source /path/to/new/virtual/environment/bin/activate`"
   ]
  },
  {
   "cell_type": "markdown",
   "id": "6f317bf4-e60f-4498-b694-bf19d17e79da",
   "metadata": {},
   "source": [
    "### Setup AWS Session"
   ]
  },
  {
   "cell_type": "code",
   "execution_count": 11,
   "id": "4972bcbf-b2ec-4a50-80c5-696c6a4008e2",
   "metadata": {},
   "outputs": [],
   "source": [
    "from boto3 import Session\n",
    "from braket.aws import AwsSession\n",
    "\n",
    "# Start Boto3 Session with your credentials profile\n",
    "boto_session = Session(profile_name='default')\n",
    "\n",
    "# Initialize Braket session with Boto3 Session credentials\n",
    "aws_session = AwsSession(boto_session=boto_session)"
   ]
  },
  {
   "cell_type": "markdown",
   "id": "9d936508-deb6-4e21-aeb2-66c0e6862635",
   "metadata": {},
   "source": [
    "### Install modules"
   ]
  },
  {
   "cell_type": "code",
   "execution_count": null,
   "id": "1fcb2e02-28f8-46cc-8a3a-b2abfbc33fe7",
   "metadata": {},
   "outputs": [],
   "source": [
    "# Install this modules on your virtual environment\n",
    "!pip install qiskit-braket-provider\n",
    "!pip install boto3\n",
    "\n",
    "# Another required packages\n",
    "!pip install qiskit-nature\n",
    "!pip install qiskit-aer\n",
    "!pip install pyscf\n",
    "!pip install pandas\n",
    "!pip install matplotlib\n",
    "!pip install pylatexenc"
   ]
  },
  {
   "cell_type": "markdown",
   "id": "4bf64e5f-5094-4082-a353-22ce69d7262c",
   "metadata": {},
   "source": [
    "### Import Libraries"
   ]
  },
  {
   "cell_type": "code",
   "execution_count": 23,
   "id": "f05464e2-bed7-4cf8-aebb-9132d21eac4d",
   "metadata": {},
   "outputs": [],
   "source": [
    "from qiskit import QuantumCircuit\n",
    "from qiskit_braket_provider import BraketLocalBackend\n",
    "from qiskit.visualization import plot_histogram\n",
    "from qiskit_braket_provider import BraketProvider\n",
    "from qiskit_aer import StatevectorSimulator\n",
    "\n",
    "from braket.aws import AwsQuantumTask"
   ]
  },
  {
   "cell_type": "markdown",
   "id": "3df2a004-7d24-459c-9410-9febbe99a7f1",
   "metadata": {},
   "source": [
    "### Qiskit API Documentation\n",
    "[Version 1.2.0 Latest](https://docs.quantum.ibm.com/api/qiskit)"
   ]
  },
  {
   "cell_type": "code",
   "execution_count": 12,
   "id": "14fd90b1-4338-422b-8468-cf0c136c0dde",
   "metadata": {
    "scrolled": true
   },
   "outputs": [
    {
     "name": "stdout",
     "output_type": "stream",
     "text": [
      "1.2.0\n"
     ]
    }
   ],
   "source": [
    "# Check your current API version\n",
    "print(qiskit.version.get_version_info())"
   ]
  },
  {
   "cell_type": "markdown",
   "id": "b5856d27-5a18-4873-8ad2-d02cfb8116b3",
   "metadata": {},
   "source": [
    "### Define a circuit"
   ]
  },
  {
   "cell_type": "code",
   "execution_count": 1,
   "id": "c08ebdf6-8232-4eb3-9a3c-ebff5f99438d",
   "metadata": {},
   "outputs": [
    {
     "data": {
      "image/png": "[encoded data removed]",
      "text/plain": [
       "<Figure size 371.107x284.278 with 1 Axes>"
      ]
     },
     "execution_count": 1,
     "metadata": {},
     "output_type": "execute_result"
    }
   ],
   "source": [
    "circuit = QuantumCircuit(3)\n",
    "\n",
    "# Apply H-gate to the first qubit:\n",
    "circuit.h(0)\n",
    "# Apply a CNOT to each qubit:\n",
    "for qubit in range(1, 3):\n",
    "    circuit.cx(0, qubit)\n",
    "circuit.draw('mpl')"
   ]
  },
  {
   "cell_type": "markdown",
   "id": "59b4c8d2-99df-4825-94f3-7f11d00fb2e9",
   "metadata": {},
   "source": [
    "### Running on Local Simulator"
   ]
  },
  {
   "cell_type": "code",
   "execution_count": 3,
   "id": "9267bccc-eaaa-4d20-b5cc-60bbd3c50372",
   "metadata": {},
   "outputs": [],
   "source": [
    "local_simulator = BraketLocalBackend()\n",
    "\n",
    "task = local_simulator.run(circuit, shots=1000)"
   ]
  },
  {
   "cell_type": "code",
   "execution_count": 4,
   "id": "86723773-37d7-458c-a53e-c9d0749a2a1d",
   "metadata": {},
   "outputs": [
    {
     "data": {
      "image/png": "[encoded data removed]",
      "text/plain": [
       "<Figure size 640x480 with 1 Axes>"
      ]
     },
     "execution_count": 4,
     "metadata": {},
     "output_type": "execute_result"
    }
   ],
   "source": [
    "plot_histogram(task.result().get_counts())"
   ]
  },
  {
   "cell_type": "markdown",
   "id": "cde90054-3804-46b2-bfcd-cac3eb79e315",
   "metadata": {},
   "source": [
    "### Retrieve Available Quantum Hardware"
   ]
  },
  {
   "cell_type": "code",
   "execution_count": 8,
   "id": "9a8e2c45-1e50-4087-844a-8569ed90a755",
   "metadata": {},
   "outputs": [
    {
     "name": "stdout",
     "output_type": "stream",
     "text": [
      "BraketBackend[Aria 1]\n",
      "BraketBackend[Aria 2]\n",
      "BraketBackend[Aspen-M-3]\n",
      "BraketBackend[Forte 1]\n",
      "BraketBackend[Garnet]\n",
      "BraketBackend[Harmony]\n"
     ]
    }
   ],
   "source": [
    "provider = BraketProvider()\n",
    "available_aws_cloud_backends = provider.backends() \n",
    "for i in available_aws_cloud_backends: \n",
    "    print(i)"
   ]
  },
  {
   "cell_type": "code",
   "execution_count": 18,
   "id": "7335c499-a86e-4734-9d1e-e8025f506008",
   "metadata": {},
   "outputs": [],
   "source": [
    "statevector_simulator = StatevectorSimulator()\n",
    "harmony = provider.get_backend(\"Harmony\", aws_session=aws_session)\n",
    "aria2 = provider.get_backend(\"Aria 2\", aws_session=aws_session)\n",
    "aspenM3 = provider.get_backend(\"Aspen-M-3\", aws_session=aws_session)\n",
    "garnet = provider.get_backend(\"Garnet\", aws_session=aws_session)"
   ]
  },
  {
   "cell_type": "markdown",
   "id": "9fc8c3a4-16bf-4012-8592-de070c3e652d",
   "metadata": {},
   "source": [
    "### AWS Pricing\n",
    "[AWS Device Pricing](https://aws.amazon.com/braket/pricing/)"
   ]
  },
  {
   "cell_type": "markdown",
   "id": "ff005162-8a19-4673-a2d4-56c39b5098f3",
   "metadata": {},
   "source": [
    "### Submit task to Quantum Hardware"
   ]
  },
  {
   "cell_type": "code",
   "execution_count": null,
   "id": "76985fd1-e733-4da6-b182-bdc37d7afe53",
   "metadata": {},
   "outputs": [],
   "source": [
    "# Submit to Aspen-M-3 and get task id\n",
    "aspenM3_task = aspenM3.run(circuit, shots=10)\n",
    "aspenM3_task_id = aspenM3_task.job_id()"
   ]
  },
  {
   "cell_type": "code",
   "execution_count": null,
   "id": "7fa316c1-2061-498e-8209-bedd47671b54",
   "metadata": {},
   "outputs": [],
   "source": [
    "# Submit to Aria2 and get task id\n",
    "aria2_task = aria2.run(circuit, shots=10)\n",
    "aria2_task_id = aria2_task.job_id()"
   ]
  },
  {
   "cell_type": "code",
   "execution_count": null,
   "id": "3b567dbb-1a82-4285-876b-19f59a0397e6",
   "metadata": {},
   "outputs": [],
   "source": [
    "# Submit to Harmony and get task id\n",
    "harmony_task = harmony.run(circuit, shots=10)\n",
    "harmony_task_id = harmony_task.job_id()"
   ]
  },
  {
   "cell_type": "code",
   "execution_count": 19,
   "id": "e75575c8-8b16-4805-b06e-aceb33fa9ee5",
   "metadata": {},
   "outputs": [],
   "source": [
    "# Submit to Garnet and get task id\n",
    "garnet_task = garnet.run(circuit, shots=10)\n",
    "garnet_task_id = garnet_task.job_id()"
   ]
  },
  {
   "cell_type": "markdown",
   "id": "db9e199a-ff2f-4c95-a248-648213f25ed2",
   "metadata": {},
   "source": [
    "### Retrieve data from task"
   ]
  },
  {
   "cell_type": "code",
   "execution_count": 24,
   "id": "6b6ca4b1-1ca1-4916-8ed8-bdf69676338a",
   "metadata": {},
   "outputs": [],
   "source": [
    "def getData(task_id):\n",
    "    # recover quantum task\n",
    "    task_load = AwsQuantumTask(arn=task_id)\n",
    "\n",
    "    # print status\n",
    "    status = task_load.state()\n",
    "    print('Status of (reconstructed) quantum task:', status)\n",
    "    \n",
    "    # wait for job to complete\n",
    "    # terminal_states = ['COMPLETED', 'FAILED', 'CANCELLED']\n",
    "    if status == 'COMPLETED':\n",
    "        # get results\n",
    "        results = task_load.result()\n",
    "\n",
    "        # get all metadata of submitted quantum task\n",
    "        metadata = task_load.metadata()\n",
    "        \n",
    "        # example for metadata\n",
    "        shots = metadata['shots']\n",
    "        machine = metadata['deviceArn']\n",
    "        \n",
    "        # print example metadata\n",
    "        # print(\"{} shots taken on machine {}.\\n\".format(shots, machine))\n",
    "\n",
    "        # get measurement counts\n",
    "        counts = dict(sorted(results.measurement_counts.items()))\n",
    "        print('Measurement counts:', counts)\n",
    "        print('Expected value:', results.values[0])\n",
    "        \n",
    "        return results.values[0]\n",
    "\n",
    "    elif status in ['FAILED', 'CANCELLED']:\n",
    "        # print terminal message \n",
    "        print('Your quantum task is in terminal status, but has not completed.')\n",
    "        return 0\n",
    "    else:\n",
    "        # print current status\n",
    "        print('Sorry, your quantum task is still being processed and has not been finalized yet.')\n",
    "        return 0"
   ]
  },
  {
   "cell_type": "code",
   "execution_count": 27,
   "id": "52a1b095-3a2a-4ca4-bdfa-be117da25330",
   "metadata": {},
   "outputs": [
    {
     "name": "stdout",
     "output_type": "stream",
     "text": [
      "Status of (reconstructed) quantum task: QUEUED\n",
      "Sorry, your quantum task is still being processed and has not been finalized yet.\n"
     ]
    },
    {
     "data": {
      "text/plain": [
       "0"
      ]
     },
     "execution_count": 27,
     "metadata": {},
     "output_type": "execute_result"
    }
   ],
   "source": [
    "# taskIds = [aspenM3_task_id, aria2_task_id, harmony_task_id, garnet_task_id]\n",
    "getData(garnet_task_id)"
   ]
  }
 ],
 "metadata": {
  "kernelspec": {
   "display_name": "Python 3 (ipykernel)",
   "language": "python",
   "name": "python3"
  },
  "language_info": {
   "codemirror_mode": {
    "name": "ipython",
    "version": 3
   },
   "file_extension": ".py",
   "mimetype": "text/x-python",
   "name": "python",
   "nbconvert_exporter": "python",
   "pygments_lexer": "ipython3",
   "version": "3.12.4"
  }
 },
 "nbformat": 4,
 "nbformat_minor": 5
}
