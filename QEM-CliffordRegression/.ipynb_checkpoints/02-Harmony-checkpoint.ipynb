{
 "cells": [
  {
   "cell_type": "code",
   "execution_count": 1,
   "id": "ba504827-8380-46c1-ab45-2a2f9f9858b3",
   "metadata": {
    "tags": []
   },
   "outputs": [],
   "source": [
    "from braket.tracking import Tracker\n",
    "t = Tracker().start()"
   ]
  },
  {
   "cell_type": "code",
   "execution_count": 2,
   "id": "d13e2085-3633-44f3-92b1-59c920f978c3",
   "metadata": {
    "tags": []
   },
   "outputs": [],
   "source": [
    "# general imports\n",
    "import matplotlib.pyplot as plt\n",
    "# magic word for producing visualizations in notebook\n",
    "%matplotlib inline\n",
    "import string\n",
    "import time\n",
    "\n",
    "# AWS imports: Import Braket SDK modules\n",
    "from braket.aws import AwsDevice, AwsQuantumTask\n",
    "from braket.circuits import Circuit, Gate, observables\n",
    "from braket.device_schema import DeviceActionType\n",
    "from braket.devices import Devices, LocalSimulator\n",
    "from braket.parametric import FreeParameter"
   ]
  },
  {
   "cell_type": "code",
   "execution_count": 3,
   "id": "0daf38c9-66b4-4253-8a0f-4fca6a2afcd0",
   "metadata": {
    "tags": []
   },
   "outputs": [
    {
     "name": "stdout",
     "output_type": "stream",
     "text": [
      "Gate set supported by the IonQ device:\n",
      " ['x', 'y', 'z', 'rx', 'ry', 'rz', 'h', 'cnot', 's', 'si', 't', 'ti', 'v', 'vi', 'xx', 'yy', 'zz', 'swap']\n",
      "\n",
      "\n",
      "Gate set supported by the IonQ device:\n",
      " ['x', 'y', 'z', 'rx', 'ry', 'rz', 'h', 'cnot', 's', 'si', 't', 'ti', 'v', 'vi', 'xx', 'yy', 'zz', 'swap']\n",
      "\n",
      "\n"
     ]
    }
   ],
   "source": [
    "aria1 = AwsDevice(Devices.IonQ.Aria1)\n",
    "supported_gates = aria1.properties.action[DeviceActionType.OPENQASM].supportedOperations\n",
    "# print the supported gate set\n",
    "print('Gate set supported by the IonQ device:\\n', supported_gates)\n",
    "print('\\n') \n",
    "\n",
    "harmony = AwsDevice(Devices.IonQ.Harmony)\n",
    "supported_gates = harmony.properties.action[DeviceActionType.OPENQASM].supportedOperations\n",
    "# print the supported gate set\n",
    "print('Gate set supported by the IonQ device:\\n', supported_gates)\n",
    "print('\\n') "
   ]
  },
  {
   "cell_type": "code",
   "execution_count": 18,
   "id": "f628beac-93a8-4ab1-bb1a-4f385be21d90",
   "metadata": {
    "tags": []
   },
   "outputs": [
    {
     "data": {
      "text/plain": [
       "Circuit('instructions': [Instruction('operator': CNot('qubit_count': 2), 'target': QubitSet([Qubit(0), Qubit(1)]), 'control': QubitSet([]), 'control_state': (), 'power': 1), Instruction('operator': Swap('qubit_count': 2), 'target': QubitSet([Qubit(0), Qubit(1)]), 'control': QubitSet([]), 'control_state': (), 'power': 1), Instruction('operator': Rx('angle': 0.15, 'qubit_count': 1), 'target': QubitSet([Qubit(0)]), 'control': QubitSet([]), 'control_state': (), 'power': 1), Instruction('operator': Ry('angle': 0.15, 'qubit_count': 1), 'target': QubitSet([Qubit(0)]), 'control': QubitSet([]), 'control_state': (), 'power': 1), Instruction('operator': Rz('angle': 0.15, 'qubit_count': 1), 'target': QubitSet([Qubit(0)]), 'control': QubitSet([]), 'control_state': (), 'power': 1), Instruction('operator': H('qubit_count': 1), 'target': QubitSet([Qubit(0)]), 'control': QubitSet([]), 'control_state': (), 'power': 1), Instruction('operator': H('qubit_count': 1), 'target': QubitSet([Qubit(1)]), 'control': QubitSet([]), 'control_state': (), 'power': 1), Instruction('operator': H('qubit_count': 1), 'target': QubitSet([Qubit(2)]), 'control': QubitSet([]), 'control_state': (), 'power': 1), Instruction('operator': Swap('qubit_count': 2), 'target': QubitSet([Qubit(0), Qubit(1)]), 'control': QubitSet([]), 'control_state': (), 'power': 1), Instruction('operator': X('qubit_count': 1), 'target': QubitSet([Qubit(1)]), 'control': QubitSet([]), 'control_state': (), 'power': 1), Instruction('operator': X('qubit_count': 1), 'target': QubitSet([Qubit(2)]), 'control': QubitSet([]), 'control_state': (), 'power': 1), Instruction('operator': Y('qubit_count': 1), 'target': QubitSet([Qubit(1)]), 'control': QubitSet([]), 'control_state': (), 'power': 1), Instruction('operator': Y('qubit_count': 1), 'target': QubitSet([Qubit(2)]), 'control': QubitSet([]), 'control_state': (), 'power': 1), Instruction('operator': Z('qubit_count': 1), 'target': QubitSet([Qubit(1)]), 'control': QubitSet([]), 'control_state': (), 'power': 1), Instruction('operator': Z('qubit_count': 1), 'target': QubitSet([Qubit(2)]), 'control': QubitSet([]), 'control_state': (), 'power': 1), Instruction('operator': S('qubit_count': 1), 'target': QubitSet([Qubit(0)]), 'control': QubitSet([]), 'control_state': (), 'power': 1), Instruction('operator': S('qubit_count': 1), 'target': QubitSet([Qubit(1)]), 'control': QubitSet([]), 'control_state': (), 'power': 1), Instruction('operator': S('qubit_count': 1), 'target': QubitSet([Qubit(2)]), 'control': QubitSet([]), 'control_state': (), 'power': 1), Instruction('operator': Si('qubit_count': 1), 'target': QubitSet([Qubit(0)]), 'control': QubitSet([]), 'control_state': (), 'power': 1), Instruction('operator': Si('qubit_count': 1), 'target': QubitSet([Qubit(1)]), 'control': QubitSet([]), 'control_state': (), 'power': 1), Instruction('operator': T('qubit_count': 1), 'target': QubitSet([Qubit(0)]), 'control': QubitSet([]), 'control_state': (), 'power': 1), Instruction('operator': T('qubit_count': 1), 'target': QubitSet([Qubit(1)]), 'control': QubitSet([]), 'control_state': (), 'power': 1), Instruction('operator': Ti('qubit_count': 1), 'target': QubitSet([Qubit(0)]), 'control': QubitSet([]), 'control_state': (), 'power': 1), Instruction('operator': Ti('qubit_count': 1), 'target': QubitSet([Qubit(1)]), 'control': QubitSet([]), 'control_state': (), 'power': 1), Instruction('operator': V('qubit_count': 1), 'target': QubitSet([Qubit(0)]), 'control': QubitSet([]), 'control_state': (), 'power': 1), Instruction('operator': V('qubit_count': 1), 'target': QubitSet([Qubit(1)]), 'control': QubitSet([]), 'control_state': (), 'power': 1), Instruction('operator': V('qubit_count': 1), 'target': QubitSet([Qubit(2)]), 'control': QubitSet([]), 'control_state': (), 'power': 1), Instruction('operator': Vi('qubit_count': 1), 'target': QubitSet([Qubit(0)]), 'control': QubitSet([]), 'control_state': (), 'power': 1), Instruction('operator': Vi('qubit_count': 1), 'target': QubitSet([Qubit(1)]), 'control': QubitSet([]), 'control_state': (), 'power': 1), Instruction('operator': Vi('qubit_count': 1), 'target': QubitSet([Qubit(2)]), 'control': QubitSet([]), 'control_state': (), 'power': 1), Instruction('operator': XX('angle': 0.15, 'qubit_count': 2), 'target': QubitSet([Qubit(0), Qubit(1)]), 'control': QubitSet([]), 'control_state': (), 'power': 1), Instruction('operator': YY('angle': 0.15, 'qubit_count': 2), 'target': QubitSet([Qubit(0), Qubit(1)]), 'control': QubitSet([]), 'control_state': (), 'power': 1), Instruction('operator': ZZ('angle': 0.15, 'qubit_count': 2), 'target': QubitSet([Qubit(0), Qubit(1)]), 'control': QubitSet([]), 'control_state': (), 'power': 1)])"
      ]
     },
     "execution_count": 18,
     "metadata": {},
     "output_type": "execute_result"
    }
   ],
   "source": [
    "# Define a circuit\n",
    "circ = Circuit()\n",
    "circ.cnot(0, 1)\n",
    "circ.swap(0,1)\n",
    "circ.rx(0, 0.15)\n",
    "circ.ry(0, 0.15)\n",
    "circ.rz(0, 0.15)\n",
    "circ.h(range(3))\n",
    "circ.swap(0, 1)\n",
    "circ.x([1, 2])\n",
    "circ.y([1, 2])\n",
    "circ.z([1, 2])\n",
    "circ.s([0, 1, 2])\n",
    "circ.si([0, 1])\n",
    "circ.t([0, 1])\n",
    "circ.ti([0, 1])\n",
    "circ.v([0, 1, 2])\n",
    "circ.vi([0, 1, 2])\n",
    "circ.xx(0, 1, 0.15)\n",
    "circ.yy(0, 1, 0.15)\n",
    "circ.zz(0, 1, 0.15)"
   ]
  },
  {
   "cell_type": "code",
   "execution_count": 19,
   "id": "9a0f4582-7208-4281-80de-3a9876411720",
   "metadata": {
    "tags": []
   },
   "outputs": [
    {
     "name": "stdout",
     "output_type": "stream",
     "text": [
      "T  : │  0  │   1    │     2      │     3      │     4      │  5  │   6    │  7  │  8   │  9  │  10  │  11  │  12  │  13  │ 14  │  15  │     16     │     17     │     18     │\n",
      "                     ┌──────────┐ ┌──────────┐ ┌──────────┐ ┌───┐          ┌───┐ ┌────┐ ┌───┐ ┌────┐ ┌───┐  ┌────┐                     ┌──────────┐ ┌──────────┐ ┌──────────┐ \n",
      "q0 : ───●──────x─────┤ Rx(0.15) ├─┤ Ry(0.15) ├─┤ Rz(0.15) ├─┤ H ├────x─────┤ S ├─┤ Si ├─┤ T ├─┤ Ti ├─┤ V ├──┤ Vi ├─────────────────────┤ XX(0.15) ├─┤ YY(0.15) ├─┤ ZZ(0.15) ├─\n",
      "        │      │     └──────────┘ └──────────┘ └──────────┘ └───┘    │     └───┘ └────┘ └───┘ └────┘ └───┘  └────┘                     └────┬─────┘ └────┬─────┘ └────┬─────┘ \n",
      "      ┌─┴─┐    │        ┌───┐                                        │     ┌───┐ ┌───┐  ┌───┐ ┌───┐  ┌────┐ ┌───┐  ┌────┐ ┌───┐ ┌────┐ ┌────┴─────┐ ┌────┴─────┐ ┌────┴─────┐ \n",
      "q1 : ─┤ X ├────x────────┤ H ├────────────────────────────────────────x─────┤ X ├─┤ Y ├──┤ Z ├─┤ S ├──┤ Si ├─┤ T ├──┤ Ti ├─┤ V ├─┤ Vi ├─┤ XX(0.15) ├─┤ YY(0.15) ├─┤ ZZ(0.15) ├─\n",
      "      └───┘             └───┘                                              └───┘ └───┘  └───┘ └───┘  └────┘ └───┘  └────┘ └───┘ └────┘ └──────────┘ └──────────┘ └──────────┘ \n",
      "      ┌───┐  ┌───┐      ┌───┐        ┌───┐        ┌───┐     ┌───┐  ┌────┐                                                                                                     \n",
      "q2 : ─┤ H ├──┤ X ├──────┤ Y ├────────┤ Z ├────────┤ S ├─────┤ V ├──┤ Vi ├─────────────────────────────────────────────────────────────────────────────────────────────────────\n",
      "      └───┘  └───┘      └───┘        └───┘        └───┘     └───┘  └────┘                                                                                                     \n",
      "T  : │  0  │   1    │     2      │     3      │     4      │  5  │   6    │  7  │  8   │  9  │  10  │  11  │  12  │  13  │ 14  │  15  │     16     │     17     │     18     │\n"
     ]
    }
   ],
   "source": [
    "print(circ)"
   ]
  },
  {
   "cell_type": "code",
   "execution_count": null,
   "id": "b4ec297c-7ac0-4402-9153-da3e5489adb1",
   "metadata": {},
   "outputs": [],
   "source": []
  },
  {
   "cell_type": "code",
   "execution_count": null,
   "id": "6065c0b8-de8f-4a7c-bfb7-78dec1834dea",
   "metadata": {
    "tags": []
   },
   "outputs": [],
   "source": [
    "print(aria1.queue_depth().quantum_tasks)\n",
    "print(harmony.queue_depth().quantum_tasks)"
   ]
  },
  {
   "cell_type": "markdown",
   "id": "34527f07-6694-45cf-a4f4-02576376d1ef",
   "metadata": {},
   "source": [
    ">>>>>>Simulador!!!!!!!!!"
   ]
  },
  {
   "cell_type": "code",
   "execution_count": 21,
   "id": "a6ffcf95-20b7-4083-9e89-363fd3ce18a4",
   "metadata": {
    "tags": []
   },
   "outputs": [],
   "source": [
    "# set up device: Local Simulator\n",
    "device = LocalSimulator()"
   ]
  },
  {
   "cell_type": "code",
   "execution_count": 22,
   "id": "84095ef3-dff0-4d6c-ad42-a07511bd2fa4",
   "metadata": {
    "tags": []
   },
   "outputs": [
    {
     "name": "stdout",
     "output_type": "stream",
     "text": [
      "Counter({'100': 169, '101': 155, '001': 152, '111': 128, '000': 125, '011': 91, '110': 91, '010': 89})\n"
     ]
    }
   ],
   "source": [
    "# run circuit (execute single TASK)\n",
    "result = device.run(circ, shots=1000).result()\n",
    "# get measurement shots\n",
    "counts = result.measurement_counts\n",
    "# print counts\n",
    "print(counts)"
   ]
  },
  {
   "cell_type": "code",
   "execution_count": 23,
   "id": "d66043cb-5e2f-4fe2-9d5f-f3d2469f63ae",
   "metadata": {
    "tags": []
   },
   "outputs": [
    {
     "data": {
      "text/plain": [
       "Text(0, 0.5, 'counts')"
      ]
     },
     "execution_count": 23,
     "metadata": {},
     "output_type": "execute_result"
    },
    {
     "data": {
      "image/png": "[encoded data removed]",
      "text/plain": [
       "<Figure size 640x480 with 1 Axes>"
      ]
     },
     "metadata": {},
     "output_type": "display_data"
    }
   ],
   "source": [
    "# plot using Counter\n",
    "plt.bar(counts.keys(), counts.values())\n",
    "plt.xlabel('bitstrings')\n",
    "plt.ylabel('counts')"
   ]
  },
  {
   "cell_type": "markdown",
   "id": "ff1c6289-8a01-4017-9bcd-6a2adf045480",
   "metadata": {
    "tags": []
   },
   "source": [
    ">>>>>> Aria1!!!!!!!!!"
   ]
  },
  {
   "cell_type": "code",
   "execution_count": null,
   "id": "729e6d4c-8ac7-4aef-b9f2-80d9e03336fc",
   "metadata": {
    "tags": []
   },
   "outputs": [],
   "source": [
    "# run circuit (execute single TASK)\n",
    "aria1_task = aria1.run(circ, shots=1000).result()\n",
    "\n"
   ]
  },
  {
   "cell_type": "code",
   "execution_count": 26,
   "id": "e9ff29bc-2e41-492d-8efa-d1988b077eaa",
   "metadata": {
    "tags": []
   },
   "outputs": [
    {
     "name": "stdout",
     "output_type": "stream",
     "text": [
      "GateModelQuantumTaskResult(task_metadata=TaskMetadata(braketSchemaHeader=BraketSchemaHeader(name='braket.task_result.task_metadata', version='1'), id='arn:aws:braket:us-east-1:709381776175:quantum-task/3591d881-abf3-4bfa-8db1-329eb7e193d5', shots=1000, deviceId='arn:aws:braket:us-east-1::device/qpu/ionq/Aria-1', deviceParameters=IonqDeviceParameters(braketSchemaHeader=BraketSchemaHeader(name='braket.device_schema.ionq.ionq_device_parameters', version='1'), paradigmParameters=GateModelParameters(braketSchemaHeader=BraketSchemaHeader(name='braket.device_schema.gate_model_parameters', version='1'), qubitCount=3, disableQubitRewiring=False), errorMitigation=None), createdAt='2024-04-16T01:52:39.238Z', endedAt='2024-04-16T01:55:50.127Z', status='COMPLETED', failureReason=None), additional_metadata=AdditionalMetadata(action=Program(braketSchemaHeader=BraketSchemaHeader(name='braket.ir.openqasm.program', version='1'), source='OPENQASM 3.0;\\nbit[3] b;\\nqubit[3] q;\\ncnot q[0], q[1];\\nswap q[0], q[1];\\nrx(0.15) q[0];\\nry(0.15) q[0];\\nrz(0.15) q[0];\\nh q[0];\\nh q[1];\\nh q[2];\\nswap q[0], q[1];\\nx q[1];\\nx q[2];\\ny q[1];\\ny q[2];\\nz q[1];\\nz q[2];\\ns q[0];\\ns q[1];\\ns q[2];\\nsi q[0];\\nsi q[1];\\nt q[0];\\nt q[1];\\nti q[0];\\nti q[1];\\nv q[0];\\nv q[1];\\nv q[2];\\nvi q[0];\\nvi q[1];\\nvi q[2];\\nxx(0.15) q[0], q[1];\\nyy(0.15) q[0], q[1];\\nzz(0.15) q[0], q[1];\\nb[0] = measure q[0];\\nb[1] = measure q[1];\\nb[2] = measure q[2];', inputs={}), dwaveMetadata=None, ionqMetadata=None, rigettiMetadata=None, oqcMetadata=None, xanaduMetadata=None, queraMetadata=None, simulatorMetadata=None), result_types=[], values=[], measurements=array([[0, 0, 0],\n",
      "       [0, 0, 0],\n",
      "       [0, 0, 0],\n",
      "       ...,\n",
      "       [1, 1, 1],\n",
      "       [1, 1, 1],\n",
      "       [1, 1, 1]]), measured_qubits=[0, 1, 2], measurement_counts=Counter({'000': 177, '001': 176, '100': 146, '101': 131, '011': 118, '010': 113, '110': 75, '111': 64}), measurement_probabilities={'000': 0.177, '100': 0.146, '010': 0.113, '110': 0.075, '001': 0.176, '101': 0.131, '011': 0.118, '111': 0.064}, measurements_copied_from_device=False, measurement_counts_copied_from_device=False, measurement_probabilities_copied_from_device=True, _result_types_indices={})\n"
     ]
    }
   ],
   "source": [
    "print(aria1_task)"
   ]
  },
  {
   "cell_type": "code",
   "execution_count": null,
   "id": "5a70ff5d-3b64-4829-ab04-231191a909cd",
   "metadata": {
    "tags": []
   },
   "outputs": [],
   "source": [
    "# get id and status of submitted quantum task\n",
    "aria1_task_id = aria1_task.id\n",
    "aria1_status = aria1_task.state()\n",
    "# print('ID of quantum task:', ionq_task_id)\n",
    "print('Status of quantum task:', aria1_status)"
   ]
  },
  {
   "cell_type": "code",
   "execution_count": null,
   "id": "51242e9d-c5f1-4b2c-810a-3fd8c3c200d1",
   "metadata": {},
   "outputs": [],
   "source": [
    "counts = aria1_task.measurement_counts\n",
    "# print counts\n",
    "print(counts)"
   ]
  }
 ],
 "metadata": {
  "kernelspec": {
   "display_name": "conda_braket",
   "language": "python",
   "name": "conda_braket"
  },
  "language_info": {
   "codemirror_mode": {
    "name": "ipython",
    "version": 3
   },
   "file_extension": ".py",
   "mimetype": "text/x-python",
   "name": "python",
   "nbconvert_exporter": "python",
   "pygments_lexer": "ipython3",
   "version": "3.10.14"
  }
 },
 "nbformat": 4,
 "nbformat_minor": 5
}
