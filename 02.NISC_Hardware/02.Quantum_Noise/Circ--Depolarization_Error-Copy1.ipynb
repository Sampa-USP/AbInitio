{
 "cells": [
  {
   "cell_type": "markdown",
   "id": "b87fd146-d3da-47ff-8b1c-8fbcb86d1179",
   "metadata": {},
   "source": [
    "<h1>Import modules</h1>"
   ]
  },
  {
   "cell_type": "code",
   "execution_count": null,
   "id": "3097a425-c9c7-4ebf-af7a-b7ba01b4cf11",
   "metadata": {},
   "outputs": [],
   "source": [
    "from braket.tracking import Tracker\n",
    "t = Tracker().start()"
   ]
  },
  {
   "cell_type": "code",
   "execution_count": 259,
   "id": "55e4e299-23f2-4861-8f58-3de87c1b9fbb",
   "metadata": {
    "tags": []
   },
   "outputs": [],
   "source": [
    "# AWS imports: Import Braket SDK modules\n",
    "from braket.circuits import Circuit\n",
    "from braket.circuits import Observable\n",
    "from braket.devices import LocalSimulator\n",
    "\n",
    "import math"
   ]
  },
  {
   "cell_type": "code",
   "execution_count": 277,
   "id": "d593c558-2662-48e1-93ac-6250238079d5",
   "metadata": {
    "tags": []
   },
   "outputs": [],
   "source": [
    "from braket.aws import AwsDevice\n",
    "from braket.devices import Devices\n",
    "from braket.error_mitigation import Debias"
   ]
  },
  {
   "cell_type": "markdown",
   "id": "f6227129-6e88-41d8-aabc-c6bfe2eed972",
   "metadata": {},
   "source": [
    "<h1>Define parameters</h1>"
   ]
  },
  {
   "cell_type": "code",
   "execution_count": 335,
   "id": "e7c7fd6a-a380-4985-a7c0-2dc9fd31474f",
   "metadata": {
    "tags": []
   },
   "outputs": [],
   "source": [
    "# Define parameters set\n",
    "parameters_setup = dict(n_qubits=1, n_shots=2500, max_deph=100, step=50, isVerbose=True)\n",
    "parameters_execution = dict(n_qubits=1, n_shots=2500, max_deph=600, step=100, isVerbose=True)\n",
    "\n",
    "parameters = parameters_execution"
   ]
  },
  {
   "cell_type": "markdown",
   "id": "2cbb83f7-623a-41d4-843e-155c5e1bfe81",
   "metadata": {
    "tags": []
   },
   "source": [
    "<h1>Define the Circuit of Interest</h1>"
   ]
  },
  {
   "cell_type": "code",
   "execution_count": 339,
   "id": "502fe3eb-5f9a-45c6-a72b-77e4c24156da",
   "metadata": {
    "tags": []
   },
   "outputs": [],
   "source": [
    "# function to build the circuit of interest\n",
    "def build_circuit_of_interest(n_qubits, deph):\n",
    "    \"\"\"\n",
    "    function to return a circuit\n",
    "    input: number of qubits and deph of the circuit\n",
    "    \"\"\"\n",
    "\n",
    "    # instantiate circuit object\n",
    "    circuit = Circuit()\n",
    "\n",
    "    # add Hadamard gate on first qubit\n",
    "    for i in range(0,deph):\n",
    "        # circuit.h(0)\n",
    "        if (i % 2 == 0):\n",
    "            circuit.ry(0, math.pi/5)\n",
    "        # circuit.cnot(0,3)\n",
    "        else:\n",
    "            circuit.rz(0, math.pi/2)\n",
    "\n",
    "    return circuit"
   ]
  },
  {
   "cell_type": "markdown",
   "id": "2408e0e9-d496-49a8-8b48-ff950d3865bc",
   "metadata": {},
   "source": [
    "<h1>Setup task</h1>"
   ]
  },
  {
   "cell_type": "code",
   "execution_count": 360,
   "id": "63822761-b973-4088-8921-b38ea2e03968",
   "metadata": {
    "tags": []
   },
   "outputs": [],
   "source": [
    "def run_task(device, parameters=parameters_setup, isQuantum=False):\n",
    "\n",
    "    dados = []\n",
    "    for deph in range(1, parameters['max_deph'], parameters['step']):\n",
    "\n",
    "        # Build circuit\n",
    "        circuit = build_circuit_of_interest(parameters['n_qubits'], parameters['max_deph'])\n",
    "\n",
    "        # Set observables\n",
    "        tensor_product = Observable.Z()\n",
    "        circuit.expectation(observable = tensor_product, target=range(0,parameters['n_qubits']))\n",
    "\n",
    "        # Run circuit\n",
    "        if not isQuantum:\n",
    "            task = device.run(circuit, shots=parameters['n_shots'])\n",
    "        else:\n",
    "            task = device.run(circuit, shots=parameters['n_shots'], device_parameters={\"errorMitigation\": Debias()})\n",
    "\n",
    "        # Gather aplicable data\n",
    "        if (not isQuantum):\n",
    "            dados.append((deph, task.result().values[0]))\n",
    "            if parameters['isVerbose']:\n",
    "                print(f\"Expectation value: {task.result().values[0]}\")\n",
    "                print(f\"Amostra: {task.result().measurement_counts}\")\n",
    "        else:\n",
    "            dados.append((deph, task.id))\n",
    "            if parameters['isVerbose']:\n",
    "                print(f\"Task Id: {task.id}\")\n",
    "\n",
    "    return dados"
   ]
  },
  {
   "cell_type": "markdown",
   "id": "2316a7a8-ae10-4e43-b8bd-5395d40d72bf",
   "metadata": {},
   "source": [
    "<h1>Running task on Simulator</h1>"
   ]
  },
  {
   "cell_type": "code",
   "execution_count": 341,
   "id": "4ea2cf00-77ea-4f01-b3ca-f27e30ad3182",
   "metadata": {
    "tags": []
   },
   "outputs": [],
   "source": [
    "# set up device: Local Simulator\n",
    "simulator = LocalSimulator()"
   ]
  },
  {
   "cell_type": "code",
   "execution_count": 361,
   "id": "80b0ab60-1c3e-4b9e-a667-4efb9b59be46",
   "metadata": {
    "tags": []
   },
   "outputs": [
    {
     "name": "stdout",
     "output_type": "stream",
     "text": [
      "Expectation value: 0.6648\n",
      "Amostra: Counter({'0': 2081, '1': 419})\n",
      "Expectation value: 0.664\n",
      "Amostra: Counter({'0': 2080, '1': 420})\n",
      "Expectation value: 0.6712\n",
      "Amostra: Counter({'0': 2089, '1': 411})\n",
      "Expectation value: 0.6896\n",
      "Amostra: Counter({'0': 2112, '1': 388})\n",
      "Expectation value: 0.6768\n",
      "Amostra: Counter({'0': 2096, '1': 404})\n",
      "Expectation value: 0.6648\n",
      "Amostra: Counter({'0': 2081, '1': 419})\n",
      "[(1, 0.6648), (101, 0.664), (201, 0.6712), (301, 0.6896), (401, 0.6768), (501, 0.6648)]\n"
     ]
    }
   ],
   "source": [
    "resultset_1 = run_task(simulator, parameters)\n",
    "print(resultset_1)"
   ]
  },
  {
   "cell_type": "markdown",
   "id": "75e11355-fa49-4b86-92c6-1fbc8cac26b7",
   "metadata": {},
   "source": [
    "<h1>Running task on QPU</h1>"
   ]
  },
  {
   "cell_type": "code",
   "execution_count": 298,
   "id": "64593167-8ed3-45ec-abb3-5d7b7b1b43b3",
   "metadata": {
    "tags": []
   },
   "outputs": [],
   "source": [
    "# set up device: Aria 2\n",
    "aria2 = AwsDevice(Devices.IonQ.Aria2)"
   ]
  },
  {
   "cell_type": "code",
   "execution_count": 362,
   "id": "7e889e8f-9a9c-44c6-baa3-ccb41a6f26d2",
   "metadata": {
    "tags": []
   },
   "outputs": [
    {
     "name": "stdout",
     "output_type": "stream",
     "text": [
      "Task Id: arn:aws:braket:us-east-1:709381776175:quantum-task/31040d31-ad98-4ed5-84c4-5a6d72faa46e\n",
      "Task Id: arn:aws:braket:us-east-1:709381776175:quantum-task/e627ad83-9f09-4e4d-8491-fae17f023bcc\n",
      "Task Id: arn:aws:braket:us-east-1:709381776175:quantum-task/82097427-8527-485f-b26d-904386a56000\n",
      "Task Id: arn:aws:braket:us-east-1:709381776175:quantum-task/76ac501b-fc2b-4657-b779-6c041bc33065\n",
      "Task Id: arn:aws:braket:us-east-1:709381776175:quantum-task/85d54d60-6bd3-4b06-9be0-b7ef77562265\n",
      "Task Id: arn:aws:braket:us-east-1:709381776175:quantum-task/914fbd1e-9fae-4a73-83b3-5b9b4cc331bb\n"
     ]
    }
   ],
   "source": [
    "task_id_list = run_task(aria2, parameters, isQuantum=True)"
   ]
  },
  {
   "cell_type": "markdown",
   "id": "db595d14-014d-48be-b661-a2759667d36b",
   "metadata": {},
   "source": [
    "<p>ValidationException: An error occurred (ValidationException) when calling the CreateQuantumTask operation: Number of 1qubit gates should be <=950.0, but 30000 specified and number of 2qubit gates should be <=650.0, but 10000 specified for the device arn:aws:braket:us-east-1::device/qpu/ionq/Aria-2</p>"
   ]
  },
  {
   "cell_type": "markdown",
   "id": "76a4c708-bfff-4a22-a330-531c2a23f234",
   "metadata": {},
   "source": [
    "<h1>Check if the quantum task is completed and get results</h1>"
   ]
  },
  {
   "cell_type": "code",
   "execution_count": 375,
   "id": "df0bcb18-fffc-4e03-b854-0db5142ae2ef",
   "metadata": {
    "tags": []
   },
   "outputs": [
    {
     "name": "stdout",
     "output_type": "stream",
     "text": [
      "Status of (reconstructed) quantum task: COMPLETED\n",
      "Measurement counts: {'0': 2101, '1': 399}\n",
      "Expected value: 0.6808\n",
      "Status of (reconstructed) quantum task: COMPLETED\n",
      "Measurement counts: {'0': 2024, '1': 476}\n",
      "Expected value: 0.6192\n",
      "Status of (reconstructed) quantum task: COMPLETED\n",
      "Measurement counts: {'0': 2080, '1': 420}\n",
      "Expected value: 0.664\n",
      "Status of (reconstructed) quantum task: COMPLETED\n",
      "Measurement counts: {'0': 2082, '1': 418}\n",
      "Expected value: 0.6656\n",
      "Status of (reconstructed) quantum task: COMPLETED\n",
      "Measurement counts: {'0': 2079, '1': 421}\n",
      "Expected value: 0.6632\n",
      "Status of (reconstructed) quantum task: COMPLETED\n",
      "Measurement counts: {'0': 2043, '1': 457}\n",
      "Expected value: 0.6344\n"
     ]
    }
   ],
   "source": [
    "resultset_2 = []\n",
    "for task_id in task_id_list:\n",
    "    resultset_2.append((task_id[0],getData(task_id[1])))"
   ]
  },
  {
   "cell_type": "code",
   "execution_count": 376,
   "id": "417bbd00-76e9-4899-9d16-8e74c3527654",
   "metadata": {
    "tags": []
   },
   "outputs": [
    {
     "name": "stdout",
     "output_type": "stream",
     "text": [
      "[(1, 0.6808), (101, 0.6192), (201, 0.664), (301, 0.6656), (401, 0.6632), (501, 0.6344)]\n"
     ]
    }
   ],
   "source": [
    "print(resultset_2)"
   ]
  },
  {
   "cell_type": "code",
   "execution_count": 377,
   "id": "1804119b-7a96-43cc-a8d4-e3a33500e692",
   "metadata": {
    "tags": []
   },
   "outputs": [
    {
     "ename": "SyntaxError",
     "evalue": "invalid syntax (2667560332.py, line 30)",
     "output_type": "error",
     "traceback": [
      "\u001b[0;36m  Cell \u001b[0;32mIn[377], line 30\u001b[0;36m\u001b[0m\n\u001b[0;31m    eturn aria1_results.values[0]\u001b[0m\n\u001b[0m          ^\u001b[0m\n\u001b[0;31mSyntaxError\u001b[0m\u001b[0;31m:\u001b[0m invalid syntax\n"
     ]
    }
   ],
   "source": [
    "def getData(aria1_task_id):\n",
    "    # recover quantum task\n",
    "    task_load = AwsQuantumTask(arn=aria1_task_id)\n",
    "\n",
    "    # print status\n",
    "    status = task_load.state()\n",
    "    print('Status of (reconstructed) quantum task:', status)\n",
    "    \n",
    "    # wait for job to complete\n",
    "    # terminal_states = ['COMPLETED', 'FAILED', 'CANCELLED']\n",
    "    if status == 'COMPLETED':\n",
    "        # get results\n",
    "        aria1_results = task_load.result()\n",
    "\n",
    "        # get all metadata of submitted quantum task\n",
    "        metadata = task_load.metadata()\n",
    "        \n",
    "        # example for metadata\n",
    "        shots = metadata['shots']\n",
    "        machine = metadata['deviceArn']\n",
    "        \n",
    "        # print example metadata\n",
    "        # print(\"{} shots taken on machine {}.\\n\".format(shots, machine))\n",
    "\n",
    "        # get measurement counts\n",
    "        aria1_counts = dict(sorted(aria1_results.measurement_counts.items()))\n",
    "        print('Measurement counts:', aria1_counts)\n",
    "        print('Expected value:', aria1_results.values[0])\n",
    "        \n",
    "        eturn aria1_results.values[0]\n",
    "\n",
    "    elif status in ['FAILED', 'CANCELLED']:\n",
    "        # print terminal message \n",
    "        print('Your quantum task is in terminal status, but has not completed.')\n",
    "        return 0\n",
    "    else:\n",
    "        # print current status\n",
    "        print('Sorry, your quantum task is still being processed and has not been finalized yet.')\n",
    "        return 0"
   ]
  },
  {
   "cell_type": "markdown",
   "id": "4517f256-35a0-4c46-974a-565acc848a58",
   "metadata": {},
   "source": [
    "<h1>Comparing Results</h1>"
   ]
  },
  {
   "cell_type": "code",
   "execution_count": 358,
   "id": "209e7a54-7a9b-4be5-8ef6-bb548ad79479",
   "metadata": {
    "tags": []
   },
   "outputs": [
    {
     "data": {
      "image/png": "[encoded data removed]",
      "text/plain": [
       "<Figure size 640x480 with 1 Axes>"
      ]
     },
     "metadata": {},
     "output_type": "display_data"
    }
   ],
   "source": [
    "import matplotlib.pyplot as plt\n",
    "import numpy as np\n",
    "\n",
    "plt.plot(resultset_1, 'g', resultset_2, 'r')\n",
    "plt.show()"
   ]
  }
 ],
 "metadata": {
  "kernelspec": {
   "display_name": "conda_braket",
   "language": "python",
   "name": "conda_braket"
  },
  "language_info": {
   "codemirror_mode": {
    "name": "ipython",
    "version": 3
   },
   "file_extension": ".py",
   "mimetype": "text/x-python",
   "name": "python",
   "nbconvert_exporter": "python",
   "pygments_lexer": "ipython3",
   "version": "3.10.14"
  }
 },
 "nbformat": 4,
 "nbformat_minor": 5
}
