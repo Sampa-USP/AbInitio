{
 "cells": [
  {
   "cell_type": "markdown",
   "metadata": {},
   "source": [
    "# Bibliotecas\n"
   ]
  },
  {
   "cell_type": "markdown",
   "metadata": {},
   "source": [
    " Importando módulos importantes"
   ]
  },
  {
   "cell_type": "code",
   "execution_count": 2,
   "metadata": {},
   "outputs": [],
   "source": [
    "#Python Default \n",
    "\n",
    "import warnings\n",
    "\n",
    "warnings.filterwarnings('ignore', category=DeprecationWarning)\n",
    "\n",
    "import pickle\n",
    "import time\n",
    "import random\n",
    "\n",
    "#Essentials\n",
    "\n",
    "import numpy as np\n",
    "from bs4 import BeautifulSoup\n",
    "import requests\n",
    "#import func_timeout\n",
    "import pandas as pd\n",
    "#from itables import show\n",
    "from scipy.optimize import curve_fit\n",
    "\n",
    "#from objproxies import *\n",
    "\n",
    "import matplotlib.pyplot as plt\n",
    "\n",
    "from scipy.optimize import curve_fit\n",
    "\n",
    "#Qiskit\n",
    "\n",
    "from qiskit.circuit import Gate\n",
    "from qiskit.circuit.library import *\n",
    "from qiskit import transpile\n",
    "from qiskit.providers.models import *\n",
    "#from qiskit_     import *\n",
    "from qiskit.providers.fake_provider import *\n",
    "from qiskit.quantum_info import Statevector\n",
    "from qiskit import QuantumCircuit\n",
    "from qiskit_aer import StatevectorSimulator\n",
    "import qiskit_aer\n",
    "\n",
    "## Qiskit Nature\n",
    "    \n",
    "from qiskit_nature.units import *   #ANGSTROM\n",
    "\n",
    "from qiskit_nature.second_q.drivers import *    #PySCFDriver\n",
    "\n",
    "from qiskit_nature.second_q.mappers import * #JordanWignerMapper\n",
    "\n",
    "from qiskit_nature.second_q.algorithms import GroundStateEigensolver\n",
    "\n",
    "from qiskit_nature.second_q.problems import ElectronicStructureProblem\n",
    "from qiskit_nature.second_q.problems import EigenstateResult\n",
    "\n",
    "from qiskit_nature.second_q.circuit.library import *  #Ansatz, HF\n",
    "\n",
    "\n",
    "## Qiskit Algorithms\n",
    "    \n",
    "from qiskit_algorithms.minimum_eigensolvers import VQE \n",
    " \n",
    "from qiskit_algorithms.optimizers import *    #SLSQP\n",
    "\n",
    "from qiskit_algorithms.optimizers import L_BFGS_B\n",
    "\n",
    "from qiskit.circuit.library import EfficientSU2   #EfficientSU2\n",
    "\n",
    "## Qiskit Estimators\n",
    "\n",
    "from qiskit.primitives import Estimator as Estimator_Nature\n",
    "\n",
    "from qiskit_aer.primitives.estimator import Estimator as Estimator_Aer\n",
    "\n",
    "#from qiskit_ibm_runtime import Estimator \n",
    "\n",
    "from qiskit_ibm_runtime import EstimatorV2 as Estimator\n",
    "\n",
    "## Qiskit Noise Models\n",
    "\n",
    "from qiskit_aer.noise import NoiseModel\n",
    "\n",
    "from qiskit.providers.fake_provider import *\n",
    "\n",
    "##Qiskit Runtime IBM\n",
    "\n",
    "from qiskit_ibm_runtime import QiskitRuntimeService, Session, Options\n",
    "\n",
    "## Braket\n",
    "\n",
    "from braket.tracking import Tracker\n",
    "from qiskit_braket_provider import *\n",
    "\n",
    "\n",
    "%matplotlib widget\n",
    "#%matplotlib inline"
   ]
  },
  {
   "cell_type": "code",
   "execution_count": 4,
   "metadata": {},
   "outputs": [],
   "source": [
    "#IBMQ.save_account('YOUR API KEY', overwrite=True)"
   ]
  },
  {
   "cell_type": "markdown",
   "metadata": {},
   "source": [
    "# Importando Backends - Dos computadores Quânticos"
   ]
  },
  {
   "cell_type": "markdown",
   "metadata": {},
   "source": [
    "Backends são informações de Computadores Quânticos reais que nos ajudam na modelagem do noise"
   ]
  },
  {
   "cell_type": "code",
   "execution_count": 5,
   "metadata": {},
   "outputs": [
    {
     "name": "stdout",
     "output_type": "stream",
     "text": [
      "BraketBackend[Aria 1]\n",
      "BraketBackend[Aria 2]\n",
      "BraketBackend[Aspen-M-3]\n",
      "BraketBackend[Forte 1]\n",
      "BraketBackend[Garnet]\n",
      "BraketBackend[Harmony]\n"
     ]
    }
   ],
   "source": [
    "#Consulta os backends disponiveis para sua conta da AWSbraket\n",
    "provider = BraketProvider()\n",
    "available_cloud_backends = provider.backends() \n",
    "for i in available_cloud_backends: print(i)"
   ]
  },
  {
   "cell_type": "code",
   "execution_count": 6,
   "metadata": {},
   "outputs": [],
   "source": [
    "provider = BraketProvider()\n",
    "local_simulator = BraketLocalBackend()\n",
    "#sv1 = provider.get_backend(\"SV1\")\n",
    "aria = provider.get_backend(\"Aria 1\")\n",
    "#harmony = provider.get_backend(\"Harmony\")\n",
    "statevector_simulator = StatevectorSimulator()"
   ]
  },
  {
   "cell_type": "code",
   "execution_count": 7,
   "metadata": {},
   "outputs": [
    {
     "name": "stdout",
     "output_type": "stream",
     "text": [
      "BraketBackend[default]\n"
     ]
    }
   ],
   "source": [
    "print(local_simulator)"
   ]
  },
  {
   "cell_type": "markdown",
   "metadata": {},
   "source": [
    "# Criando nosso problema de cálculo energético para molécula de hidrogênio - VQE"
   ]
  },
  {
   "cell_type": "code",
   "execution_count": 8,
   "metadata": {},
   "outputs": [],
   "source": [
    "\n",
    "#Definindo estimator - backend da braket e Mapper Jordan Wigner\n",
    "    \n",
    "#from qiskit.primitives import Estimator\n",
    "\n",
    "estimator = Estimator_Nature()\n",
    "\n",
    "mapper = JordanWignerMapper()\n",
    "\n",
    "optimizer = L_BFGS_B()\n",
    "\n",
    "\n",
    "\n",
    "driver = PySCFDriver(\n",
    "    atom= f\"H 0 0 0; H 0 0 0.7\",\n",
    "    basis=\"sto3g\",\n",
    "    charge=0,\n",
    "    spin=0,\n",
    "    unit=DistanceUnit.ANGSTROM,\n",
    ")\n",
    "\n",
    "hproblem = driver.run()\n",
    "#print(es_problem)\n",
    "\n",
    "\n",
    "\n",
    "ansatz = UCCSD(\n",
    "    hproblem.num_spatial_orbitals,\n",
    "    hproblem.num_particles,\n",
    "    mapper,\n",
    "    initial_state=HartreeFock(\n",
    "        hproblem.num_spatial_orbitals,\n",
    "        hproblem.num_particles,\n",
    "        mapper,\n",
    "    ),\n",
    ")\n",
    "\n",
    "vqe = VQE(estimator, ansatz, optimizer)\n",
    "\n",
    "vqe.initial_point = [0] * ansatz.num_parameters\n",
    "\n",
    "calc = GroundStateEigensolver(mapper, vqe)\n",
    "\n",
    "electronic_structure_result = calc.solve(hproblem)\n",
    "\n",
    "minimum_eigenvalue = vqe.compute_minimum_eigenvalue(calc.get_qubit_operators(hproblem)[0])"
   ]
  },
  {
   "cell_type": "markdown",
   "metadata": {},
   "source": [
    "Estou encontrando erro ao utilizar o EstimatorV2, então vou usar o Estimator_Nature por enquanto"
   ]
  },
  {
   "cell_type": "markdown",
   "metadata": {},
   "source": [
    "# Criando Circuito baseado no Aria 1 - Amazon "
   ]
  },
  {
   "cell_type": "code",
   "execution_count": 9,
   "metadata": {},
   "outputs": [],
   "source": [
    "circuito = transpile(minimum_eigenvalue.optimal_circuit.decompose().assign_parameters(minimum_eigenvalue.optimal_parameters), aria)\n"
   ]
  },
  {
   "cell_type": "markdown",
   "metadata": {},
   "source": [
    "# Criando Circuito Baseado no Brisbane - IBM"
   ]
  },
  {
   "cell_type": "code",
   "execution_count": 14,
   "metadata": {},
   "outputs": [
    {
     "ename": "ImportError",
     "evalue": "cannot import name 'IBMQ' from 'qiskit' (/home/angelina/miniconda/envs/braket/lib/python3.12/site-packages/qiskit/__init__.py)",
     "output_type": "error",
     "traceback": [
      "\u001b[0;31m---------------------------------------------------------------------------\u001b[0m",
      "\u001b[0;31mImportError\u001b[0m                               Traceback (most recent call last)",
      "Cell \u001b[0;32mIn[14], line 1\u001b[0m\n\u001b[0;32m----> 1\u001b[0m \u001b[38;5;28;01mfrom\u001b[39;00m \u001b[38;5;21;01mqiskit\u001b[39;00m \u001b[38;5;28;01mimport\u001b[39;00m IBMQ\n",
      "\u001b[0;31mImportError\u001b[0m: cannot import name 'IBMQ' from 'qiskit' (/home/angelina/miniconda/envs/braket/lib/python3.12/site-packages/qiskit/__init__.py)"
     ]
    }
   ],
   "source": [
    "from qiskit import IBMQ"
   ]
  },
  {
   "cell_type": "code",
   "execution_count": 13,
   "metadata": {},
   "outputs": [
    {
     "ename": "IBMNotAuthorizedError",
     "evalue": "'401 Client Error: Unauthorized for url: https://auth.quantum-computing.ibm.com/api/users/loginWithToken. Login failed., Error code: 3446.'",
     "output_type": "error",
     "traceback": [
      "\u001b[0;31m---------------------------------------------------------------------------\u001b[0m",
      "\u001b[0;31mHTTPError\u001b[0m                                 Traceback (most recent call last)",
      "File \u001b[0;32m~/miniconda/envs/braket/lib/python3.12/site-packages/qiskit_ibm_runtime/api/session.py:347\u001b[0m, in \u001b[0;36mRetrySession.request\u001b[0;34m(self, method, url, bare, **kwargs)\u001b[0m\n\u001b[1;32m    346\u001b[0m     response \u001b[38;5;241m=\u001b[39m \u001b[38;5;28msuper\u001b[39m()\u001b[38;5;241m.\u001b[39mrequest(method, final_url, headers\u001b[38;5;241m=\u001b[39mheaders, \u001b[38;5;241m*\u001b[39m\u001b[38;5;241m*\u001b[39mkwargs)\n\u001b[0;32m--> 347\u001b[0m     \u001b[43mresponse\u001b[49m\u001b[38;5;241;43m.\u001b[39;49m\u001b[43mraise_for_status\u001b[49m\u001b[43m(\u001b[49m\u001b[43m)\u001b[49m\n\u001b[1;32m    348\u001b[0m \u001b[38;5;28;01mexcept\u001b[39;00m RequestException \u001b[38;5;28;01mas\u001b[39;00m ex:\n\u001b[1;32m    349\u001b[0m     \u001b[38;5;66;03m# Wrap the requests exceptions into a IBM Q custom one, for\u001b[39;00m\n\u001b[1;32m    350\u001b[0m     \u001b[38;5;66;03m# compatibility.\u001b[39;00m\n",
      "File \u001b[0;32m~/miniconda/envs/braket/lib/python3.12/site-packages/requests/models.py:1024\u001b[0m, in \u001b[0;36mResponse.raise_for_status\u001b[0;34m(self)\u001b[0m\n\u001b[1;32m   1023\u001b[0m \u001b[38;5;28;01mif\u001b[39;00m http_error_msg:\n\u001b[0;32m-> 1024\u001b[0m     \u001b[38;5;28;01mraise\u001b[39;00m HTTPError(http_error_msg, response\u001b[38;5;241m=\u001b[39m\u001b[38;5;28mself\u001b[39m)\n",
      "\u001b[0;31mHTTPError\u001b[0m: 401 Client Error: Unauthorized for url: https://auth.quantum-computing.ibm.com/api/users/loginWithToken",
      "\nThe above exception was the direct cause of the following exception:\n",
      "\u001b[0;31mIBMNotAuthorizedError\u001b[0m                     Traceback (most recent call last)",
      "Cell \u001b[0;32mIn[13], line 1\u001b[0m\n\u001b[0;32m----> 1\u001b[0m service \u001b[38;5;241m=\u001b[39m \u001b[43mQiskitRuntimeService\u001b[49m\u001b[43m(\u001b[49m\u001b[43m)\u001b[49m\n\u001b[1;32m      2\u001b[0m backend \u001b[38;5;241m=\u001b[39m service\u001b[38;5;241m.\u001b[39mbackend(\u001b[38;5;124m\"\u001b[39m\u001b[38;5;124mibm_brisbane\u001b[39m\u001b[38;5;124m\"\u001b[39m)\n\u001b[1;32m      3\u001b[0m noise_model \u001b[38;5;241m=\u001b[39m NoiseModel\u001b[38;5;241m.\u001b[39mfrom_backend(backend)\n",
      "File \u001b[0;32m~/miniconda/envs/braket/lib/python3.12/site-packages/qiskit_ibm_runtime/qiskit_runtime_service.py:158\u001b[0m, in \u001b[0;36mQiskitRuntimeService.__init__\u001b[0;34m(self, channel, token, url, filename, name, instance, proxies, verify, channel_strategy)\u001b[0m\n\u001b[1;32m    156\u001b[0m     \u001b[38;5;28;01mreturn\u001b[39;00m\n\u001b[1;32m    157\u001b[0m \u001b[38;5;28;01melse\u001b[39;00m:\n\u001b[0;32m--> 158\u001b[0m     auth_client \u001b[38;5;241m=\u001b[39m \u001b[38;5;28;43mself\u001b[39;49m\u001b[38;5;241;43m.\u001b[39;49m\u001b[43m_authenticate_ibm_quantum_account\u001b[49m\u001b[43m(\u001b[49m\u001b[38;5;28;43mself\u001b[39;49m\u001b[38;5;241;43m.\u001b[39;49m\u001b[43m_client_params\u001b[49m\u001b[43m)\u001b[49m\n\u001b[1;32m    159\u001b[0m     \u001b[38;5;66;03m# Update client parameters to use authenticated values.\u001b[39;00m\n\u001b[1;32m    160\u001b[0m     \u001b[38;5;28mself\u001b[39m\u001b[38;5;241m.\u001b[39m_client_params\u001b[38;5;241m.\u001b[39murl \u001b[38;5;241m=\u001b[39m auth_client\u001b[38;5;241m.\u001b[39mcurrent_service_urls()[\u001b[38;5;124m\"\u001b[39m\u001b[38;5;124mservices\u001b[39m\u001b[38;5;124m\"\u001b[39m][\u001b[38;5;124m\"\u001b[39m\u001b[38;5;124mruntime\u001b[39m\u001b[38;5;124m\"\u001b[39m]\n",
      "File \u001b[0;32m~/miniconda/envs/braket/lib/python3.12/site-packages/qiskit_ibm_runtime/qiskit_runtime_service.py:334\u001b[0m, in \u001b[0;36mQiskitRuntimeService._authenticate_ibm_quantum_account\u001b[0;34m(self, client_params)\u001b[0m\n\u001b[1;32m    327\u001b[0m \u001b[38;5;28;01mif\u001b[39;00m \u001b[38;5;129;01mnot\u001b[39;00m version_info[\u001b[38;5;124m\"\u001b[39m\u001b[38;5;124mnew_api\u001b[39m\u001b[38;5;124m\"\u001b[39m] \u001b[38;5;129;01mor\u001b[39;00m \u001b[38;5;124m\"\u001b[39m\u001b[38;5;124mapi-auth\u001b[39m\u001b[38;5;124m\"\u001b[39m \u001b[38;5;129;01mnot\u001b[39;00m \u001b[38;5;129;01min\u001b[39;00m version_info:\n\u001b[1;32m    328\u001b[0m     \u001b[38;5;28;01mraise\u001b[39;00m IBMInputValueError(\n\u001b[1;32m    329\u001b[0m         \u001b[38;5;124m\"\u001b[39m\u001b[38;5;124mThe URL specified (\u001b[39m\u001b[38;5;132;01m{}\u001b[39;00m\u001b[38;5;124m) is not an IBM Quantum authentication URL. \u001b[39m\u001b[38;5;124m\"\u001b[39m\n\u001b[1;32m    330\u001b[0m         \u001b[38;5;124m\"\u001b[39m\u001b[38;5;124mValid authentication URL: \u001b[39m\u001b[38;5;132;01m{}\u001b[39;00m\u001b[38;5;124m.\u001b[39m\u001b[38;5;124m\"\u001b[39m\u001b[38;5;241m.\u001b[39mformat(\n\u001b[1;32m    331\u001b[0m             client_params\u001b[38;5;241m.\u001b[39murl, QISKIT_IBM_RUNTIME_API_URL\n\u001b[1;32m    332\u001b[0m         )\n\u001b[1;32m    333\u001b[0m     )\n\u001b[0;32m--> 334\u001b[0m auth_client \u001b[38;5;241m=\u001b[39m \u001b[43mAuthClient\u001b[49m\u001b[43m(\u001b[49m\u001b[43mclient_params\u001b[49m\u001b[43m)\u001b[49m\n\u001b[1;32m    335\u001b[0m service_urls \u001b[38;5;241m=\u001b[39m auth_client\u001b[38;5;241m.\u001b[39mcurrent_service_urls()\n\u001b[1;32m    336\u001b[0m \u001b[38;5;28;01mif\u001b[39;00m \u001b[38;5;129;01mnot\u001b[39;00m service_urls\u001b[38;5;241m.\u001b[39mget(\u001b[38;5;124m\"\u001b[39m\u001b[38;5;124mservices\u001b[39m\u001b[38;5;124m\"\u001b[39m, {})\u001b[38;5;241m.\u001b[39mget(SERVICE_NAME):\n",
      "File \u001b[0;32m~/miniconda/envs/braket/lib/python3.12/site-packages/qiskit_ibm_runtime/api/clients/auth.py:39\u001b[0m, in \u001b[0;36mAuthClient.__init__\u001b[0;34m(self, client_params)\u001b[0m\n\u001b[1;32m     36\u001b[0m \u001b[38;5;28mself\u001b[39m\u001b[38;5;241m.\u001b[39m_service_urls \u001b[38;5;241m=\u001b[39m {}  \u001b[38;5;66;03m# type: ignore[var-annotated]\u001b[39;00m\n\u001b[1;32m     38\u001b[0m \u001b[38;5;28mself\u001b[39m\u001b[38;5;241m.\u001b[39mauth_api \u001b[38;5;241m=\u001b[39m Api(RetrySession(\u001b[38;5;28mself\u001b[39m\u001b[38;5;241m.\u001b[39mauth_url, \u001b[38;5;241m*\u001b[39m\u001b[38;5;241m*\u001b[39mclient_params\u001b[38;5;241m.\u001b[39mconnection_parameters()))\n\u001b[0;32m---> 39\u001b[0m \u001b[38;5;28mself\u001b[39m\u001b[38;5;241m.\u001b[39mbase_api \u001b[38;5;241m=\u001b[39m \u001b[38;5;28;43mself\u001b[39;49m\u001b[38;5;241;43m.\u001b[39;49m\u001b[43m_init_service_clients\u001b[49m\u001b[43m(\u001b[49m\u001b[38;5;241;43m*\u001b[39;49m\u001b[38;5;241;43m*\u001b[39;49m\u001b[43mclient_params\u001b[49m\u001b[38;5;241;43m.\u001b[39;49m\u001b[43mconnection_parameters\u001b[49m\u001b[43m(\u001b[49m\u001b[43m)\u001b[49m\u001b[43m)\u001b[49m\n",
      "File \u001b[0;32m~/miniconda/envs/braket/lib/python3.12/site-packages/qiskit_ibm_runtime/api/clients/auth.py:51\u001b[0m, in \u001b[0;36mAuthClient._init_service_clients\u001b[0;34m(self, **request_kwargs)\u001b[0m\n\u001b[1;32m     42\u001b[0m \u001b[38;5;250m\u001b[39m\u001b[38;5;124;03m\"\"\"Initialize the clients used for communicating with the API.\u001b[39;00m\n\u001b[1;32m     43\u001b[0m \n\u001b[1;32m     44\u001b[0m \u001b[38;5;124;03mArgs:\u001b[39;00m\n\u001b[0;32m   (...)\u001b[0m\n\u001b[1;32m     48\u001b[0m \u001b[38;5;124;03m    Client for the API server.\u001b[39;00m\n\u001b[1;32m     49\u001b[0m \u001b[38;5;124;03m\"\"\"\u001b[39;00m\n\u001b[1;32m     50\u001b[0m \u001b[38;5;66;03m# Request an access token.\u001b[39;00m\n\u001b[0;32m---> 51\u001b[0m \u001b[38;5;28mself\u001b[39m\u001b[38;5;241m.\u001b[39maccess_token \u001b[38;5;241m=\u001b[39m \u001b[38;5;28;43mself\u001b[39;49m\u001b[38;5;241;43m.\u001b[39;49m\u001b[43m_request_access_token\u001b[49m\u001b[43m(\u001b[49m\u001b[43m)\u001b[49m\n\u001b[1;32m     52\u001b[0m \u001b[38;5;28mself\u001b[39m\u001b[38;5;241m.\u001b[39mauth_api\u001b[38;5;241m.\u001b[39msession\u001b[38;5;241m.\u001b[39mauth \u001b[38;5;241m=\u001b[39m QuantumAuth(access_token\u001b[38;5;241m=\u001b[39m\u001b[38;5;28mself\u001b[39m\u001b[38;5;241m.\u001b[39maccess_token)\n\u001b[1;32m     53\u001b[0m \u001b[38;5;28mself\u001b[39m\u001b[38;5;241m.\u001b[39m_service_urls \u001b[38;5;241m=\u001b[39m \u001b[38;5;28mself\u001b[39m\u001b[38;5;241m.\u001b[39muser_urls()\n",
      "File \u001b[0;32m~/miniconda/envs/braket/lib/python3.12/site-packages/qiskit_ibm_runtime/api/clients/auth.py:77\u001b[0m, in \u001b[0;36mAuthClient._request_access_token\u001b[0;34m(self)\u001b[0m\n\u001b[1;32m     67\u001b[0m \u001b[38;5;250m\u001b[39m\u001b[38;5;124;03m\"\"\"Request a new access token from the API authentication service.\u001b[39;00m\n\u001b[1;32m     68\u001b[0m \n\u001b[1;32m     69\u001b[0m \u001b[38;5;124;03mReturns:\u001b[39;00m\n\u001b[0;32m   (...)\u001b[0m\n\u001b[1;32m     74\u001b[0m \u001b[38;5;124;03m    RequestsApiError: If the request failed.\u001b[39;00m\n\u001b[1;32m     75\u001b[0m \u001b[38;5;124;03m\"\"\"\u001b[39;00m\n\u001b[1;32m     76\u001b[0m \u001b[38;5;28;01mtry\u001b[39;00m:\n\u001b[0;32m---> 77\u001b[0m     response \u001b[38;5;241m=\u001b[39m \u001b[38;5;28;43mself\u001b[39;49m\u001b[38;5;241;43m.\u001b[39;49m\u001b[43mauth_api\u001b[49m\u001b[38;5;241;43m.\u001b[39;49m\u001b[43mlogin\u001b[49m\u001b[43m(\u001b[49m\u001b[38;5;28;43mself\u001b[39;49m\u001b[38;5;241;43m.\u001b[39;49m\u001b[43mapi_token\u001b[49m\u001b[43m)\u001b[49m\n\u001b[1;32m     78\u001b[0m     \u001b[38;5;28;01mreturn\u001b[39;00m response[\u001b[38;5;124m\"\u001b[39m\u001b[38;5;124mid\u001b[39m\u001b[38;5;124m\"\u001b[39m]\n\u001b[1;32m     79\u001b[0m \u001b[38;5;28;01mexcept\u001b[39;00m RequestsApiError \u001b[38;5;28;01mas\u001b[39;00m ex:\n\u001b[1;32m     80\u001b[0m     \u001b[38;5;66;03m# Get the original exception that raised.\u001b[39;00m\n",
      "File \u001b[0;32m~/miniconda/envs/braket/lib/python3.12/site-packages/qiskit_ibm_runtime/api/rest/root.py:92\u001b[0m, in \u001b[0;36mApi.login\u001b[0;34m(self, api_token)\u001b[0m\n\u001b[1;32m     83\u001b[0m \u001b[38;5;250m\u001b[39m\u001b[38;5;124;03m\"\"\"Login with token.\u001b[39;00m\n\u001b[1;32m     84\u001b[0m \n\u001b[1;32m     85\u001b[0m \u001b[38;5;124;03mArgs:\u001b[39;00m\n\u001b[0;32m   (...)\u001b[0m\n\u001b[1;32m     89\u001b[0m \u001b[38;5;124;03m    JSON response.\u001b[39;00m\n\u001b[1;32m     90\u001b[0m \u001b[38;5;124;03m\"\"\"\u001b[39;00m\n\u001b[1;32m     91\u001b[0m url \u001b[38;5;241m=\u001b[39m \u001b[38;5;28mself\u001b[39m\u001b[38;5;241m.\u001b[39mget_url(\u001b[38;5;124m\"\u001b[39m\u001b[38;5;124mlogin\u001b[39m\u001b[38;5;124m\"\u001b[39m)\n\u001b[0;32m---> 92\u001b[0m \u001b[38;5;28;01mreturn\u001b[39;00m \u001b[38;5;28;43mself\u001b[39;49m\u001b[38;5;241;43m.\u001b[39;49m\u001b[43msession\u001b[49m\u001b[38;5;241;43m.\u001b[39;49m\u001b[43mpost\u001b[49m\u001b[43m(\u001b[49m\u001b[43murl\u001b[49m\u001b[43m,\u001b[49m\u001b[43m \u001b[49m\u001b[43mjson\u001b[49m\u001b[38;5;241;43m=\u001b[39;49m\u001b[43m{\u001b[49m\u001b[38;5;124;43m\"\u001b[39;49m\u001b[38;5;124;43mapiToken\u001b[39;49m\u001b[38;5;124;43m\"\u001b[39;49m\u001b[43m:\u001b[49m\u001b[43m \u001b[49m\u001b[43mapi_token\u001b[49m\u001b[43m}\u001b[49m\u001b[43m)\u001b[49m\u001b[38;5;241m.\u001b[39mjson()\n",
      "File \u001b[0;32m~/miniconda/envs/braket/lib/python3.12/site-packages/requests/sessions.py:637\u001b[0m, in \u001b[0;36mSession.post\u001b[0;34m(self, url, data, json, **kwargs)\u001b[0m\n\u001b[1;32m    626\u001b[0m \u001b[38;5;28;01mdef\u001b[39;00m \u001b[38;5;21mpost\u001b[39m(\u001b[38;5;28mself\u001b[39m, url, data\u001b[38;5;241m=\u001b[39m\u001b[38;5;28;01mNone\u001b[39;00m, json\u001b[38;5;241m=\u001b[39m\u001b[38;5;28;01mNone\u001b[39;00m, \u001b[38;5;241m*\u001b[39m\u001b[38;5;241m*\u001b[39mkwargs):\n\u001b[1;32m    627\u001b[0m \u001b[38;5;250m    \u001b[39m\u001b[38;5;124mr\u001b[39m\u001b[38;5;124;03m\"\"\"Sends a POST request. Returns :class:`Response` object.\u001b[39;00m\n\u001b[1;32m    628\u001b[0m \n\u001b[1;32m    629\u001b[0m \u001b[38;5;124;03m    :param url: URL for the new :class:`Request` object.\u001b[39;00m\n\u001b[0;32m   (...)\u001b[0m\n\u001b[1;32m    634\u001b[0m \u001b[38;5;124;03m    :rtype: requests.Response\u001b[39;00m\n\u001b[1;32m    635\u001b[0m \u001b[38;5;124;03m    \"\"\"\u001b[39;00m\n\u001b[0;32m--> 637\u001b[0m     \u001b[38;5;28;01mreturn\u001b[39;00m \u001b[38;5;28;43mself\u001b[39;49m\u001b[38;5;241;43m.\u001b[39;49m\u001b[43mrequest\u001b[49m\u001b[43m(\u001b[49m\u001b[38;5;124;43m\"\u001b[39;49m\u001b[38;5;124;43mPOST\u001b[39;49m\u001b[38;5;124;43m\"\u001b[39;49m\u001b[43m,\u001b[49m\u001b[43m \u001b[49m\u001b[43murl\u001b[49m\u001b[43m,\u001b[49m\u001b[43m \u001b[49m\u001b[43mdata\u001b[49m\u001b[38;5;241;43m=\u001b[39;49m\u001b[43mdata\u001b[49m\u001b[43m,\u001b[49m\u001b[43m \u001b[49m\u001b[43mjson\u001b[49m\u001b[38;5;241;43m=\u001b[39;49m\u001b[43mjson\u001b[49m\u001b[43m,\u001b[49m\u001b[43m \u001b[49m\u001b[38;5;241;43m*\u001b[39;49m\u001b[38;5;241;43m*\u001b[39;49m\u001b[43mkwargs\u001b[49m\u001b[43m)\u001b[49m\n",
      "File \u001b[0;32m~/miniconda/envs/braket/lib/python3.12/site-packages/qiskit_ibm_runtime/api/session.py:368\u001b[0m, in \u001b[0;36mRetrySession.request\u001b[0;34m(self, method, url, bare, **kwargs)\u001b[0m\n\u001b[1;32m    366\u001b[0m             message \u001b[38;5;241m+\u001b[39m\u001b[38;5;241m=\u001b[39m \u001b[38;5;124mf\u001b[39m\u001b[38;5;124m\"\u001b[39m\u001b[38;5;124m. \u001b[39m\u001b[38;5;132;01m{\u001b[39;00mex\u001b[38;5;241m.\u001b[39mresponse\u001b[38;5;241m.\u001b[39mtext\u001b[38;5;132;01m}\u001b[39;00m\u001b[38;5;124m\"\u001b[39m\n\u001b[1;32m    367\u001b[0m     \u001b[38;5;28;01mif\u001b[39;00m status_code \u001b[38;5;241m==\u001b[39m \u001b[38;5;241m401\u001b[39m:\n\u001b[0;32m--> 368\u001b[0m         \u001b[38;5;28;01mraise\u001b[39;00m IBMNotAuthorizedError(message) \u001b[38;5;28;01mfrom\u001b[39;00m \u001b[38;5;21;01mex\u001b[39;00m\n\u001b[1;32m    369\u001b[0m     \u001b[38;5;28;01mraise\u001b[39;00m RequestsApiError(message, status_code) \u001b[38;5;28;01mfrom\u001b[39;00m \u001b[38;5;21;01mex\u001b[39;00m\n\u001b[1;32m    371\u001b[0m \u001b[38;5;28;01mreturn\u001b[39;00m response\n",
      "\u001b[0;31mIBMNotAuthorizedError\u001b[0m: '401 Client Error: Unauthorized for url: https://auth.quantum-computing.ibm.com/api/users/loginWithToken. Login failed., Error code: 3446.'"
     ]
    }
   ],
   "source": [
    "service = QiskitRuntimeService()\n",
    "backend = service.backend(\"ibm_brisbane\")\n",
    "noise_model = NoiseModel.from_backend(backend)\n",
    "\n",
    "circuito_ibm = transpile(minimum_eigenvalue.optimal_circuit.decompose().assign_parameters(minimum_eigenvalue.optimal_parameters), backend)\n",
    "\n",
    "hamiltoniano = hproblem.second_q_ops()[0]\n",
    "\n",
    "num_qubits_hamiltonian = JordanWignerMapper().map(hamiltoniano).num_qubits\n",
    "\n",
    "new_circuit = QuantumCircuit(num_qubits_hamiltonian)\n",
    "\n",
    "for gate in circuito_ibm.data:\n",
    "\n",
    "    if all(circuito_ibm.qubits.index(qubit) < num_qubits_hamiltonian for qubit in gate[1]):\n",
    "        new_circuit.append(gate[0], [circuito_ibm.qubits.index(qubit) for qubit in gate[1]])\n",
    "\n",
    "circuito_ibm = new_circuit"
   ]
  },
  {
   "cell_type": "markdown",
   "metadata": {},
   "source": [
    "# Definindo Funções - Modelos para criação de circuitos distintos na regressão de Clifford"
   ]
  },
  {
   "cell_type": "markdown",
   "metadata": {},
   "source": [
    "Para escrever tais modelos vamos definir algumas funções para estes modelos"
   ]
  },
  {
   "cell_type": "code",
   "execution_count": 10,
   "metadata": {},
   "outputs": [],
   "source": [
    "# O Clifford Gate produz uma rotação no eixo Z no estado quântico do qubit em um ângulo que seja múltiplo de pi/2\n",
    "\n",
    "def clifford_gate():\n",
    "\n",
    "   random_value = random.randint(0, 3)\n",
    "   \n",
    "   return RZGate(random_value*np.pi/2)\n",
    "\n",
    "def cnot_gate(qr):\n",
    "   \n",
    "   control_qubit = random.randint(0, len(qr) - 1)\n",
    "   \n",
    "   target_qubit = random.choice([i for i in range(len(qr)) if i != control_qubit])\n",
    "   \n",
    "   return CXGate(), (control_qubit, target_qubit)\n",
    "\n",
    " \n",
    "def crz_gate():\n",
    "   \n",
    "   random_value = random.randint(0, 3)\n",
    "\n",
    "   crz_gate = CRZGate(random_value * np.pi / 2)\n",
    "\n",
    "   return crz_gate"
   ]
  },
  {
   "cell_type": "markdown",
   "metadata": {},
   "source": [
    "Além disso, podemos definir funções úteis para utilzação dos Simuladores"
   ]
  },
  {
   "cell_type": "code",
   "execution_count": 11,
   "metadata": {},
   "outputs": [],
   "source": [
    "#Aqui estamos rodando nosso VQE classicamente\n",
    "\n",
    "def run_statevector(circuit, driver, mapper = JordanWignerMapper()):\n",
    "   \n",
    "   hamiltoniano = driver.second_q_ops()[0]\n",
    "   \n",
    "   estado = Statevector.from_instruction(circuit)\n",
    "   \n",
    "   expectation_value = estado.expectation_value(mapper.map(hamiltoniano))\n",
    "   \n",
    "   return expectation_value.real\n",
    "\n",
    "#Aqui estamos rodando o estimator que pode ou não ser um estimador quântico - Unitilizando Estimator V2\n",
    "\n",
    "def run_estimator(circuit, driver, backend = None, shots = 2000, noise_model = None, coupling_map = None, mapper = JordanWignerMapper()):\n",
    "   \n",
    "   hamiltoniano = driver.second_q_ops()[0]\n",
    "   \n",
    "   num_qubits_hamiltonian = mapper.map(hamiltoniano).num_qubits\n",
    "   num_qubits_circuit = circuit.num_qubits\n",
    "   \n",
    "   new_circuit = circuit.copy()\n",
    "   \n",
    "   if num_qubits_hamiltonian != num_qubits_circuit:\n",
    "\n",
    "      new_circuit = QuantumCircuit(num_qubits_hamiltonian)\n",
    "\n",
    "      for gate in circuit.data:\n",
    "\n",
    "         if all(circuit.qubits.index(qubit) < num_qubits_hamiltonian for qubit in gate[1]):\n",
    "            new_circuit.append(gate[0], [circuit.qubits.index(qubit) for qubit in gate[1]])\n",
    "   \n",
    "   circuit = new_circuit\n",
    "   \n",
    "   if noise_model is not None:\n",
    "      \n",
    "      estimator = Estimator(backend = backend, options = {\"shots\" : shots, \"noise_model\" : noise_model, \"coupling_map\" : coupling_map})\n",
    "   \n",
    "   else :\n",
    "      \n",
    "      estimator = Estimator(backend = backend, options = {\"shots\" : shots})\n",
    "   \n",
    "   job = estimator.run(circuit, mapper.map(hamiltoniano))\n",
    "   \n",
    "   return job.result().values[0]\n",
    "\n",
    "\n",
    "#Aqui estamos rodando o estimator - Utilizando Estimator Aer\n",
    "\n",
    "def run_estimator_aer(circuit, driver, shots = None, seed = None, mapper = JordanWignerMapper(), skip_transpilation = True):\n",
    "   \n",
    "   hamiltoniano = driver.second_q_ops()[0]\n",
    "   \n",
    "   num_qubits_hamiltonian = mapper.map(hamiltoniano).num_qubits\n",
    "   num_qubits_circuit = circuit.num_qubits\n",
    "   \n",
    "   new_circuit = circuit.copy()\n",
    "   \n",
    "   if num_qubits_hamiltonian != num_qubits_circuit:\n",
    "\n",
    "      new_circuit = QuantumCircuit(num_qubits_hamiltonian)\n",
    "\n",
    "      for gate in circuit.data:\n",
    "\n",
    "         if all(circuit.qubits.index(qubit) < num_qubits_hamiltonian for qubit in gate[1]):\n",
    "            new_circuit.append(gate[0], [circuit.qubits.index(qubit) for qubit in gate[1]])\n",
    "   \n",
    "   circuit = new_circuit\n",
    "\n",
    "   if shots != None:\n",
    "   \n",
    "      if seed is not None:\n",
    "         \n",
    "         estimator = Estimator_Aer(run_options = {\"shots\" : shots, \"seed\" : seed}, skip_transpilation = skip_transpilation)   \n",
    "      \n",
    "      else :\n",
    "         \n",
    "         estimator = Estimator_Aer(run_options = {\"shots\" : shots}, skip_transpilation = skip_transpilation)\n",
    "   \n",
    "   else :\n",
    "\n",
    "      if seed is not None:\n",
    "         \n",
    "         estimator = Estimator_Aer(run_options = {\"shots\" : shots, \"seed\" : seed}, approximation = True, skip_transpilation = skip_transpilation)\n",
    "      \n",
    "      else :\n",
    "         \n",
    "         estimator = Estimator_Aer(run_options = {\"shots\" : shots}, approximation = True, skip_transpilation = skip_transpilation)\n",
    "      \n",
    "   \n",
    "   job = estimator.run(circuit, mapper.map(hamiltoniano))\n",
    "   \n",
    "   return job.result().values[0]\n",
    "\n",
    "\n",
    "#Aqui estamos rodando o estimator com simulação de ruído de uma maquina quântica - Utilizando Estimator Aer Noise\n",
    "\n",
    "\n",
    "def run_estimator_aer_noise(circuit, driver, shots = None, seed = None, mapper = JordanWignerMapper(), skip_transpilation = True, noise_model = None, coupling_map = None):\n",
    "   \n",
    "   hamiltoniano = driver.second_q_ops()[0]\n",
    "   \n",
    "   num_qubits_hamiltonian = mapper.map(hamiltoniano).num_qubits\n",
    "   num_qubits_circuit = circuit.num_qubits\n",
    "   \n",
    "   new_circuit = circuit.copy()\n",
    "   \n",
    "   if num_qubits_hamiltonian != num_qubits_circuit:\n",
    "\n",
    "      new_circuit = QuantumCircuit(num_qubits_hamiltonian)\n",
    "\n",
    "      for gate in circuit.data:\n",
    "\n",
    "         if all(circuit.qubits.index(qubit) < num_qubits_hamiltonian for qubit in gate[1]):\n",
    "            new_circuit.append(gate[0], [circuit.qubits.index(qubit) for qubit in gate[1]])\n",
    "   \n",
    "   circuit = new_circuit\n",
    "   \n",
    "   estimator = Estimator_Aer(backend_options={'noise_model': noise_model}, run_options = {\"shots\" : shots, \"seed\" : seed}, skip_transpilation = skip_transpilation)         \n",
    "   \n",
    "   job = estimator.run(circuit, mapper.map(hamiltoniano))\n",
    "   \n",
    "   return job.result().values[0]\n",
    "\n",
    "ESTIMATORS = {\n",
    "    'statevector': run_statevector,\n",
    "    'estimator': run_estimator,\n",
    "    'estimator_aer': run_estimator_aer,\n",
    "    'estimator_aer_noise': run_estimator_aer_noise,\n",
    "}\n",
    "\n",
    "def check(original_value, target, driver, difference_percentage, estimator_name='statevector', **kwargs):\n",
    "    estimator_function = ESTIMATORS[estimator_name]\n",
    "    target_value = estimator_function(target, driver, **kwargs)\n",
    "    return abs(original_value - target_value) < difference_percentage * abs(original_value), target_value"
   ]
  },
  {
   "cell_type": "markdown",
   "metadata": {},
   "source": [
    "## Modelo 2"
   ]
  },
  {
   "cell_type": "markdown",
   "metadata": {},
   "source": [
    "Tal modelo troca rotações Rz por rotações Rz de Clifford"
   ]
  },
  {
   "cell_type": "code",
   "execution_count": 12,
   "metadata": {},
   "outputs": [],
   "source": [
    "def subs_cg_rz(quantum_circuit, n):\n",
    "    \n",
    "   quantum_circuit = quantum_circuit.copy()\n",
    "\n",
    "   n = int(n * quantum_circuit.size())\n",
    "\n",
    "   if n > quantum_circuit.size() + 1:\n",
    "       \n",
    "       raise ValueError(\"n muito grande.\")\n",
    "\n",
    "   permitted_gates = [\"rz\"]\n",
    "\n",
    "   gates_to_change = random.sample(range(0, quantum_circuit.size()+1), n)\n",
    "\n",
    "   for i, (gate, *qubits) in enumerate(quantum_circuit.data):\n",
    "      \n",
    "      if i in gates_to_change:\n",
    "      \n",
    "         if gate.name in permitted_gates:\n",
    "            \n",
    "            quantum_circuit.data[i] = (clifford_gate(), *qubits)\n",
    "\n",
    "         else:\n",
    "            \n",
    "            new_gate = random.randint(i, len(quantum_circuit.data)-1)\n",
    "            \n",
    "            while quantum_circuit.data[new_gate][0].name not in permitted_gates:\n",
    "                \n",
    "                new_gate = random.randint(i, len(quantum_circuit.data)-1)\n",
    "\n",
    "            quantum_circuit.data[new_gate] = (clifford_gate(), *quantum_circuit.data[new_gate][1:])\n",
    "\n",
    "   return quantum_circuit\n",
    "\n",
    "def modelo_2(original_circuit, number_of_circuits, driver, percentage_of_changed_gates=0.3, difference_percentage=0.5, do_check=True, estimator_name='statevector', **kwargs):\n",
    "    \n",
    "    original_circuit_exp_value = run_statevector(original_circuit, driver)\n",
    "    \n",
    "    while number_of_circuits > 0:\n",
    "        new_circuit = subs_cg_rz(original_circuit, percentage_of_changed_gates)\n",
    "        \n",
    "        if do_check:\n",
    "            check_result, target_value = check(original_circuit_exp_value, new_circuit, driver, difference_percentage, estimator_name=estimator_name, **kwargs)\n",
    "            if check_result:\n",
    "                number_of_circuits -= 1\n",
    "                yield new_circuit, target_value\n",
    "        else:\n",
    "            number_of_circuits -= 1\n",
    "            yield new_circuit\n",
    "        \n"
   ]
  },
  {
   "cell_type": "markdown",
   "metadata": {},
   "source": [
    "# Rodando Modelo 2"
   ]
  },
  {
   "cell_type": "code",
   "execution_count": null,
   "metadata": {},
   "outputs": [],
   "source": [
    "modelo = modelo_2(circuito_ibm, 100, es_problem, percentage_of_changed_gates = 0.3, difference_percentage = 0.3, do_check=True, estimator_name = \"estimator_aer\", shots = None, seed = 1)\n",
    "\n",
    "circuitos_similares_ibm = []\n",
    "\n",
    "time_total, start_time = time.time(), time.time()\n",
    "\n",
    "for index, i in enumerate(modelo):\n",
    "\n",
    "    end_time = time.time() - start_time\n",
    "\n",
    "    circuitos_similares_ibm.append(i)\n",
    "    print(f\"Iteração {index}: {end_time}s\")\n",
    "\n",
    "    start_time = time.time()\n",
    "    \n",
    "print(f\"Tempo total: {time.time() - time_total}\")"
   ]
  }
 ],
 "metadata": {
  "kernelspec": {
   "display_name": "Python 3",
   "language": "python",
   "name": "python3"
  },
  "language_info": {
   "codemirror_mode": {
    "name": "ipython",
    "version": 3
   },
   "file_extension": ".py",
   "mimetype": "text/x-python",
   "name": "python",
   "nbconvert_exporter": "python",
   "pygments_lexer": "ipython3",
   "version": "3.12.1"
  }
 },
 "nbformat": 4,
 "nbformat_minor": 2
}
