{
 "cells": [
  {
   "cell_type": "code",
   "execution_count": 3,
   "metadata": {},
   "outputs": [],
   "source": [
    "from qiskit_nature.units import *   #ANGSTROM\n",
    "from qiskit_nature.second_q.drivers import *    #PySCFDriver\n",
    "from qiskit_nature.second_q.mappers import * #JordanWignerMapper\n",
    "from qiskit_nature.second_q.algorithms import GroundStateEigensolver\n",
    "from qiskit_nature.second_q.problems import ElectronicStructureProblem\n",
    "from qiskit_nature.second_q.problems import EigenstateResult\n",
    "from qiskit_nature.second_q.circuit.library import *  #Ansatz, HF\n",
    "#from qiskit_ibm_runtime import QiskitRuntimeService, Session, Estimator, Options\n",
    "from qiskit_algorithms.optimizers import * \n",
    "from qiskit_algorithms import VQE\n",
    "from braket.tracking import Tracker\n",
    "from qiskit_braket_provider import *\n",
    "from qiskit_aer import StatevectorSimulator\n",
    "from qiskit.primitives import Estimator\n",
    "from qiskit_nature.second_q.transformers import ActiveSpaceTransformer\n",
    "from qiskit_algorithms import AdaptVQE\n",
    "\n",
    "import numpy as np\n",
    "import matplotlib.pyplot as plt"
   ]
  },
  {
   "cell_type": "code",
   "execution_count": 25,
   "metadata": {},
   "outputs": [],
   "source": [
    "def co2_molecula(z,y):\n",
    "    driver = PySCFDriver(atom=f\"O 0 {y} -{z}; C 0 0 0; O 0 {y} {z}\", basis=\"sto-6g\")\n",
    "    estrutura_inicial = driver.run() \n",
    "\n",
    "    espaco_target_minimal = ActiveSpaceTransformer(4,4) \n",
    "    estrutura_minimal = espaco_target_minimal.transform(estrutura_inicial)\n",
    "    mapa_minimal = estrutura_minimal.get_tapered_mapper(BravyiKitaevMapper())\n",
    "\n",
    "    ansatz = UCCSD(\n",
    "    estrutura_minimal.num_spatial_orbitals,\n",
    "    estrutura_minimal.num_particles,\n",
    "    mapa_minimal,\n",
    "    initial_state=HartreeFock(\n",
    "        estrutura_minimal.num_spatial_orbitals,\n",
    "        estrutura_minimal.num_particles,\n",
    "        mapa_minimal))\n",
    "\n",
    "\n",
    "    vqe_solver = VQE(Estimator(), ansatz, SLSQP())\n",
    "    vqe_solver.initial_point = [0.0] * ansatz.num_parameters\n",
    "\n",
    "\n",
    "    calculo = GroundStateEigensolver(mapa_minimal, vqe_solver)\n",
    "    resultado = calculo.solve(estrutura_minimal)\n",
    "    return resultado"
   ]
  },
  {
   "cell_type": "code",
   "execution_count": 16,
   "metadata": {},
   "outputs": [],
   "source": [
    "r = np.arange(1.10,1.21,0.01)\n",
    "theta = np.arange(np.pi/4, np.pi/2 + np.pi/40, np.pi/40 )"
   ]
  },
  {
   "cell_type": "code",
   "execution_count": 26,
   "metadata": {},
   "outputs": [],
   "source": [
    "par = [[r,o] for r in r for o in theta]\n",
    "\n",
    "#info = [z,y,resultado]\n",
    "info = [[a[0]*np.sin(a[1]),a[0]*np.cos(a[1]), co2_molecula(a[0]*np.sin(a[1]), a[0]*np.cos(a[1]))] for a in par]        "
   ]
  },
  {
   "cell_type": "code",
   "execution_count": 43,
   "metadata": {},
   "outputs": [],
   "source": [
    "energia = []\n",
    "\n",
    "for i in range(len(info)):\n",
    "    energia.append([par[i][0],par[i][1],info[i][2].total_energies[0]])"
   ]
  },
  {
   "cell_type": "code",
   "execution_count": 60,
   "metadata": {},
   "outputs": [],
   "source": [
    "raio = [energia[i][0] for i in range(len(energia))]\n",
    "ang = [energia[i][1] for i in range(len(energia))]\n",
    "energ = [energia[i][2] for i in range(len(energia))]\n",
    "z = [info[i][0] for i in range(len(info))]\n",
    "y = [info[i][1] for i in range(len(info))]"
   ]
  },
  {
   "cell_type": "code",
   "execution_count": 61,
   "metadata": {},
   "outputs": [],
   "source": [
    "import pandas as pd\n",
    "\n",
    "data = {'raio': raio,\n",
    "        'angulo': ang,\n",
    "        'coord_z': z,\n",
    "        'coord_y': y,\n",
    "        'energia': energ}\n",
    "\n",
    "df = pd.DataFrame(data)\n",
    "df.to_csv('PES do CO2.csv', index=False)"
   ]
  },
  {
   "cell_type": "code",
   "execution_count": null,
   "metadata": {},
   "outputs": [],
   "source": []
  }
 ],
 "metadata": {
  "kernelspec": {
   "display_name": "Python 3",
   "language": "python",
   "name": "python3"
  },
  "language_info": {
   "codemirror_mode": {
    "name": "ipython",
    "version": 3
   },
   "file_extension": ".py",
   "mimetype": "text/x-python",
   "name": "python",
   "nbconvert_exporter": "python",
   "pygments_lexer": "ipython3",
   "version": "3.10.12"
  }
 },
 "nbformat": 4,
 "nbformat_minor": 2
}
