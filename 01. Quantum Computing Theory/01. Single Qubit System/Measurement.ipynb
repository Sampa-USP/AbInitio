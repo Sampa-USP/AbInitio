{
 "cells": [
  {
   "cell_type": "code",
   "execution_count": 2,
   "id": "eb79845f-4535-4528-bcce-0088bce2dc52",
   "metadata": {
    "tags": []
   },
   "outputs": [],
   "source": [
    "import numpy as np"
   ]
  },
  {
   "cell_type": "code",
   "execution_count": 26,
   "id": "8c5a3325-7df0-4b2c-a90f-b91faae5110e",
   "metadata": {
    "tags": []
   },
   "outputs": [],
   "source": [
    "def measure_state(state, num_meas):\n",
    "    \"\"\"Simulate a quantum measurement process.\n",
    "\n",
    "    Args:\n",
    "        state (np.array[complex]): A normalized qubit state vector.\n",
    "        num_meas (int): The number of measurements to take\n",
    "\n",
    "    Returns:\n",
    "        np.array[int]: A set of num_meas samples, 0 or 1, chosen according to the probability\n",
    "        distribution defined by the input state.\n",
    "    \"\"\"\n",
    "\n",
    "    ##################\n",
    "    # YOUR CODE HERE #\n",
    "    ##################\n",
    "\n",
    "    # COMPUTE THE MEASUREMENT OUTCOME PROBABILITIES\n",
    "\n",
    "    # RETURN A LIST OF SAMPLE MEASUREMENT OUTCOMES\n",
    "    p_0 = np.real(np.square(abs(state[0])))\n",
    "    p_1 = np.real(np.square(abs(state[1])))\n",
    "    \n",
    "    print(p_0)\n",
    "    print(f'Pro: {tempC:.2f}')\n",
    "    measurement = np.random.choice([0, 1], size=(num_meas,), p=[p_0, p_1])\n",
    "\n",
    "    return measurement "
   ]
  },
  {
   "cell_type": "code",
   "execution_count": 27,
   "id": "e90b3b25-9168-4384-b3e2-e4af76c97798",
   "metadata": {
    "tags": []
   },
   "outputs": [
    {
     "name": "stdout",
     "output_type": "stream",
     "text": [
      "[0.48038446+0.32025631j 0.80064077+0.16012815j]\n",
      "[0 1 1 1 1 0 1 1 0 1]\n"
     ]
    }
   ],
   "source": [
    "state = np.array([3+2j, 5+1j])\n",
    "\n",
    "# normalizing state vector:\n",
    "normalized_state = state/np.linalg.norm(state)\n",
    "print(normalized_state)\n",
    "\n",
    "measurement_result = measure_state(normalized_state, 10)\n",
    "print(measurement_result)"
   ]
  }
 ],
 "metadata": {
  "kernelspec": {
   "display_name": "conda_braket",
   "language": "python",
   "name": "conda_braket"
  },
  "language_info": {
   "codemirror_mode": {
    "name": "ipython",
    "version": 3
   },
   "file_extension": ".py",
   "mimetype": "text/x-python",
   "name": "python",
   "nbconvert_exporter": "python",
   "pygments_lexer": "ipython3",
   "version": "3.10.14"
  }
 },
 "nbformat": 4,
 "nbformat_minor": 5
}
