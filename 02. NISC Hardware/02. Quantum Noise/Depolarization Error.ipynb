{
 "cells": [
  {
   "cell_type": "code",
   "execution_count": null,
   "id": "5645d2ee-b60b-44ab-9fc8-f32fb08858bf",
   "metadata": {},
   "outputs": [],
   "source": [
    "from braket.tracking import Tracker\n",
    "t = Tracker().start()"
   ]
  },
  {
   "cell_type": "code",
   "execution_count": null,
   "id": "55e4e299-23f2-4861-8f58-3de87c1b9fbb",
   "metadata": {},
   "outputs": [],
   "source": [
    "# AWS imports: Import Braket SDK modules\n",
    "from braket.circuits import Circuit\n",
    "from braket.devices import LocalSimulator"
   ]
  },
  {
   "cell_type": "code",
   "execution_count": null,
   "id": "502fe3eb-5f9a-45c6-a72b-77e4c24156da",
   "metadata": {},
   "outputs": [],
   "source": [
    "# function to build the circuit of interest\n",
    "def circuit(n_qubits, deph):\n",
    "    \"\"\"\n",
    "    function to return a circuit\n",
    "    input: number of qubits\n",
    "    \"\"\"\n",
    "\n",
    "    # instantiate circuit object\n",
    "    circuit = Circuit()\n",
    "    \n",
    "    # add Hadamard gate on first qubit\n",
    "    for i range(0,deph):\n",
    "        for j range(0, n_qubits):\n",
    "            circuit.h(j)\n",
    "\n",
    "    return circuit"
   ]
  },
  {
   "cell_type": "code",
   "execution_count": null,
   "id": "d45c815c-f600-49dc-8d17-4e64111ccfb6",
   "metadata": {},
   "outputs": [],
   "source": [
    "# create circuit\n",
    "\n",
    "circuit = circuit(4, 1000)"
   ]
  },
  {
   "cell_type": "code",
   "execution_count": null,
   "id": "63822761-b973-4088-8921-b38ea2e03968",
   "metadata": {},
   "outputs": [],
   "source": [
    "def run_comparing_task(device):\n",
    "    for deph range(0, 1000, 100):\n",
    "        circuit(n_qubits, deph)\n",
    "\n",
    "        # run circuit\n",
    "        result = device.run(ghz, shots=1000).result()\n",
    "        # get measurement shots\n",
    "        counts = result.measurement_counts\n",
    "        # print counts\n",
    "        # -> Calcula o valor esperado\n",
    "        # -> armazena o resultado em uma lista para plotagem tupla: (deph, valor esperado)\n",
    "    return #lista com os dados"
   ]
  },
  {
   "cell_type": "code",
   "execution_count": null,
   "id": "536c4cd9-5302-45c2-ab09-87ca4259ff39",
   "metadata": {},
   "outputs": [],
   "source": [
    "# set up device: Local Simulator\n",
    "device_qpu = # get device\n",
    "\n",
    "# set up device: Local Simulator\n",
    "device_simulator = LocalSimulator()\n",
    "\n"
   ]
  },
  {
   "cell_type": "code",
   "execution_count": null,
   "id": "7e889e8f-9a9c-44c6-baa3-ccb41a6f26d2",
   "metadata": {},
   "outputs": [],
   "source": [
    "resultset_1 = run_comparing_task(device_simulator)\n",
    "resultset_2 = run_comparing_task(device_qpu)"
   ]
  },
  {
   "cell_type": "markdown",
   "id": "4517f256-35a0-4c46-974a-565acc848a58",
   "metadata": {},
   "source": [
    "<h1>Results</h1>"
   ]
  },
  {
   "cell_type": "code",
   "execution_count": 6,
   "id": "209e7a54-7a9b-4be5-8ef6-bb548ad79479",
   "metadata": {
    "tags": []
   },
   "outputs": [
    {
     "data": {
      "image/png": "[encoded data removed]",
      "text/plain": [
       "<Figure size 640x480 with 1 Axes>"
      ]
     },
     "metadata": {},
     "output_type": "display_data"
    }
   ],
   "source": [
    "import matplotlib.pyplot as plt\n",
    "import numpy as np\n",
    "\n",
    "xdata = np.random.random([10])\n",
    "ydata = np.random.random([10])\n",
    "\n",
    "xdata.sort()\n",
    "ydata.sort()\n",
    "\n",
    "fig = plt.figure()\n",
    "ax = fig.add_subplot(1,1,1)\n",
    "ax.plot(xdata, ydata, 'r', xdata ** 2, ydata ** 2, 'b')\n",
    "plt.show()"
   ]
  }
 ],
 "metadata": {
  "kernelspec": {
   "display_name": "conda_braket",
   "language": "python",
   "name": "conda_braket"
  },
  "language_info": {
   "codemirror_mode": {
    "name": "ipython",
    "version": 3
   },
   "file_extension": ".py",
   "mimetype": "text/x-python",
   "name": "python",
   "nbconvert_exporter": "python",
   "pygments_lexer": "ipython3",
   "version": "3.10.14"
  }
 },
 "nbformat": 4,
 "nbformat_minor": 5
}
