{
 "cells": [
  {
   "cell_type": "code",
   "execution_count": 6,
   "metadata": {},
   "outputs": [],
   "source": [
    "from qiskit_nature.units import *   #ANGSTROM\n",
    "from qiskit_nature.second_q.drivers import *    #PySCFDriver\n",
    "from qiskit_nature.second_q.mappers import * #JordanWignerMapper\n",
    "from qiskit_nature.second_q.algorithms import GroundStateEigensolver\n",
    "from qiskit_nature.second_q.problems import ElectronicStructureProblem\n",
    "from qiskit_nature.second_q.problems import EigenstateResult\n",
    "from qiskit_nature.second_q.circuit.library import *  #Ansatz, HF\n",
    "#from qiskit_ibm_runtime import QiskitRuntimeService, Session, Estimator, Options\n",
    "from qiskit_algorithms.optimizers import * \n",
    "from qiskit_algorithms import VQE\n",
    "from braket.tracking import Tracker\n",
    "from qiskit_braket_provider import *\n",
    "from qiskit_aer import StatevectorSimulator\n",
    "from qiskit.primitives import Estimator\n",
    "from qiskit_nature.second_q.transformers import ActiveSpaceTransformer\n",
    "\n",
    "import numpy as np"
   ]
  },
  {
   "cell_type": "code",
   "execution_count": 7,
   "metadata": {},
   "outputs": [],
   "source": [
    "def h2_padrao(d,mapper = BravyiKitaevMapper()):\n",
    "\n",
    "    driver = PySCFDriver(atom=f\"H 0 0 0; H 0 0 {d}\", basis=\"sto-3g\")\n",
    "    estrutura_otimizada = driver.run() #Criamos a estrutura do nosso sistema\n",
    "\n",
    "    ansatz = UCCSD(\n",
    "        estrutura_otimizada.num_spatial_orbitals,\n",
    "        estrutura_otimizada.num_particles,\n",
    "        mapper,\n",
    "        initial_state=HartreeFock(\n",
    "            estrutura_otimizada.num_spatial_orbitals,\n",
    "            estrutura_otimizada.num_particles,\n",
    "            mapper))\n",
    "\n",
    "\n",
    "    vqe_solver = VQE(Estimator(), ansatz, SLSQP())\n",
    "    vqe_solver.initial_point = [0.0] * ansatz.num_parameters\n",
    "    calculo = GroundStateEigensolver(mapper, vqe_solver)\n",
    "    resultados = calculo.solve(estrutura_otimizada)\n",
    "\n",
    "    return [resultados.groundenergy + resultados.nuclear_repulsion_energy, resultados.groundenergy, resultados.nuclear_repulsion_energy]"
   ]
  },
  {
   "cell_type": "code",
   "execution_count": 23,
   "metadata": {},
   "outputs": [],
   "source": [
    "def h2_active_space(d,mapper = BravyiKitaevMapper()):\n",
    "\n",
    "    driver = PySCFDriver(atom=f\"H 0 0 0; H 0 0 {d}\", basis=\"sto-3g\")\n",
    "    estrutura_inicial = driver.run() #Criamos a estrutura do nosso sistema\n",
    "\n",
    "    espaco_target = ActiveSpaceTransformer(2,2) #Active Space para o H2\n",
    "    estrutura_otimizada = espaco_target.transform(estrutura_inicial) #mudando nossa hamiltoniana para o active space\n",
    "\n",
    "\n",
    "    ansatz = UCCSD(\n",
    "        estrutura_otimizada.num_spatial_orbitals,\n",
    "        estrutura_otimizada.num_particles,\n",
    "        mapper,\n",
    "        initial_state=HartreeFock(\n",
    "            estrutura_otimizada.num_spatial_orbitals,\n",
    "            estrutura_otimizada.num_particles,\n",
    "            mapper))\n",
    "\n",
    "\n",
    "    vqe_solver = VQE(Estimator(), ansatz, SLSQP())\n",
    "    vqe_solver.initial_point = [0.0] * ansatz.num_parameters\n",
    "    calculo = GroundStateEigensolver(mapper, vqe_solver)\n",
    "    resultados = calculo.solve(estrutura_otimizada)\n",
    "\n",
    "    return [resultados.groundenergy + resultados.nuclear_repulsion_energy, resultados.groundenergy, resultados.nuclear_repulsion_energy]"
   ]
  },
  {
   "cell_type": "code",
   "execution_count": 13,
   "metadata": {},
   "outputs": [],
   "source": [
    "intervalo = np.concatenate((np.linspace(0.2,2.5,15), np.linspace(2.5,5,5)))\n"
   ]
  },
  {
   "cell_type": "code",
   "execution_count": 14,
   "metadata": {},
   "outputs": [],
   "source": [
    "diferenca = np.array(h2_active_space(d=20))\n",
    "dados = [np.array(h2_active_space(a)) - diferenca for a in intervalo]\n",
    "PES = [dados[i][0] for i in range(len(dados))]"
   ]
  },
  {
   "cell_type": "code",
   "execution_count": 15,
   "metadata": {},
   "outputs": [],
   "source": [
    "diff = np.array(h2_padrao(d=20))\n",
    "dados_teste = [np.array(h2_padrao(a)) - diff for a in intervalo]\n",
    "PES_teste = [dados_teste[i][0] for i in range(len(dados_teste))]"
   ]
  },
  {
   "cell_type": "code",
   "execution_count": 16,
   "metadata": {},
   "outputs": [],
   "source": [
    "gse = [dados_teste[i][1] for i in range(len(dados_teste))]\n",
    "nuclear = [dados_teste[i][2] for i in range(len(dados_teste))]"
   ]
  },
  {
   "cell_type": "code",
   "execution_count": 37,
   "metadata": {},
   "outputs": [
    {
     "data": {
      "image/png": "[encoded data removed]",
      "text/plain": [
       "<Figure size 500x400 with 1 Axes>"
      ]
     },
     "metadata": {},
     "output_type": "display_data"
    }
   ],
   "source": [
    "import matplotlib.pyplot as plt\n",
    "plt.style.use('science')\n",
    "#with plt.style.context(\"science\"):\n",
    "\n",
    "a = plt.figure()\n",
    "a.set_figwidth(5)\n",
    "a.set_figheight(4)\n",
    "plt.xlim(0.2,3.5)\n",
    "plt.ylim(-2,1)\n",
    "plt.plot(intervalo,PES_teste, label = 'Energia Potencial da Molécula')\n",
    "plt.plot(intervalo,gse, label = 'Energia da Hamiltoniana')\n",
    "plt.plot(intervalo, nuclear, label = 'Energia de Repulsão Nuclear')\n",
    "plt.xlabel('Distância Interatômica (Å)')\n",
    "plt.ylabel('Energia (Ha)')\n",
    "plt.title('Energia x Distância para a molécula de $H_2$')\n",
    "plt.legend()\n",
    "plt.show()\n"
   ]
  },
  {
   "cell_type": "code",
   "execution_count": 17,
   "metadata": {},
   "outputs": [],
   "source": [
    "driver = PySCFDriver(atom=\"O 0 0 -1.16; C 0 0 0; O 0 0 1.16\", basis=\"sto-3g\")\n",
    "pre_problem = driver.run() #Criamos a estrutura do nosso sistema\n",
    "\n",
    "target = ActiveSpaceTransformer(8,8) #Active Space para o CO2\n",
    "problem = target.transform(pre_problem) #mudando nossa hamiltoniana para o active space\n",
    "\n",
    "mapper =  BravyiKitaevMapper()\n",
    "\n",
    "\n"
   ]
  },
  {
   "cell_type": "code",
   "execution_count": 21,
   "metadata": {},
   "outputs": [
    {
     "name": "stdout",
     "output_type": "stream",
     "text": [
      "15\n",
      "30\n"
     ]
    }
   ],
   "source": [
    "#padrão\n",
    "print(pre_problem.num_spatial_orbitals)\n",
    "print(pre_problem.num_spin_orbitals)"
   ]
  },
  {
   "cell_type": "code",
   "execution_count": 22,
   "metadata": {},
   "outputs": [
    {
     "name": "stdout",
     "output_type": "stream",
     "text": [
      "8\n",
      "16\n"
     ]
    }
   ],
   "source": [
    "#active space\n",
    "print(problem.num_spatial_orbitals)\n",
    "print(problem.num_spin_orbitals)"
   ]
  },
  {
   "cell_type": "code",
   "execution_count": null,
   "metadata": {},
   "outputs": [],
   "source": [
    "print()"
   ]
  },
  {
   "cell_type": "code",
   "execution_count": null,
   "metadata": {},
   "outputs": [],
   "source": [
    "ansatz = UCCSD(\n",
    "    problem.num_spatial_orbitals,\n",
    "    problem.num_particles,\n",
    "    mapper,\n",
    "    initial_state=HartreeFock(\n",
    "        problem.num_spatial_orbitals,\n",
    "        problem.num_particles,\n",
    "        mapper))\n",
    "\n",
    "\n",
    "vqe_solver = VQE(Estimator(), ansatz, SLSQP())\n",
    "vqe_solver.initial_point = [0.0] * ansatz.num_parameters"
   ]
  },
  {
   "cell_type": "code",
   "execution_count": null,
   "metadata": {},
   "outputs": [],
   "source": []
  }
 ],
 "metadata": {
  "kernelspec": {
   "display_name": "Python 3",
   "language": "python",
   "name": "python3"
  },
  "language_info": {
   "codemirror_mode": {
    "name": "ipython",
    "version": 3
   },
   "file_extension": ".py",
   "mimetype": "text/x-python",
   "name": "python",
   "nbconvert_exporter": "python",
   "pygments_lexer": "ipython3",
   "version": "3.10.12"
  }
 },
 "nbformat": 4,
 "nbformat_minor": 2
}
