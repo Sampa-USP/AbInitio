{
 "cells": [
  {
   "cell_type": "code",
   "execution_count": 157,
   "id": "7328ad33-59ca-4b01-807d-fe0c7889120a",
   "metadata": {
    "tags": []
   },
   "outputs": [],
   "source": [
    "from braket.tracking import Tracker\n",
    "t = Tracker().start()"
   ]
  },
  {
   "cell_type": "code",
   "execution_count": 158,
   "id": "d13e2085-3633-44f3-92b1-59c920f978c3",
   "metadata": {
    "tags": []
   },
   "outputs": [],
   "source": [
    "# general imports\n",
    "import matplotlib.pyplot as plt\n",
    "# magic word for producing visualizations in notebook\n",
    "%matplotlib inline\n",
    "import string\n",
    "import time\n",
    "\n",
    "# AWS imports: Import Braket SDK modules\n",
    "from braket.aws import AwsDevice, AwsQuantumTask\n",
    "from braket.circuits import Circuit, Gate, observables\n",
    "from braket.device_schema import DeviceActionType\n",
    "from braket.devices import Devices, LocalSimulator\n",
    "from braket.parametric import FreeParameter"
   ]
  },
  {
   "cell_type": "code",
   "execution_count": 159,
   "id": "f628beac-93a8-4ab1-bb1a-4f385be21d90",
   "metadata": {
    "tags": []
   },
   "outputs": [
    {
     "data": {
      "text/plain": [
       "Circuit('instructions': [Instruction('operator': Ry('angle': 0.0, 'qubit_count': 1), 'target': QubitSet([Qubit(0)]), 'control': QubitSet([]), 'control_state': (), 'power': 1), Instruction('operator': Rz('angle': 0.36959914, 'qubit_count': 1), 'target': QubitSet([Qubit(0)]), 'control': QubitSet([]), 'control_state': (), 'power': 1), Instruction('operator': Ry('angle': 0.73919827, 'qubit_count': 1), 'target': QubitSet([Qubit(1)]), 'control': QubitSet([]), 'control_state': (), 'power': 1), Instruction('operator': Rz('angle': 1.10879741, 'qubit_count': 1), 'target': QubitSet([Qubit(1)]), 'control': QubitSet([]), 'control_state': (), 'power': 1), Instruction('operator': Ry('angle': 1.47839654, 'qubit_count': 1), 'target': QubitSet([Qubit(2)]), 'control': QubitSet([]), 'control_state': (), 'power': 1), Instruction('operator': Rz('angle': 1.84799568, 'qubit_count': 1), 'target': QubitSet([Qubit(2)]), 'control': QubitSet([]), 'control_state': (), 'power': 1), Instruction('operator': CNot('qubit_count': 2), 'target': QubitSet([Qubit(0), Qubit(1)]), 'control': QubitSet([]), 'control_state': (), 'power': 1), Instruction('operator': CNot('qubit_count': 2), 'target': QubitSet([Qubit(1), Qubit(2)]), 'control': QubitSet([]), 'control_state': (), 'power': 1), Instruction('operator': Ry('angle': 2.21759481, 'qubit_count': 1), 'target': QubitSet([Qubit(0)]), 'control': QubitSet([]), 'control_state': (), 'power': 1), Instruction('operator': Rz('angle': 2.58719395, 'qubit_count': 1), 'target': QubitSet([Qubit(0)]), 'control': QubitSet([]), 'control_state': (), 'power': 1), Instruction('operator': Ry('angle': 2.95679309, 'qubit_count': 1), 'target': QubitSet([Qubit(1)]), 'control': QubitSet([]), 'control_state': (), 'power': 1), Instruction('operator': Rz('angle': 3.32639222, 'qubit_count': 1), 'target': QubitSet([Qubit(1)]), 'control': QubitSet([]), 'control_state': (), 'power': 1), Instruction('operator': Ry('angle': 3.69599136, 'qubit_count': 1), 'target': QubitSet([Qubit(2)]), 'control': QubitSet([]), 'control_state': (), 'power': 1), Instruction('operator': Rz('angle': 4.06559049, 'qubit_count': 1), 'target': QubitSet([Qubit(2)]), 'control': QubitSet([]), 'control_state': (), 'power': 1), Instruction('operator': CNot('qubit_count': 2), 'target': QubitSet([Qubit(0), Qubit(1)]), 'control': QubitSet([]), 'control_state': (), 'power': 1), Instruction('operator': CNot('qubit_count': 2), 'target': QubitSet([Qubit(1), Qubit(2)]), 'control': QubitSet([]), 'control_state': (), 'power': 1), Instruction('operator': Ry('angle': 4.43518963, 'qubit_count': 1), 'target': QubitSet([Qubit(0)]), 'control': QubitSet([]), 'control_state': (), 'power': 1), Instruction('operator': Rz('angle': 4.80478876, 'qubit_count': 1), 'target': QubitSet([Qubit(0)]), 'control': QubitSet([]), 'control_state': (), 'power': 1), Instruction('operator': Ry('angle': 5.1743879, 'qubit_count': 1), 'target': QubitSet([Qubit(1)]), 'control': QubitSet([]), 'control_state': (), 'power': 1), Instruction('operator': Rz('angle': 5.54398704, 'qubit_count': 1), 'target': QubitSet([Qubit(1)]), 'control': QubitSet([]), 'control_state': (), 'power': 1), Instruction('operator': Ry('angle': 5.91358617, 'qubit_count': 1), 'target': QubitSet([Qubit(2)]), 'control': QubitSet([]), 'control_state': (), 'power': 1), Instruction('operator': Rz('angle': 6.28318531, 'qubit_count': 1), 'target': QubitSet([Qubit(2)]), 'control': QubitSet([]), 'control_state': (), 'power': 1), Instruction('operator': CNot('qubit_count': 2), 'target': QubitSet([Qubit(0), Qubit(1)]), 'control': QubitSet([]), 'control_state': (), 'power': 1), Instruction('operator': CNot('qubit_count': 2), 'target': QubitSet([Qubit(1), Qubit(2)]), 'control': QubitSet([]), 'control_state': (), 'power': 1)])"
      ]
     },
     "execution_count": 159,
     "metadata": {},
     "output_type": "execute_result"
    }
   ],
   "source": [
    "# Define a circuit\n",
    "\n",
    "nqubits=3\n",
    "nlayers=3\n",
    "nshots=2000\n",
    "\n",
    "circ = Circuit()\n",
    "\n",
    "circ.ry(0, 0)\n",
    "circ.rz(0, 0.36959914)\n",
    "circ.ry(1, 0.73919827)\n",
    "circ.rz(1, 1.10879741)\n",
    "circ.ry(2, 1.47839654)\n",
    "circ.rz(2, 1.84799568)\n",
    "circ.cnot(0, 1)\n",
    "circ.cnot(1, 2)\n",
    "circ.ry(0, 2.21759481)\n",
    "circ.rz(0, 2.58719395)\n",
    "circ.ry(1, 2.95679309)\n",
    "circ.rz(1, 3.32639222)\n",
    "circ.ry(2, 3.69599136)\n",
    "circ.rz(2, 4.06559049)\n",
    "circ.cnot(0, 1)\n",
    "circ.cnot(1, 2)\n",
    "circ.ry(0, 4.43518963)\n",
    "circ.rz(0, 4.80478876)\n",
    "circ.ry(1, 5.1743879)\n",
    "circ.rz(1, 5.54398704)\n",
    "circ.ry(2, 5.91358617)\n",
    "circ.rz(2, 6.28318531)\n",
    "circ.cnot(0, 1)\n",
    "circ.cnot(1, 2)\n"
   ]
  },
  {
   "cell_type": "code",
   "execution_count": 160,
   "id": "9a0f4582-7208-4281-80de-3a9876411720",
   "metadata": {
    "tags": []
   },
   "outputs": [
    {
     "name": "stdout",
     "output_type": "stream",
     "text": [
      "T  : │     0      │     1      │  2  │     3      │     4      │     5      │  6  │     7      │     8      │     9      │ 10  │ 11  │\n",
      "       ┌───────┐   ┌──────────┐       ┌──────────┐ ┌──────────┐                    ┌──────────┐ ┌──────────┐                          \n",
      "q0 : ──┤ Ry(0) ├───┤ Rz(0.37) ├───●───┤ Ry(2.22) ├─┤ Rz(2.59) ├────────────────●───┤ Ry(4.44) ├─┤ Rz(4.80) ├────────────────●─────────\n",
      "       └───────┘   └──────────┘   │   └──────────┘ └──────────┘                │   └──────────┘ └──────────┘                │         \n",
      "      ┌──────────┐ ┌──────────┐ ┌─┴─┐              ┌──────────┐ ┌──────────┐ ┌─┴─┐              ┌──────────┐ ┌──────────┐ ┌─┴─┐       \n",
      "q1 : ─┤ Ry(0.74) ├─┤ Rz(1.11) ├─┤ X ├──────●───────┤ Ry(2.96) ├─┤ Rz(3.33) ├─┤ X ├──────●───────┤ Ry(5.17) ├─┤ Rz(5.54) ├─┤ X ├───●───\n",
      "      └──────────┘ └──────────┘ └───┘      │       └──────────┘ └──────────┘ └───┘      │       └──────────┘ └──────────┘ └───┘   │   \n",
      "      ┌──────────┐ ┌──────────┐          ┌─┴─┐     ┌──────────┐ ┌──────────┐          ┌─┴─┐     ┌──────────┐ ┌──────────┐       ┌─┴─┐ \n",
      "q2 : ─┤ Ry(1.48) ├─┤ Rz(1.85) ├──────────┤ X ├─────┤ Ry(3.70) ├─┤ Rz(4.07) ├──────────┤ X ├─────┤ Ry(5.91) ├─┤ Rz(6.28) ├───────┤ X ├─\n",
      "      └──────────┘ └──────────┘          └───┘     └──────────┘ └──────────┘          └───┘     └──────────┘ └──────────┘       └───┘ \n",
      "T  : │     0      │     1      │  2  │     3      │     4      │     5      │  6  │     7      │     8      │     9      │ 10  │ 11  │\n"
     ]
    }
   ],
   "source": [
    "print(circ)"
   ]
  },
  {
   "cell_type": "code",
   "execution_count": 161,
   "id": "a6ffcf95-20b7-4083-9e89-363fd3ce18a4",
   "metadata": {
    "tags": []
   },
   "outputs": [],
   "source": [
    "# set up device: Local Simulator\n",
    "device = LocalSimulator()"
   ]
  },
  {
   "cell_type": "code",
   "execution_count": 165,
   "id": "84095ef3-dff0-4d6c-ad42-a07511bd2fa4",
   "metadata": {
    "tags": []
   },
   "outputs": [
    {
     "name": "stdout",
     "output_type": "stream",
     "text": [
      "Counter({'011': 631, '001': 531, '111': 406, '110': 130, '101': 121, '000': 96, '010': 55, '100': 30})\n"
     ]
    }
   ],
   "source": [
    "# run circuit (execute single TASK)\n",
    "result = device.run(circ, shots=nshots).result()\n",
    "# get measurement shots\n",
    "counts = result.measurement_counts\n",
    "# print counts\n",
    "print(counts)"
   ]
  },
  {
   "cell_type": "code",
   "execution_count": 167,
   "id": "397156b4-b7bc-4e33-918b-2ffef441aa43",
   "metadata": {
    "tags": []
   },
   "outputs": [
    {
     "name": "stdout",
     "output_type": "stream",
     "text": [
      "Counter({'011': 631, '001': 531, '111': 406, '110': 130, '101': 121, '000': 96, '010': 55, '100': 30})\n"
     ]
    },
    {
     "data": {
      "text/plain": [
       "Text(0, 0.5, 'counts')"
      ]
     },
     "execution_count": 167,
     "metadata": {},
     "output_type": "execute_result"
    },
    {
     "data": {
      "image/png": "[encoded data removed]",
      "text/plain": [
       "<Figure size 640x480 with 1 Axes>"
      ]
     },
     "metadata": {},
     "output_type": "display_data"
    }
   ],
   "source": [
    "# plot using Counter\n",
    "\n",
    "print(counts)\n",
    "count = dict(sorted(counts.items(),key=lambda x:x[0]))\n",
    "\n",
    "plt.bar(count.keys(), count.values())\n",
    "plt.xlabel('bitstrings')\n",
    "plt.ylabel('counts')"
   ]
  },
  {
   "cell_type": "code",
   "execution_count": 169,
   "id": "25d45a4c-fd22-4967-9c27-8983ec2036fc",
   "metadata": {
    "tags": []
   },
   "outputs": [],
   "source": [
    "obs_matrix = np.array([[-3.-0.j,-0.-0.j,-0.-0.j,-0.-0.j,-0.-0.j,-0.-0.j,-0.-0.j,-0.-0.j],\n",
    "                               [-0.-0.j,-1.-0.j,-0.-0.j,-0.-0.j,-0.-0.j,-0.-0.j,-0.-0.j,-0.-0.j],\n",
    "                               [-0.-0.j,-0.-0.j,-1.-0.j,-0.-0.j,-0.-0.j,-0.-0.j,-0.-0.j,-0.-0.j],\n",
    "                               [-0.-0.j,-0.-0.j,-0.-0.j,1.-0.j,-0.-0.j,-0.-0.j,-0.-0.j,-0.-0.j],\n",
    "                               [-0.-0.j,-0.-0.j,-0.-0.j,-0.-0.j,-1.-0.j,-0.-0.j,-0.-0.j,-0.-0.j],\n",
    "                               [-0.-0.j,-0.-0.j,-0.-0.j,-0.-0.j,-0.-0.j,1.-0.j,-0.-0.j,-0.-0.j],\n",
    "                               [-0.-0.j,-0.-0.j,-0.-0.j,-0.-0.j,-0.-0.j,-0.-0.j,1.-0.j,-0.-0.j],\n",
    "                               [-0.-0.j,-0.-0.j,-0.-0.j,-0.-0.j,-0.-0.j,-0.-0.j,-0.-0.j,3.-0.j]])\n",
    "\n",
    "def expectation_from_samples(obs, freq, qubit_map=None):\n",
    "    if np.count_nonzero(obs - np.diag(np.diagonal(obs))) != 0:\n",
    "        raise_error(NotImplementedError, \"Observable is not diagonal.\")\n",
    "    keys = list(freq.keys())\n",
    "    if qubit_map is None:\n",
    "        qubit_map = list(range(int(np.log2(len(obs)))))\n",
    "    counts = np.array(list(freq.values())) / sum(freq.values())\n",
    "    expval = 0\n",
    "    size = len(qubit_map)\n",
    "    for j, k in enumerate(keys):\n",
    "        index = 0\n",
    "        for i in qubit_map:\n",
    "            index += int(k[qubit_map.index(i)]) * 2 ** (size - 1 - i)\n",
    "        expval += obs[index, index] * counts[j]\n",
    "    return np.real(expval)"
   ]
  },
  {
   "cell_type": "code",
   "execution_count": 170,
   "id": "1648b87e-2366-42e4-b722-ca18ef8db636",
   "metadata": {
    "tags": []
   },
   "outputs": [
    {
     "data": {
      "text/plain": [
       "0.5979999999999999"
      ]
     },
     "execution_count": 170,
     "metadata": {},
     "output_type": "execute_result"
    }
   ],
   "source": [
    "expectation_from_samples(obs_matrix, count)"
   ]
  }
 ],
 "metadata": {
  "kernelspec": {
   "display_name": "conda_braket",
   "language": "python",
   "name": "conda_braket"
  },
  "language_info": {
   "codemirror_mode": {
    "name": "ipython",
    "version": 3
   },
   "file_extension": ".py",
   "mimetype": "text/x-python",
   "name": "python",
   "nbconvert_exporter": "python",
   "pygments_lexer": "ipython3",
   "version": "3.10.14"
  }
 },
 "nbformat": 4,
 "nbformat_minor": 5
}
